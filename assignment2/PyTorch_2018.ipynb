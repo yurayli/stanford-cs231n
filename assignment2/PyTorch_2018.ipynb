{
 "cells": [
  {
   "cell_type": "markdown",
   "metadata": {
    "colab_type": "text",
    "id": "cCT8FUXZAZ0x"
   },
   "source": [
    "# What's this PyTorch business?\n",
    "\n",
    "You've written a lot of code in this assignment to provide a whole host of neural network functionality. Dropout, Batch Norm, and 2D convolutions are some of the workhorses of deep learning in computer vision. You've also worked hard to make your code efficient and vectorized.\n",
    "\n",
    "For the last part of this assignment, though, we're going to leave behind your beautiful codebase and instead migrate to one of two popular deep learning frameworks: in this instance, PyTorch (or TensorFlow, if you switch over to that notebook). \n",
    "\n",
    "### What is PyTorch?\n",
    "\n",
    "PyTorch is a system for executing dynamic computational graphs over Tensor objects that behave similarly as numpy ndarray. It comes with a powerful automatic differentiation engine that removes the need for manual back-propagation. \n",
    "\n",
    "### Why?\n",
    "\n",
    "* Our code will now run on GPUs! Much faster training. When using a framework like PyTorch or TensorFlow you can harness the power of the GPU for your own custom neural network architectures without having to write CUDA code directly (which is beyond the scope of this class).\n",
    "* We want you to be ready to use one of these frameworks for your project so you can experiment more efficiently than if you were writing every feature you want to use by hand. \n",
    "* We want you to stand on the shoulders of giants! TensorFlow and PyTorch are both excellent frameworks that will make your lives a lot easier, and now that you understand their guts, you are free to use them :) \n",
    "* We want you to be exposed to the sort of deep learning code you might run into in academia or industry.\n",
    "\n",
    "### PyTorch versions\n",
    "This notebook assumes that you are using **PyTorch version 0.4**. Prior to this version, Tensors had to be wrapped in Variable objects to be used in autograd; however Variables have now been deprecated. In addition 0.4 also separates a Tensor's datatype from its device, and uses numpy-style factories for constructing Tensors rather than directly invoking Tensor constructors."
   ]
  },
  {
   "cell_type": "markdown",
   "metadata": {
    "colab_type": "text",
    "id": "GctL_-RdAZ0y"
   },
   "source": [
    "## How will I learn PyTorch?\n",
    "\n",
    "Justin Johnson has made an excellent [tutorial](https://github.com/jcjohnson/pytorch-examples) for PyTorch. \n",
    "\n",
    "You can also find the detailed [API doc](http://pytorch.org/docs/stable/index.html) here. If you have other questions that are not addressed by the API docs, the [PyTorch forum](https://discuss.pytorch.org/) is a much better place to ask than StackOverflow.\n",
    "\n",
    "\n",
    "# Table of Contents\n",
    "\n",
    "This assignment has 5 parts. You will learn PyTorch on different levels of abstractions, which will help you understand it better and prepare you for the final project. \n",
    "\n",
    "1. Preparation: we will use CIFAR-10 dataset.\n",
    "2. Barebones PyTorch: we will work directly with the lowest-level PyTorch Tensors. \n",
    "3. PyTorch Module API: we will use `nn.Module` to define arbitrary neural network architecture. \n",
    "4. PyTorch Sequential API: we will use `nn.Sequential` to define a linear feed-forward network very conveniently. \n",
    "5. CIFAR-10 open-ended challenge: please implement your own network to get as high accuracy as possible on CIFAR-10. You can experiment with any layer, optimizer, hyperparameters or other advanced features. \n",
    "\n",
    "Here is a table of comparison:\n",
    "\n",
    "| API           | Flexibility | Convenience |\n",
    "|---------------|-------------|-------------|\n",
    "| Barebone      | High        | Low         |\n",
    "| `nn.Module`     | High        | Medium      |\n",
    "| `nn.Sequential` | Low         | High        |"
   ]
  },
  {
   "cell_type": "markdown",
   "metadata": {
    "colab_type": "text",
    "id": "x6wN9vzUAZ00"
   },
   "source": [
    "# Part I. Preparation\n",
    "\n",
    "First, we load the CIFAR-10 dataset. This might take a couple minutes the first time you do it, but the files should stay cached after that.\n",
    "\n",
    "In previous parts of the assignment we had to write our own code to download the CIFAR-10 dataset, preprocess it, and iterate through it in minibatches; PyTorch provides convenient tools to automate this process for us."
   ]
  },
  {
   "cell_type": "code",
   "execution_count": 1,
   "metadata": {
    "colab": {
     "autoexec": {
      "startup": false,
      "wait_interval": 0
     },
     "base_uri": "https://localhost:8080/",
     "height": 94
    },
    "colab_type": "code",
    "executionInfo": {
     "elapsed": 34742,
     "status": "ok",
     "timestamp": 1529377192555,
     "user": {
      "displayName": "radream",
      "photoUrl": "//lh3.googleusercontent.com/-y8V6pdyk_ro/AAAAAAAAAAI/AAAAAAAAA6Y/SINQvfcEI-s/s50-c-k-no/photo.jpg",
      "userId": "118358371009498594123"
     },
     "user_tz": -480
    },
    "id": "j37Emg1-wjIo",
    "outputId": "a2f62bb9-be8d-4cc9-f75c-0408d9854e61"
   },
   "outputs": [
    {
     "name": "stdout",
     "output_type": "stream",
     "text": [
      "tcmalloc: large alloc 1073750016 bytes == 0x5c110000 @  0x7fa5529c41c4 0x46d6a4 0x5fcbcc 0x4c494d 0x54f3c4 0x553aaf 0x54e4c8 0x54f4f6 0x553aaf 0x54efc1 0x54f24d 0x553aaf 0x54efc1 0x54f24d 0x553aaf 0x54efc1 0x54f24d 0x551ee0 0x54e4c8 0x54f4f6 0x553aaf 0x54efc1 0x54f24d 0x551ee0 0x54efc1 0x54f24d 0x551ee0 0x54e4c8 0x54f4f6 0x553aaf 0x54e4c8\r\n"
     ]
    }
   ],
   "source": [
    "# if the notebook is runned on google colab\n",
    "from os import path\n",
    "from wheel.pep425tags import get_abbr_impl, get_impl_ver, get_abi_tag\n",
    "platform = '{}{}-{}'.format(get_abbr_impl(), get_impl_ver(), get_abi_tag())\n",
    "\n",
    "accelerator = 'cu80' if path.exists('/opt/bin/nvidia-smi') else 'cpu'\n",
    "\n",
    "!pip install -q http://download.pytorch.org/whl/{accelerator}/torch-0.4.0-{platform}-linux_x86_64.whl torchvision"
   ]
  },
  {
   "cell_type": "code",
   "execution_count": 2,
   "metadata": {
    "colab": {
     "autoexec": {
      "startup": false,
      "wait_interval": 0
     },
     "base_uri": "https://localhost:8080/",
     "height": 51
    },
    "colab_type": "code",
    "executionInfo": {
     "elapsed": 7657,
     "status": "ok",
     "timestamp": 1529377202517,
     "user": {
      "displayName": "radream",
      "photoUrl": "//lh3.googleusercontent.com/-y8V6pdyk_ro/AAAAAAAAAAI/AAAAAAAAA6Y/SINQvfcEI-s/s50-c-k-no/photo.jpg",
      "userId": "118358371009498594123"
     },
     "user_tz": -480
    },
    "id": "41_iKgliAZ02",
    "outputId": "0d55082d-b6fe-4fa0-bf1c-a3a9f443351e"
   },
   "outputs": [
    {
     "name": "stdout",
     "output_type": "stream",
     "text": [
      "0.4.0\n",
      "True\n"
     ]
    }
   ],
   "source": [
    "%matplotlib inline\n",
    "import matplotlib.pyplot as plt\n",
    "\n",
    "from time import time\n",
    "import numpy as np\n",
    "\n",
    "import torch\n",
    "import torch.nn as nn\n",
    "import torch.nn.functional as F\n",
    "import torch.optim as optim\n",
    "from torch.utils.data import DataLoader\n",
    "from torch.utils.data import sampler\n",
    "\n",
    "import torchvision.datasets as dset\n",
    "import torchvision.transforms as T\n",
    "\n",
    "print(torch.__version__)\n",
    "print(torch.cuda.is_available())"
   ]
  },
  {
   "cell_type": "code",
   "execution_count": 0,
   "metadata": {
    "colab": {
     "autoexec": {
      "startup": false,
      "wait_interval": 0
     }
    },
    "colab_type": "code",
    "id": "EwoYjyLtKW6o"
   },
   "outputs": [],
   "source": [
    "NUM_TRAIN = 49000\n",
    "\n",
    "# The torchvision.transforms package provides tools for preprocessing data\n",
    "# and for performing data augmentation; here we set up a transform to\n",
    "# preprocess the data by subtracting the mean RGB value and dividing by the\n",
    "# standard deviation of each RGB value; we've hardcoded the mean and std.\n",
    "transform = T.Compose([\n",
    "                T.ToTensor(),\n",
    "                T.Normalize((0.4914, 0.4822, 0.4465), (0.2023, 0.1994, 0.2010))\n",
    "            ])\n",
    "\n",
    "# We set up a Dataset object for each split (train / val / test); Datasets load\n",
    "# training examples one at a time, so we wrap each Dataset in a DataLoader which\n",
    "# iterates through the Dataset and forms minibatches. We divide the CIFAR-10\n",
    "# training set into train and val sets by passing a Sampler object to the\n",
    "# DataLoader telling how it should sample from the underlying Dataset.\n",
    "cifar10_train = dset.CIFAR10('./cs231n/datasets', train=True, download=True,\n",
    "                             transform=transform)\n",
    "loader_train = DataLoader(cifar10_train, batch_size=64, \n",
    "                          sampler=sampler.SubsetRandomSampler(range(NUM_TRAIN)))\n",
    "\n",
    "cifar10_val = dset.CIFAR10('./cs231n/datasets', train=True, download=True,\n",
    "                           transform=transform)\n",
    "loader_val = DataLoader(cifar10_val, batch_size=64, \n",
    "                        sampler=sampler.SubsetRandomSampler(range(NUM_TRAIN, 50000)))\n",
    "\n",
    "cifar10_test = dset.CIFAR10('./cs231n/datasets', train=False, download=True, \n",
    "                            transform=transform)\n",
    "loader_test = DataLoader(cifar10_test, batch_size=64)"
   ]
  },
  {
   "cell_type": "markdown",
   "metadata": {
    "colab_type": "text",
    "id": "GSNQQkixAZ09"
   },
   "source": [
    "You have an option to **use GPU by setting the flag to True below**. It is not necessary to use GPU for this assignment. Note that if your computer does not have CUDA enabled, `torch.cuda.is_available()` will return False and this notebook will fallback to CPU mode.\n",
    "\n",
    "The global variables `dtype` and `device` will control the data types throughout this assignment. "
   ]
  },
  {
   "cell_type": "code",
   "execution_count": 3,
   "metadata": {
    "colab": {
     "autoexec": {
      "startup": false,
      "wait_interval": 0
     },
     "base_uri": "https://localhost:8080/",
     "height": 34
    },
    "colab_type": "code",
    "executionInfo": {
     "elapsed": 4600,
     "status": "ok",
     "timestamp": 1529377210672,
     "user": {
      "displayName": "radream",
      "photoUrl": "//lh3.googleusercontent.com/-y8V6pdyk_ro/AAAAAAAAAAI/AAAAAAAAA6Y/SINQvfcEI-s/s50-c-k-no/photo.jpg",
      "userId": "118358371009498594123"
     },
     "user_tz": -480
    },
    "id": "JVYUhzL1AZ0-",
    "outputId": "03f8be90-3c70-4c72-afd5-e1e521e37791"
   },
   "outputs": [
    {
     "name": "stdout",
     "output_type": "stream",
     "text": [
      "using device: cuda\n"
     ]
    }
   ],
   "source": [
    "USE_GPU = True\n",
    "\n",
    "dtype = torch.float32 # we will be using float throughout this tutorial\n",
    "\n",
    "if USE_GPU and torch.cuda.is_available():\n",
    "    device = torch.device('cuda')\n",
    "else:\n",
    "    device = torch.device('cpu')\n",
    "\n",
    "# Constant to control how frequently we print train loss\n",
    "print_every = 100\n",
    "\n",
    "print('using device:', device)"
   ]
  },
  {
   "cell_type": "markdown",
   "metadata": {
    "colab_type": "text",
    "id": "a4jX5z0zAZ1B"
   },
   "source": [
    "# Part II. Barebones PyTorch\n",
    "\n",
    "PyTorch ships with high-level APIs to help us define model architectures conveniently, which we will cover in Part II of this tutorial. In this section, we will start with the barebone PyTorch elements to understand the autograd engine better. After this exercise, you will come to appreciate the high-level model API more.\n",
    "\n",
    "We will start with a simple fully-connected ReLU network with two hidden layers and no biases for CIFAR classification. \n",
    "This implementation computes the forward pass using operations on PyTorch Tensors, and uses PyTorch autograd to compute gradients. It is important that you understand every line, because you will write a harder version after the example.\n",
    "\n",
    "When we create a PyTorch Tensor with `requires_grad=True`, then operations involving that Tensor will not just compute values; they will also build up a computational graph in the background, allowing us to easily backpropagate through the graph to compute gradients of some Tensors with respect to a downstream loss. Concretely if x is a Tensor with `x.requires_grad == True` then after backpropagation `x.grad` will be another Tensor holding the gradient of x with respect to the scalar loss at the end."
   ]
  },
  {
   "cell_type": "markdown",
   "metadata": {
    "colab_type": "text",
    "id": "Am31ZJXEAZ1C"
   },
   "source": [
    "### PyTorch Tensors: Flatten Function\n",
    "A PyTorch Tensor is conceptionally similar to a numpy array: it is an n-dimensional grid of numbers, and like numpy PyTorch provides many functions to efficiently operate on Tensors. As a simple example, we provide a `flatten` function below which reshapes image data for use in a fully-connected neural network.\n",
    "\n",
    "Recall that image data is typically stored in a Tensor of shape N x C x H x W, where:\n",
    "\n",
    "* N is the number of datapoints\n",
    "* C is the number of channels\n",
    "* H is the height of the intermediate feature map in pixels\n",
    "* W is the height of the intermediate feature map in pixels\n",
    "\n",
    "This is the right way to represent the data when we are doing something like a 2D convolution, that needs spatial understanding of where the intermediate features are relative to each other. When we use fully connected affine layers to process the image, however, we want each datapoint to be represented by a single vector -- it's no longer useful to segregate the different channels, rows, and columns of the data. So, we use a \"flatten\" operation to collapse the `C x H x W` values per representation into a single long vector. The flatten function below first reads in the N, C, H, and W values from a given batch of data, and then returns a \"view\" of that data. \"View\" is analogous to numpy's \"reshape\" method: it reshapes x's dimensions to be N x ??, where ?? is allowed to be anything (in this case, it will be C x H x W, but we don't need to specify that explicitly). "
   ]
  },
  {
   "cell_type": "code",
   "execution_count": 4,
   "metadata": {
    "colab": {
     "autoexec": {
      "startup": false,
      "wait_interval": 0
     },
     "base_uri": "https://localhost:8080/",
     "height": 187
    },
    "colab_type": "code",
    "executionInfo": {
     "elapsed": 4983,
     "status": "ok",
     "timestamp": 1529377221297,
     "user": {
      "displayName": "radream",
      "photoUrl": "//lh3.googleusercontent.com/-y8V6pdyk_ro/AAAAAAAAAAI/AAAAAAAAA6Y/SINQvfcEI-s/s50-c-k-no/photo.jpg",
      "userId": "118358371009498594123"
     },
     "user_tz": -480
    },
    "id": "sUan5HqnAZ1D",
    "outputId": "218a94fd-af70-4567-b24e-16614ab36fe4"
   },
   "outputs": [
    {
     "name": "stdout",
     "output_type": "stream",
     "text": [
      "Before flattening:  tensor([[[[  0.,   1.],\n",
      "          [  2.,   3.],\n",
      "          [  4.,   5.]]],\n",
      "\n",
      "\n",
      "        [[[  6.,   7.],\n",
      "          [  8.,   9.],\n",
      "          [ 10.,  11.]]]])\n",
      "After flattening:  tensor([[  0.,   1.,   2.,   3.,   4.,   5.],\n",
      "        [  6.,   7.,   8.,   9.,  10.,  11.]])\n"
     ]
    }
   ],
   "source": [
    "def flatten(x):\n",
    "    N = x.shape[0] # read in N, C, H, W\n",
    "    return x.view(N, -1)  # \"flatten\" the C * H * W values into a single vector per image\n",
    "\n",
    "def test_flatten():\n",
    "    x = torch.arange(12).view(2, 1, 3, 2)\n",
    "    print('Before flattening: ', x)\n",
    "    print('After flattening: ', flatten(x))\n",
    "\n",
    "test_flatten()"
   ]
  },
  {
   "cell_type": "markdown",
   "metadata": {
    "colab_type": "text",
    "id": "ReMv6axoAZ1H"
   },
   "source": [
    "### Barebones PyTorch: Two-Layer Network\n",
    "\n",
    "Here we define a function `two_layer_fc` which performs the forward pass of a two-layer fully-connected ReLU network on a batch of image data. After defining the forward pass we check that it doesn't crash and that it produces outputs of the right shape by running zeros through the network.\n",
    "\n",
    "You don't have to write any code here, but it's important that you read and understand the implementation."
   ]
  },
  {
   "cell_type": "code",
   "execution_count": 6,
   "metadata": {
    "colab": {
     "autoexec": {
      "startup": false,
      "wait_interval": 0
     },
     "base_uri": "https://localhost:8080/",
     "height": 34
    },
    "colab_type": "code",
    "executionInfo": {
     "elapsed": 984,
     "status": "ok",
     "timestamp": 1528286219663,
     "user": {
      "displayName": "radream",
      "photoUrl": "//lh3.googleusercontent.com/-y8V6pdyk_ro/AAAAAAAAAAI/AAAAAAAAA6Y/SINQvfcEI-s/s50-c-k-no/photo.jpg",
      "userId": "118358371009498594123"
     },
     "user_tz": -480
    },
    "id": "cLIiZNKPAZ1I",
    "outputId": "306615af-ac8b-4cce-e1b8-55b7993ec70b"
   },
   "outputs": [
    {
     "name": "stdout",
     "output_type": "stream",
     "text": [
      "torch.Size([64, 10])\n"
     ]
    }
   ],
   "source": [
    "def two_layer_fc(x, params):\n",
    "    \"\"\"\n",
    "    A fully-connected neural networks; the architecture is:\n",
    "    NN is fully connected -> ReLU -> fully connected layer.\n",
    "    Note that this function only defines the forward pass; \n",
    "    PyTorch will take care of the backward pass for us.\n",
    "    \n",
    "    The input to the network will be a minibatch of data, of shape\n",
    "    (N, d1, ..., dM) where d1 * ... * dM = D. The hidden layer will have H units,\n",
    "    and the output layer will produce scores for C classes.\n",
    "    \n",
    "    Inputs:\n",
    "    - x: A PyTorch Tensor of shape (N, d1, ..., dM) giving a minibatch of\n",
    "      input data.\n",
    "    - params: A list [w1, w2] of PyTorch Tensors giving weights for the network;\n",
    "      w1 has shape (D, H) and w2 has shape (H, C).\n",
    "    \n",
    "    Returns:\n",
    "    - scores: A PyTorch Tensor of shape (N, C) giving classification scores for\n",
    "      the input data x.\n",
    "    \"\"\"\n",
    "    # first we flatten the image\n",
    "    x = flatten(x)  # shape: [batch_size, C x H x W]\n",
    "    \n",
    "    w1, w2 = params\n",
    "    \n",
    "    # Forward pass: compute predicted y using operations on Tensors. Since w1 and\n",
    "    # w2 have requires_grad=True, operations involving these Tensors will cause\n",
    "    # PyTorch to build a computational graph, allowing automatic computation of\n",
    "    # gradients. Since we are no longer implementing the backward pass by hand we\n",
    "    # don't need to keep references to intermediate values.\n",
    "    # you can also use `.clamp(min=0)`, equivalent to F.relu()\n",
    "    x = F.relu(x.mm(w1))\n",
    "    x = x.mm(w2)\n",
    "    return x\n",
    "    \n",
    "\n",
    "def two_layer_fc_test():\n",
    "    hidden_layer_size = 42\n",
    "    x = torch.zeros((64, 50), dtype=dtype)  # minibatch size 64, feature dimension 50\n",
    "    w1 = torch.zeros((50, hidden_layer_size), dtype=dtype)\n",
    "    w2 = torch.zeros((hidden_layer_size, 10), dtype=dtype)\n",
    "    scores = two_layer_fc(x, [w1, w2])\n",
    "    print(scores.size())  # you should see [64, 10]\n",
    "\n",
    "two_layer_fc_test()"
   ]
  },
  {
   "cell_type": "markdown",
   "metadata": {
    "colab_type": "text",
    "id": "8sKaQQ2VAZ1O"
   },
   "source": [
    "### Barebones PyTorch: Three-Layer ConvNet\n",
    "\n",
    "Here you will complete the implementation of the function `three_layer_convnet`, which will perform the forward pass of a three-layer convolutional network. Like above, we can immediately test our implementation by passing zeros through the network. The network should have the following architecture:\n",
    "\n",
    "1. A convolutional layer (with bias) with `channel_1` filters, each with shape `KW1 x KH1`, and zero-padding of two\n",
    "2. ReLU nonlinearity\n",
    "3. A convolutional layer (with bias) with `channel_2` filters, each with shape `KW2 x KH2`, and zero-padding of one\n",
    "4. ReLU nonlinearity\n",
    "5. Fully-connected layer with bias, producing scores for C classes.\n",
    "\n",
    "**HINT**: For convolutions: http://pytorch.org/docs/stable/nn.html#torch.nn.functional.conv2d; pay attention to the shapes of convolutional filters!"
   ]
  },
  {
   "cell_type": "code",
   "execution_count": 0,
   "metadata": {
    "colab": {
     "autoexec": {
      "startup": false,
      "wait_interval": 0
     }
    },
    "colab_type": "code",
    "id": "JlKO8T5dAZ1R"
   },
   "outputs": [],
   "source": [
    "def three_layer_convnet(x, params):\n",
    "    \"\"\"\n",
    "    Performs the forward pass of a three-layer convolutional network with the\n",
    "    architecture defined above.\n",
    "\n",
    "    Inputs:\n",
    "    - x: A PyTorch Tensor of shape (N, 3, H, W) giving a minibatch of images\n",
    "    - params: A list of PyTorch Tensors giving the weights and biases for the\n",
    "      network; should contain the following:\n",
    "      - conv_w1: PyTorch Tensor of shape (channel_1, 3, KH1, KW1) giving weights\n",
    "        for the first convolutional layer\n",
    "      - conv_b1: PyTorch Tensor of shape (channel_1,) giving biases for the first\n",
    "        convolutional layer\n",
    "      - conv_w2: PyTorch Tensor of shape (channel_2, channel_1, KH2, KW2) giving\n",
    "        weights for the second convolutional layer\n",
    "      - conv_b2: PyTorch Tensor of shape (channel_2,) giving biases for the second\n",
    "        convolutional layer\n",
    "      - fc_w: PyTorch Tensor giving weights for the fully-connected layer. Can you\n",
    "        figure out what the shape should be?\n",
    "      - fc_b: PyTorch Tensor giving biases for the fully-connected layer. Can you\n",
    "        figure out what the shape should be?\n",
    "    \n",
    "    Returns:\n",
    "    - scores: PyTorch Tensor of shape (N, C) giving classification scores for x\n",
    "    \"\"\"\n",
    "    conv_w1, conv_b1, conv_w2, conv_b2, fc_w, fc_b = params\n",
    "    scores = None\n",
    "    ################################################################################\n",
    "    # TODO: Implement the forward pass for the three-layer ConvNet.                #\n",
    "    ################################################################################\n",
    "    x = F.relu(F.conv2d(x, weight=conv_w1, bias=conv_b1, padding=2))\n",
    "    x = F.relu(F.conv2d(x, weight=conv_w2, bias=conv_b2, padding=1))\n",
    "    x = flatten(x)\n",
    "    scores = x.mm(fc_w) + fc_b\n",
    "    ################################################################################\n",
    "    #                                 END OF YOUR CODE                             #\n",
    "    ################################################################################\n",
    "    return scores"
   ]
  },
  {
   "cell_type": "markdown",
   "metadata": {
    "colab_type": "text",
    "id": "IqCXRxWoAZ1U"
   },
   "source": [
    "After defining the forward pass of the ConvNet above, run the following cell to test your implementation.\n",
    "\n",
    "When you run this function, scores should have shape (64, 10)."
   ]
  },
  {
   "cell_type": "code",
   "execution_count": 8,
   "metadata": {
    "colab": {
     "autoexec": {
      "startup": false,
      "wait_interval": 0
     },
     "base_uri": "https://localhost:8080/",
     "height": 34
    },
    "colab_type": "code",
    "executionInfo": {
     "elapsed": 922,
     "status": "ok",
     "timestamp": 1528167874957,
     "user": {
      "displayName": "radream",
      "photoUrl": "//lh3.googleusercontent.com/-y8V6pdyk_ro/AAAAAAAAAAI/AAAAAAAAA6Y/SINQvfcEI-s/s50-c-k-no/photo.jpg",
      "userId": "118358371009498594123"
     },
     "user_tz": -480
    },
    "id": "TsuFGl1bAZ1W",
    "outputId": "beace3b7-8010-46ff-f5da-8193ba470a2b"
   },
   "outputs": [
    {
     "name": "stdout",
     "output_type": "stream",
     "text": [
      "torch.Size([64, 10])\n"
     ]
    }
   ],
   "source": [
    "def three_layer_convnet_test():\n",
    "    x = torch.zeros((64, 3, 32, 32), dtype=dtype)  # minibatch size 64, image size [3, 32, 32]\n",
    "\n",
    "    conv_w1 = torch.zeros((6, 3, 5, 5), dtype=dtype)  # [out_channel, in_channel, kernel_H, kernel_W]\n",
    "    conv_b1 = torch.zeros((6,))  # out_channel\n",
    "    conv_w2 = torch.zeros((9, 6, 3, 3), dtype=dtype)  # [out_channel, in_channel, kernel_H, kernel_W]\n",
    "    conv_b2 = torch.zeros((9,))  # out_channel\n",
    "\n",
    "    # you must calculate the shape of the tensor after two conv layers, before the fully-connected layer\n",
    "    fc_w = torch.zeros((9 * 32 * 32, 10))\n",
    "    fc_b = torch.zeros(10)\n",
    "\n",
    "    scores = three_layer_convnet(x, [conv_w1, conv_b1, conv_w2, conv_b2, fc_w, fc_b])\n",
    "    print(scores.size())  # you should see [64, 10]\n",
    "three_layer_convnet_test()"
   ]
  },
  {
   "cell_type": "markdown",
   "metadata": {
    "colab_type": "text",
    "id": "Z_wUnTspAZ1b"
   },
   "source": [
    "### Barebones PyTorch: Initialization\n",
    "Let's write a couple utility methods to initialize the weight matrices for our models.\n",
    "\n",
    "- `random_weight(shape)` initializes a weight tensor with the Kaiming normalization method.\n",
    "- `zero_weight(shape)` initializes a weight tensor with all zeros. Useful for instantiating bias parameters.\n",
    "\n",
    "The `random_weight` function uses the Kaiming normal initialization method, described in:\n",
    "\n",
    "He et al, *Delving Deep into Rectifiers: Surpassing Human-Level Performance on ImageNet Classification*, ICCV 2015, https://arxiv.org/abs/1502.01852"
   ]
  },
  {
   "cell_type": "code",
   "execution_count": 12,
   "metadata": {
    "colab": {
     "autoexec": {
      "startup": false,
      "wait_interval": 0
     },
     "base_uri": "https://localhost:8080/",
     "height": 68
    },
    "colab_type": "code",
    "executionInfo": {
     "elapsed": 1058,
     "status": "ok",
     "timestamp": 1528183178934,
     "user": {
      "displayName": "radream",
      "photoUrl": "//lh3.googleusercontent.com/-y8V6pdyk_ro/AAAAAAAAAAI/AAAAAAAAA6Y/SINQvfcEI-s/s50-c-k-no/photo.jpg",
      "userId": "118358371009498594123"
     },
     "user_tz": -480
    },
    "id": "_Nxo7Es4AZ1e",
    "outputId": "116f73ad-a25a-4c4f-84bb-a8a539f23d23"
   },
   "outputs": [
    {
     "data": {
      "text/plain": [
       "tensor([[-1.8268, -0.9983, -0.7666,  1.0718,  0.0247],\n",
       "        [ 0.3517,  0.4868,  0.6902, -2.5009, -0.7754],\n",
       "        [-0.0721,  1.1428,  0.7531,  0.1690,  0.9607]], device='cuda:0')"
      ]
     },
     "execution_count": 12,
     "metadata": {
      "tags": []
     },
     "output_type": "execute_result"
    }
   ],
   "source": [
    "def random_weight(shape):\n",
    "    \"\"\"\n",
    "    Create random Tensors for weights; setting requires_grad=True means that we\n",
    "    want to compute gradients for these Tensors during the backward pass.\n",
    "    We use Kaiming normalization: sqrt(2 / fan_in)\n",
    "    \"\"\"\n",
    "    if len(shape) == 2:  # FC weight\n",
    "        fan_in = shape[0]\n",
    "    else:\n",
    "        fan_in = np.prod(shape[1:]) # conv weight [out_channel, in_channel, kH, kW]\n",
    "    # randn is standard normal distribution generator. \n",
    "    w = torch.randn(shape, device=device, dtype=dtype) * np.sqrt(2. / fan_in)\n",
    "    w.requires_grad = True\n",
    "    return w\n",
    "\n",
    "def zero_weight(shape):\n",
    "    return torch.zeros(shape, device=device, dtype=dtype, requires_grad=True)\n",
    "\n",
    "# create a weight of shape [3 x 5]\n",
    "# you should see the type `torch.cuda.FloatTensor` if you use GPU. \n",
    "# Otherwise it should be `torch.FloatTensor`\n",
    "random_weight((3, 5))"
   ]
  },
  {
   "cell_type": "markdown",
   "metadata": {
    "colab_type": "text",
    "id": "wFwMPCyFAZ1h"
   },
   "source": [
    "### Barebones PyTorch: Check Accuracy\n",
    "When training the model we will use the following function to check the accuracy of our model on the training or validation sets.\n",
    "\n",
    "When checking accuracy we don't need to compute any gradients; as a result we don't need PyTorch to build a computational graph for us when we compute scores. To prevent a graph from being built we scope our computation under a `torch.no_grad()` context manager."
   ]
  },
  {
   "cell_type": "code",
   "execution_count": 0,
   "metadata": {
    "colab": {
     "autoexec": {
      "startup": false,
      "wait_interval": 0
     }
    },
    "colab_type": "code",
    "id": "AQvDnRCwAZ1i"
   },
   "outputs": [],
   "source": [
    "def check_accuracy_part2(loader, model_fn, params):\n",
    "    \"\"\"\n",
    "    Check the accuracy of a classification model.\n",
    "    \n",
    "    Inputs:\n",
    "    - loader: A DataLoader for the data split we want to check\n",
    "    - model_fn: A function that performs the forward pass of the model,\n",
    "      with the signature scores = model_fn(x, params)\n",
    "    - params: List of PyTorch Tensors giving parameters of the model\n",
    "    \n",
    "    Returns: Nothing, but prints the accuracy of the model\n",
    "    \"\"\"\n",
    "    split = 'val' if loader.dataset.train else 'test'\n",
    "    print('Checking accuracy on the %s set' % split)\n",
    "    num_correct, num_samples = 0, 0\n",
    "    with torch.no_grad():\n",
    "        for x, y in loader:\n",
    "            x = x.to(device=device, dtype=dtype)  # move to device, e.g. GPU\n",
    "            y = y.to(device=device, dtype=torch.int64)\n",
    "            scores = model_fn(x, params)\n",
    "            _, preds = scores.max(1)\n",
    "            num_correct += (preds == y).sum()\n",
    "            num_samples += preds.size(0)\n",
    "        acc = float(num_correct) / num_samples\n",
    "        print('Got %d / %d correct (%.2f%%)' % (num_correct, num_samples, 100 * acc))"
   ]
  },
  {
   "cell_type": "markdown",
   "metadata": {
    "colab_type": "text",
    "id": "ETjaKhWSAZ1m"
   },
   "source": [
    "### BareBones PyTorch: Training Loop\n",
    "We can now set up a basic training loop to train our network. We will train the model using stochastic gradient descent without momentum. We will use `torch.functional.cross_entropy` to compute the loss; you can [read about it here](http://pytorch.org/docs/stable/nn.html#cross-entropy).\n",
    "\n",
    "The training loop takes as input the neural network function, a list of initialized parameters (`[w1, w2]` in our example), and learning rate."
   ]
  },
  {
   "cell_type": "code",
   "execution_count": 0,
   "metadata": {
    "colab": {
     "autoexec": {
      "startup": false,
      "wait_interval": 0
     }
    },
    "colab_type": "code",
    "id": "wwSRVtUMAZ1m"
   },
   "outputs": [],
   "source": [
    "def train_part2(model_fn, params, learning_rate):\n",
    "    \"\"\"\n",
    "    Train a model on CIFAR-10.\n",
    "    \n",
    "    Inputs:\n",
    "    - model_fn: A Python function that performs the forward pass of the model.\n",
    "      It should have the signature scores = model_fn(x, params) where x is a\n",
    "      PyTorch Tensor of image data, params is a list of PyTorch Tensors giving\n",
    "      model weights, and scores is a PyTorch Tensor of shape (N, C) giving\n",
    "      scores for the elements in x.\n",
    "    - params: List of PyTorch Tensors giving weights for the model\n",
    "    - learning_rate: Python scalar giving the learning rate to use for SGD\n",
    "    \n",
    "    Returns: Nothing\n",
    "    \"\"\"\n",
    "    for t, (x, y) in enumerate(loader_train):\n",
    "        # Move the data to the proper device (GPU or CPU)\n",
    "        x = x.to(device=device, dtype=dtype)\n",
    "        y = y.to(device=device, dtype=torch.long)\n",
    "\n",
    "        # Forward pass: compute scores and loss\n",
    "        scores = model_fn(x, params)\n",
    "        loss = F.cross_entropy(scores, y)\n",
    "\n",
    "        # Backward pass: PyTorch figures out which Tensors in the computational\n",
    "        # graph has requires_grad=True and uses backpropagation to compute the\n",
    "        # gradient of the loss with respect to these Tensors, and stores the\n",
    "        # gradients in the .grad attribute of each Tensor.\n",
    "        loss.backward()\n",
    "\n",
    "        # Update parameters. We don't want to backpropagate through the\n",
    "        # parameter updates, so we scope the updates under a torch.no_grad()\n",
    "        # context manager to prevent a computational graph from being built.\n",
    "        with torch.no_grad():\n",
    "            for w in params:\n",
    "                w -= learning_rate * w.grad\n",
    "\n",
    "                # Manually zero the gradients after running the backward pass\n",
    "                w.grad.zero_()\n",
    "\n",
    "        if t % print_every == 0:\n",
    "            print('Iteration %d, loss = %.4f' % (t, loss.item()))\n",
    "            check_accuracy_part2(loader_val, model_fn, params)\n",
    "            print()"
   ]
  },
  {
   "cell_type": "markdown",
   "metadata": {
    "colab_type": "text",
    "id": "54i1iGwaAZ1q"
   },
   "source": [
    "### BareBones PyTorch: Train a Two-Layer Network\n",
    "Now we are ready to run the training loop. We need to explicitly allocate tensors for the fully connected weights, `w1` and `w2`. \n",
    "\n",
    "Each minibatch of CIFAR has 64 examples, so the tensor shape is `[64, 3, 32, 32]`. \n",
    "\n",
    "After flattening, `x` shape should be `[64, 3 * 32 * 32]`. This will be the size of the first dimension of `w1`. \n",
    "The second dimension of `w1` is the hidden layer size, which will also be the first dimension of `w2`. \n",
    "\n",
    "Finally, the output of the network is a 10-dimensional vector that represents the probability distribution over 10 classes. \n",
    "\n",
    "You don't need to tune any hyperparameters but you should see accuracies above 40% after training for one epoch."
   ]
  },
  {
   "cell_type": "code",
   "execution_count": 14,
   "metadata": {
    "colab": {
     "autoexec": {
      "startup": false,
      "wait_interval": 0
     },
     "base_uri": "https://localhost:8080/",
     "height": 561
    },
    "colab_type": "code",
    "executionInfo": {
     "elapsed": 13927,
     "status": "ok",
     "timestamp": 1528168604469,
     "user": {
      "displayName": "radream",
      "photoUrl": "//lh3.googleusercontent.com/-y8V6pdyk_ro/AAAAAAAAAAI/AAAAAAAAA6Y/SINQvfcEI-s/s50-c-k-no/photo.jpg",
      "userId": "118358371009498594123"
     },
     "user_tz": -480
    },
    "id": "Shh3YoyFAZ1s",
    "outputId": "9df31b4a-0f7c-47e3-b833-28992f344e55"
   },
   "outputs": [
    {
     "name": "stdout",
     "output_type": "stream",
     "text": [
      "Iteration 0, loss = 3.1682\n",
      "Checking accuracy on the val set\n",
      "Got 172 / 1000 correct (17.20%)\n",
      "\n",
      "Iteration 100, loss = 2.3375\n",
      "Checking accuracy on the val set\n",
      "Got 305 / 1000 correct (30.50%)\n",
      "\n",
      "Iteration 200, loss = 1.7362\n",
      "Checking accuracy on the val set\n",
      "Got 364 / 1000 correct (36.40%)\n",
      "\n",
      "Iteration 300, loss = 1.8265\n",
      "Checking accuracy on the val set\n",
      "Got 393 / 1000 correct (39.30%)\n",
      "\n",
      "Iteration 400, loss = 2.4281\n",
      "Checking accuracy on the val set\n",
      "Got 425 / 1000 correct (42.50%)\n",
      "\n",
      "Iteration 500, loss = 1.6956\n",
      "Checking accuracy on the val set\n",
      "Got 385 / 1000 correct (38.50%)\n",
      "\n",
      "Iteration 600, loss = 2.0952\n",
      "Checking accuracy on the val set\n",
      "Got 447 / 1000 correct (44.70%)\n",
      "\n",
      "Iteration 700, loss = 1.6378\n",
      "Checking accuracy on the val set\n",
      "Got 476 / 1000 correct (47.60%)\n",
      "\n"
     ]
    }
   ],
   "source": [
    "hidden_layer_size = 4000\n",
    "learning_rate = 1e-2\n",
    "\n",
    "w1 = random_weight((3 * 32 * 32, hidden_layer_size))\n",
    "w2 = random_weight((hidden_layer_size, 10))\n",
    "\n",
    "train_part2(two_layer_fc, [w1, w2], learning_rate)"
   ]
  },
  {
   "cell_type": "markdown",
   "metadata": {
    "colab_type": "text",
    "id": "b0380BcKAZ11"
   },
   "source": [
    "### BareBones PyTorch: Training a ConvNet\n",
    "\n",
    "In the below you should use the functions defined above to train a three-layer convolutional network on CIFAR. The network should have the following architecture:\n",
    "\n",
    "1. Convolutional layer (with bias) with 32 5x5 filters, with zero-padding of 2\n",
    "2. ReLU\n",
    "3. Convolutional layer (with bias) with 16 3x3 filters, with zero-padding of 1\n",
    "4. ReLU\n",
    "5. Fully-connected layer (with bias) to compute scores for 10 classes\n",
    "\n",
    "You should initialize your weight matrices using the `random_weight` function defined above, and you should initialize your bias vectors using the `zero_weight` function above.\n",
    "\n",
    "You don't need to tune any hyperparameters, but if everything works correctly you should achieve an accuracy above 42% after one epoch."
   ]
  },
  {
   "cell_type": "code",
   "execution_count": 15,
   "metadata": {
    "colab": {
     "autoexec": {
      "startup": false,
      "wait_interval": 0
     },
     "base_uri": "https://localhost:8080/",
     "height": 561
    },
    "colab_type": "code",
    "executionInfo": {
     "elapsed": 15923,
     "status": "ok",
     "timestamp": 1528168858258,
     "user": {
      "displayName": "radream",
      "photoUrl": "//lh3.googleusercontent.com/-y8V6pdyk_ro/AAAAAAAAAAI/AAAAAAAAA6Y/SINQvfcEI-s/s50-c-k-no/photo.jpg",
      "userId": "118358371009498594123"
     },
     "user_tz": -480
    },
    "id": "I6kGd5e3AZ18",
    "outputId": "f6c8a1cb-d2fb-4056-bd91-19e85b8cabee"
   },
   "outputs": [
    {
     "name": "stdout",
     "output_type": "stream",
     "text": [
      "Iteration 0, loss = 3.1560\n",
      "Checking accuracy on the val set\n",
      "Got 141 / 1000 correct (14.10%)\n",
      "\n",
      "Iteration 100, loss = 1.7813\n",
      "Checking accuracy on the val set\n",
      "Got 324 / 1000 correct (32.40%)\n",
      "\n",
      "Iteration 200, loss = 1.8110\n",
      "Checking accuracy on the val set\n",
      "Got 385 / 1000 correct (38.50%)\n",
      "\n",
      "Iteration 300, loss = 1.7838\n",
      "Checking accuracy on the val set\n",
      "Got 407 / 1000 correct (40.70%)\n",
      "\n",
      "Iteration 400, loss = 1.6023\n",
      "Checking accuracy on the val set\n",
      "Got 424 / 1000 correct (42.40%)\n",
      "\n",
      "Iteration 500, loss = 1.4754\n",
      "Checking accuracy on the val set\n",
      "Got 437 / 1000 correct (43.70%)\n",
      "\n",
      "Iteration 600, loss = 1.3786\n",
      "Checking accuracy on the val set\n",
      "Got 447 / 1000 correct (44.70%)\n",
      "\n",
      "Iteration 700, loss = 1.5059\n",
      "Checking accuracy on the val set\n",
      "Got 462 / 1000 correct (46.20%)\n",
      "\n"
     ]
    }
   ],
   "source": [
    "learning_rate = 3e-3\n",
    "\n",
    "channel_1 = 32\n",
    "channel_2 = 16\n",
    "\n",
    "################################################################################\n",
    "# TODO: Initialize the parameters of a three-layer ConvNet.                    #\n",
    "################################################################################\n",
    "conv_w1 = random_weight((channel_1, 3, 5, 5))\n",
    "conv_b1 = zero_weight((channel_1, ))\n",
    "conv_w2 = random_weight((channel_2, channel_1, 3, 3))\n",
    "conv_b2 = zero_weight((channel_2, ))\n",
    "fc_w = random_weight((16384, 10))\n",
    "fc_b = zero_weight((10, ))\n",
    "################################################################################\n",
    "#                                 END OF YOUR CODE                             #\n",
    "################################################################################\n",
    "\n",
    "params = [conv_w1, conv_b1, conv_w2, conv_b2, fc_w, fc_b]\n",
    "train_part2(three_layer_convnet, params, learning_rate)"
   ]
  },
  {
   "cell_type": "markdown",
   "metadata": {
    "colab_type": "text",
    "id": "KaEIjRr3AZ2B"
   },
   "source": [
    "# Part III. PyTorch Module API\n",
    "\n",
    "Barebone PyTorch requires that we track all the parameter tensors by hand. This is fine for small networks with a few tensors, but it would be extremely inconvenient and error-prone to track tens or hundreds of tensors in larger networks.\n",
    "\n",
    "PyTorch provides the `nn.Module` API for you to define arbitrary network architectures, while tracking every learnable parameters for you. In Part II, we implemented SGD ourselves. PyTorch also provides the `torch.optim` package that implements all the common optimizers, such as RMSProp, Adagrad, and Adam. It even supports approximate second-order methods like L-BFGS! You can refer to the [doc](http://pytorch.org/docs/master/optim.html) for the exact specifications of each optimizer.\n",
    "\n",
    "To use the Module API, follow the steps below:\n",
    "\n",
    "1. Subclass `nn.Module`. Give your network class an intuitive name like `TwoLayerFC`. \n",
    "\n",
    "2. In the constructor `__init__()`, define all the layers you need as class attributes. Layer objects like `nn.Linear` and `nn.Conv2d` are themselves `nn.Module` subclasses and contain learnable parameters, so that you don't have to instantiate the raw tensors yourself. `nn.Module` will track these internal parameters for you. Refer to the [doc](http://pytorch.org/docs/master/nn.html) to learn more about the dozens of builtin layers. **Warning**: don't forget to call the `super().__init__()` first!\n",
    "\n",
    "3. In the `forward()` method, define the *connectivity* of your network. You should use the attributes defined in `__init__` as function calls that take tensor as input and output the \"transformed\" tensor. Do *not* create any new layers with learnable parameters in `forward()`! All of them must be declared upfront in `__init__`. \n",
    "\n",
    "After you define your Module subclass, you can instantiate it as an object and call it just like the NN forward function in part II.\n",
    "\n",
    "### Module API: Two-Layer Network\n",
    "Here is a concrete example of a 2-layer fully connected network:"
   ]
  },
  {
   "cell_type": "code",
   "execution_count": 16,
   "metadata": {
    "colab": {
     "autoexec": {
      "startup": false,
      "wait_interval": 0
     },
     "base_uri": "https://localhost:8080/",
     "height": 34
    },
    "colab_type": "code",
    "executionInfo": {
     "elapsed": 1041,
     "status": "ok",
     "timestamp": 1528169570110,
     "user": {
      "displayName": "radream",
      "photoUrl": "//lh3.googleusercontent.com/-y8V6pdyk_ro/AAAAAAAAAAI/AAAAAAAAA6Y/SINQvfcEI-s/s50-c-k-no/photo.jpg",
      "userId": "118358371009498594123"
     },
     "user_tz": -480
    },
    "id": "5zb3w0PEAZ2C",
    "outputId": "c20c8257-2f8a-464d-996d-6d2b877ba3c5"
   },
   "outputs": [
    {
     "name": "stdout",
     "output_type": "stream",
     "text": [
      "torch.Size([64, 10])\n"
     ]
    }
   ],
   "source": [
    "class TwoLayerFC(nn.Module):\n",
    "    def __init__(self, input_size, hidden_size, num_classes):\n",
    "        super().__init__()\n",
    "        # assign layer objects to class attributes\n",
    "        self.fc1 = nn.Linear(input_size, hidden_size)\n",
    "        # nn.init package contains convenient initialization methods\n",
    "        # http://pytorch.org/docs/master/nn.html#torch-nn-init \n",
    "        nn.init.kaiming_normal_(self.fc1.weight)\n",
    "        self.fc2 = nn.Linear(hidden_size, num_classes)\n",
    "        nn.init.kaiming_normal_(self.fc2.weight)\n",
    "    \n",
    "    def forward(self, x):\n",
    "        # forward always defines connectivity\n",
    "        x = flatten(x)\n",
    "        scores = self.fc2(F.relu(self.fc1(x)))\n",
    "        return scores\n",
    "\n",
    "def test_TwoLayerFC():\n",
    "    input_size = 50\n",
    "    x = torch.zeros((64, input_size), dtype=dtype)  # minibatch size 64, feature dimension 50\n",
    "    model = TwoLayerFC(input_size, 42, 10)\n",
    "    scores = model(x)\n",
    "    print(scores.size())  # you should see [64, 10]\n",
    "test_TwoLayerFC()"
   ]
  },
  {
   "cell_type": "markdown",
   "metadata": {
    "colab_type": "text",
    "id": "7oo2MXxzAZ2H"
   },
   "source": [
    "### Module API: Three-Layer ConvNet\n",
    "It's your turn to implement a 3-layer ConvNet followed by a fully connected layer. The network architecture should be the same as in Part II:\n",
    "\n",
    "1. Convolutional layer with `channel_1` 5x5 filters with zero-padding of 2\n",
    "2. ReLU\n",
    "3. Convolutional layer with `channel_2` 3x3 filters with zero-padding of 1\n",
    "4. ReLU\n",
    "5. Fully-connected layer to `num_classes` classes\n",
    "\n",
    "You should initialize the weight matrices of the model using the Kaiming normal initialization method.\n",
    "\n",
    "**HINT**: http://pytorch.org/docs/stable/nn.html#conv2d\n",
    "\n",
    "After you implement the three-layer ConvNet, the `test_ThreeLayerConvNet` function will run your implementation; it should print `(64, 10)` for the shape of the output scores."
   ]
  },
  {
   "cell_type": "code",
   "execution_count": 18,
   "metadata": {
    "colab": {
     "autoexec": {
      "startup": false,
      "wait_interval": 0
     },
     "base_uri": "https://localhost:8080/",
     "height": 34
    },
    "colab_type": "code",
    "executionInfo": {
     "elapsed": 840,
     "status": "ok",
     "timestamp": 1528172554884,
     "user": {
      "displayName": "radream",
      "photoUrl": "//lh3.googleusercontent.com/-y8V6pdyk_ro/AAAAAAAAAAI/AAAAAAAAA6Y/SINQvfcEI-s/s50-c-k-no/photo.jpg",
      "userId": "118358371009498594123"
     },
     "user_tz": -480
    },
    "id": "uLJYSRufAZ2J",
    "outputId": "baa25fd4-50dc-4285-bf67-f6367299f715"
   },
   "outputs": [
    {
     "name": "stdout",
     "output_type": "stream",
     "text": [
      "torch.Size([64, 10])\n"
     ]
    }
   ],
   "source": [
    "class ThreeLayerConvNet(nn.Module):\n",
    "    def __init__(self, in_channel, channel_1, channel_2, num_classes):\n",
    "        super().__init__()\n",
    "        ########################################################################\n",
    "        # TODO: Set up the layers you need for a three-layer ConvNet with the  #\n",
    "        # architecture defined above.                                          #\n",
    "        ########################################################################\n",
    "        self.conv1 = nn.Conv2d(in_channel, channel_1, 5, padding=2)\n",
    "        nn.init.kaiming_normal_(self.conv1.weight)\n",
    "        self.conv2 = nn.Conv2d(channel_1, channel_2, 3, padding=1)\n",
    "        nn.init.kaiming_normal_(self.conv2.weight)\n",
    "        self.fc = nn.Linear(channel_2*32*32, num_classes)\n",
    "        nn.init.kaiming_normal_(self.fc.weight)\n",
    "        ########################################################################\n",
    "        #                          END OF YOUR CODE                            #       \n",
    "        ########################################################################\n",
    "\n",
    "    def forward(self, x):\n",
    "        scores = None\n",
    "        ########################################################################\n",
    "        # TODO: Implement the forward function for a 3-layer ConvNet. you      #\n",
    "        # should use the layers you defined in __init__ and specify the        #\n",
    "        # connectivity of those layers in forward()                            #\n",
    "        ########################################################################\n",
    "        x = F.relu(self.conv2(F.relu(self.conv1(x))))\n",
    "        x = flatten(x)\n",
    "        scores = self.fc(x)\n",
    "        ########################################################################\n",
    "        #                             END OF YOUR CODE                         #\n",
    "        ########################################################################\n",
    "        return scores\n",
    "\n",
    "\n",
    "def test_ThreeLayerConvNet():\n",
    "    x = torch.zeros((64, 3, 32, 32), dtype=dtype)  # minibatch size 64, image size [3, 32, 32]\n",
    "    model = ThreeLayerConvNet(in_channel=3, channel_1=12, channel_2=8, num_classes=10)\n",
    "    scores = model(x)\n",
    "    print(scores.size())  # you should see [64, 10]\n",
    "test_ThreeLayerConvNet()"
   ]
  },
  {
   "cell_type": "markdown",
   "metadata": {
    "colab_type": "text",
    "id": "0sxzMfqgAZ2N"
   },
   "source": [
    "### Module API: Check Accuracy\n",
    "Given the validation or test set, we can check the classification accuracy of a neural network. \n",
    "\n",
    "This version is slightly different from the one in part II. You don't manually pass in the parameters anymore."
   ]
  },
  {
   "cell_type": "code",
   "execution_count": 0,
   "metadata": {
    "colab": {
     "autoexec": {
      "startup": false,
      "wait_interval": 0
     }
    },
    "colab_type": "code",
    "id": "wLAYoPSMAZ2g"
   },
   "outputs": [],
   "source": [
    "def check_accuracy_part34(loader, model):\n",
    "    if loader.dataset.train:\n",
    "        print('Checking accuracy on validation set')\n",
    "    else:\n",
    "        print('Checking accuracy on test set')\n",
    "    num_correct = 0\n",
    "    num_samples = 0\n",
    "    model.eval()  # set model to evaluation mode\n",
    "    with torch.no_grad():\n",
    "        for x, y in loader:\n",
    "            x = x.to(device=device, dtype=dtype)  # move to device, e.g. GPU\n",
    "            y = y.to(device=device, dtype=torch.long)\n",
    "            scores = model(x)\n",
    "            _, preds = scores.max(1)\n",
    "            num_correct += (preds == y).sum()\n",
    "            num_samples += preds.size(0)\n",
    "        acc = float(num_correct) / num_samples\n",
    "        print('Got %d / %d correct (%.2f)' % (num_correct, num_samples, 100 * acc))"
   ]
  },
  {
   "cell_type": "markdown",
   "metadata": {
    "colab_type": "text",
    "id": "F1LITtbcAZ2l"
   },
   "source": [
    "### Module API: Training Loop\n",
    "We also use a slightly different training loop. Rather than updating the values of the weights ourselves, we use an Optimizer object from the `torch.optim` package, which abstract the notion of an optimization algorithm and provides implementations of most of the algorithms commonly used to optimize neural networks."
   ]
  },
  {
   "cell_type": "code",
   "execution_count": 0,
   "metadata": {
    "colab": {
     "autoexec": {
      "startup": false,
      "wait_interval": 0
     }
    },
    "colab_type": "code",
    "id": "eo6rYgntAZ2n"
   },
   "outputs": [],
   "source": [
    "def train_part34(model, optimizer, epochs=1):\n",
    "    \"\"\"\n",
    "    Train a model on CIFAR-10 using the PyTorch Module API.\n",
    "    \n",
    "    Inputs:\n",
    "    - model: A PyTorch Module giving the model to train.\n",
    "    - optimizer: An Optimizer object we will use to train the model\n",
    "    - epochs: (Optional) A Python integer giving the number of epochs to train for\n",
    "    \n",
    "    Returns: Nothing, but prints model accuracies during training.\n",
    "    \"\"\"\n",
    "    model = model.to(device=device)  # move the model parameters to CPU/GPU\n",
    "    for e in range(epochs):\n",
    "        for t, (x, y) in enumerate(loader_train):\n",
    "            model.train()  # put model to training mode\n",
    "            x = x.to(device=device, dtype=dtype)  # move to device, e.g. GPU\n",
    "            y = y.to(device=device, dtype=torch.long)\n",
    "\n",
    "            scores = model(x)\n",
    "            loss = F.cross_entropy(scores, y)\n",
    "\n",
    "            # Zero out all of the gradients for the variables which the optimizer\n",
    "            # will update.\n",
    "            optimizer.zero_grad()\n",
    "\n",
    "            # This is the backwards pass: compute the gradient of the loss with\n",
    "            # respect to each  parameter of the model.\n",
    "            loss.backward()\n",
    "\n",
    "            # Actually update the parameters of the model using the gradients\n",
    "            # computed by the backwards pass.\n",
    "            optimizer.step()\n",
    "\n",
    "            if t % print_every == 0:\n",
    "                print('Iteration %d, loss = %.4f' % (t, loss.item()))\n",
    "                check_accuracy_part34(loader_val, model)\n",
    "                print()"
   ]
  },
  {
   "cell_type": "markdown",
   "metadata": {
    "colab_type": "text",
    "id": "z2Oc4VLqAZ2z"
   },
   "source": [
    "### Module API: Train a Two-Layer Network\n",
    "Now we are ready to run the training loop. In contrast to part II, we don't explicitly allocate parameter tensors anymore.\n",
    "\n",
    "Simply pass the input size, hidden layer size, and number of classes (i.e. output size) to the constructor of `TwoLayerFC`. \n",
    "\n",
    "You also need to define an optimizer that tracks all the learnable parameters inside `TwoLayerFC`.\n",
    "\n",
    "You don't need to tune any hyperparameters, but you should see model accuracies above 40% after training for one epoch."
   ]
  },
  {
   "cell_type": "code",
   "execution_count": 21,
   "metadata": {
    "colab": {
     "autoexec": {
      "startup": false,
      "wait_interval": 0
     },
     "base_uri": "https://localhost:8080/",
     "height": 561
    },
    "colab_type": "code",
    "executionInfo": {
     "elapsed": 14603,
     "status": "ok",
     "timestamp": 1528175859276,
     "user": {
      "displayName": "radream",
      "photoUrl": "//lh3.googleusercontent.com/-y8V6pdyk_ro/AAAAAAAAAAI/AAAAAAAAA6Y/SINQvfcEI-s/s50-c-k-no/photo.jpg",
      "userId": "118358371009498594123"
     },
     "user_tz": -480
    },
    "id": "RnFnehbiAZ22",
    "outputId": "31a53c4f-d27a-47a6-eb2c-44e71b8afc1d"
   },
   "outputs": [
    {
     "name": "stdout",
     "output_type": "stream",
     "text": [
      "Iteration 0, loss = 3.2425\n",
      "Checking accuracy on validation set\n",
      "Got 198 / 1000 correct (19.80)\n",
      "\n",
      "Iteration 100, loss = 2.7279\n",
      "Checking accuracy on validation set\n",
      "Got 271 / 1000 correct (27.10)\n",
      "\n",
      "Iteration 200, loss = 1.7273\n",
      "Checking accuracy on validation set\n",
      "Got 377 / 1000 correct (37.70)\n",
      "\n",
      "Iteration 300, loss = 1.9369\n",
      "Checking accuracy on validation set\n",
      "Got 415 / 1000 correct (41.50)\n",
      "\n",
      "Iteration 400, loss = 1.9769\n",
      "Checking accuracy on validation set\n",
      "Got 373 / 1000 correct (37.30)\n",
      "\n",
      "Iteration 500, loss = 2.0493\n",
      "Checking accuracy on validation set\n",
      "Got 421 / 1000 correct (42.10)\n",
      "\n",
      "Iteration 600, loss = 1.8495\n",
      "Checking accuracy on validation set\n",
      "Got 387 / 1000 correct (38.70)\n",
      "\n",
      "Iteration 700, loss = 1.6526\n",
      "Checking accuracy on validation set\n",
      "Got 449 / 1000 correct (44.90)\n",
      "\n"
     ]
    }
   ],
   "source": [
    "hidden_layer_size = 4000\n",
    "learning_rate = 1e-2\n",
    "model = TwoLayerFC(3 * 32 * 32, hidden_layer_size, 10)\n",
    "optimizer = optim.SGD(model.parameters(), lr=learning_rate)\n",
    "\n",
    "train_part34(model, optimizer)"
   ]
  },
  {
   "cell_type": "markdown",
   "metadata": {
    "colab_type": "text",
    "id": "0anfpQL6AZ25"
   },
   "source": [
    "### Module API: Train a Three-Layer ConvNet\n",
    "You should now use the Module API to train a three-layer ConvNet on CIFAR. This should look very similar to training the two-layer network! You don't need to tune any hyperparameters, but you should achieve above above 45% after training for one epoch.\n",
    "\n",
    "You should train the model using stochastic gradient descent without momentum."
   ]
  },
  {
   "cell_type": "code",
   "execution_count": 22,
   "metadata": {
    "colab": {
     "autoexec": {
      "startup": false,
      "wait_interval": 0
     },
     "base_uri": "https://localhost:8080/",
     "height": 561
    },
    "colab_type": "code",
    "executionInfo": {
     "elapsed": 15304,
     "status": "ok",
     "timestamp": 1528175947629,
     "user": {
      "displayName": "radream",
      "photoUrl": "//lh3.googleusercontent.com/-y8V6pdyk_ro/AAAAAAAAAAI/AAAAAAAAA6Y/SINQvfcEI-s/s50-c-k-no/photo.jpg",
      "userId": "118358371009498594123"
     },
     "user_tz": -480
    },
    "id": "ujIFb59eAZ26",
    "outputId": "910feab1-9f76-4d3e-b252-5d090f530a4b"
   },
   "outputs": [
    {
     "name": "stdout",
     "output_type": "stream",
     "text": [
      "Iteration 0, loss = 3.9250\n",
      "Checking accuracy on validation set\n",
      "Got 119 / 1000 correct (11.90)\n",
      "\n",
      "Iteration 100, loss = 2.0437\n",
      "Checking accuracy on validation set\n",
      "Got 321 / 1000 correct (32.10)\n",
      "\n",
      "Iteration 200, loss = 1.9777\n",
      "Checking accuracy on validation set\n",
      "Got 371 / 1000 correct (37.10)\n",
      "\n",
      "Iteration 300, loss = 1.8519\n",
      "Checking accuracy on validation set\n",
      "Got 401 / 1000 correct (40.10)\n",
      "\n",
      "Iteration 400, loss = 1.4752\n",
      "Checking accuracy on validation set\n",
      "Got 409 / 1000 correct (40.90)\n",
      "\n",
      "Iteration 500, loss = 1.9404\n",
      "Checking accuracy on validation set\n",
      "Got 447 / 1000 correct (44.70)\n",
      "\n",
      "Iteration 600, loss = 1.5938\n",
      "Checking accuracy on validation set\n",
      "Got 435 / 1000 correct (43.50)\n",
      "\n",
      "Iteration 700, loss = 1.6710\n",
      "Checking accuracy on validation set\n",
      "Got 456 / 1000 correct (45.60)\n",
      "\n"
     ]
    }
   ],
   "source": [
    "learning_rate = 3e-3\n",
    "channel_1 = 32\n",
    "channel_2 = 16\n",
    "\n",
    "model = None\n",
    "optimizer = None\n",
    "################################################################################\n",
    "# TODO: Instantiate your ThreeLayerConvNet model and a corresponding optimizer #\n",
    "################################################################################\n",
    "model = ThreeLayerConvNet(in_channel=3, channel_1=channel_1, channel_2=channel_2, num_classes=10)\n",
    "optimizer = optim.SGD(model.parameters(), lr=learning_rate)\n",
    "################################################################################\n",
    "#                                 END OF YOUR CODE                             \n",
    "################################################################################\n",
    "\n",
    "train_part34(model, optimizer)"
   ]
  },
  {
   "cell_type": "markdown",
   "metadata": {
    "colab_type": "text",
    "id": "X1Lhqq2lAZ2-"
   },
   "source": [
    "# Part IV. PyTorch Sequential API\n",
    "\n",
    "Part III introduced the PyTorch Module API, which allows you to define arbitrary learnable layers and their connectivity. \n",
    "\n",
    "For simple models like a stack of feed forward layers, you still need to go through 3 steps: subclass `nn.Module`, assign layers to class attributes in `__init__`, and call each layer one by one in `forward()`. Is there a more convenient way? \n",
    "\n",
    "Fortunately, PyTorch provides a container Module called `nn.Sequential`, which merges the above steps into one. It is not as flexible as `nn.Module`, because you cannot specify more complex topology than a feed-forward stack, but it's good enough for many use cases.\n",
    "\n",
    "### Sequential API: Two-Layer Network\n",
    "Let's see how to rewrite our two-layer fully connected network example with `nn.Sequential`, and train it using the training loop defined above.\n",
    "\n",
    "Again, you don't need to tune any hyperparameters here, but you shoud achieve above 40% accuracy after one epoch of training."
   ]
  },
  {
   "cell_type": "code",
   "execution_count": 9,
   "metadata": {
    "colab": {
     "autoexec": {
      "startup": false,
      "wait_interval": 0
     },
     "base_uri": "https://localhost:8080/",
     "height": 561
    },
    "colab_type": "code",
    "executionInfo": {
     "elapsed": 18941,
     "status": "ok",
     "timestamp": 1528286262202,
     "user": {
      "displayName": "radream",
      "photoUrl": "//lh3.googleusercontent.com/-y8V6pdyk_ro/AAAAAAAAAAI/AAAAAAAAA6Y/SINQvfcEI-s/s50-c-k-no/photo.jpg",
      "userId": "118358371009498594123"
     },
     "user_tz": -480
    },
    "id": "Hx4mZIrtAZ2-",
    "outputId": "4a26d4b3-8da0-49f7-cdeb-bed8a9c0801c"
   },
   "outputs": [
    {
     "name": "stdout",
     "output_type": "stream",
     "text": [
      "Iteration 0, loss = 2.3264\n",
      "Checking accuracy on validation set\n",
      "Got 148 / 1000 correct (14.80)\n",
      "\n",
      "Iteration 100, loss = 1.9763\n",
      "Checking accuracy on validation set\n",
      "Got 373 / 1000 correct (37.30)\n",
      "\n",
      "Iteration 200, loss = 1.9071\n",
      "Checking accuracy on validation set\n",
      "Got 394 / 1000 correct (39.40)\n",
      "\n",
      "Iteration 300, loss = 1.6776\n",
      "Checking accuracy on validation set\n",
      "Got 407 / 1000 correct (40.70)\n",
      "\n",
      "Iteration 400, loss = 1.7257\n",
      "Checking accuracy on validation set\n",
      "Got 442 / 1000 correct (44.20)\n",
      "\n",
      "Iteration 500, loss = 1.7319\n",
      "Checking accuracy on validation set\n",
      "Got 421 / 1000 correct (42.10)\n",
      "\n",
      "Iteration 600, loss = 1.3621\n",
      "Checking accuracy on validation set\n",
      "Got 432 / 1000 correct (43.20)\n",
      "\n",
      "Iteration 700, loss = 1.7746\n",
      "Checking accuracy on validation set\n",
      "Got 432 / 1000 correct (43.20)\n",
      "\n"
     ]
    }
   ],
   "source": [
    "# We need to wrap `flatten` function in a module in order to stack it\n",
    "# in nn.Sequential\n",
    "class Flatten(nn.Module):\n",
    "    def forward(self, x):\n",
    "        return flatten(x)\n",
    "\n",
    "hidden_layer_size = 4000\n",
    "learning_rate = 1e-2\n",
    "\n",
    "model = nn.Sequential(\n",
    "    Flatten(),\n",
    "    nn.Linear(3 * 32 * 32, hidden_layer_size),\n",
    "    nn.ReLU(),\n",
    "    nn.Linear(hidden_layer_size, 10),\n",
    ")\n",
    "\n",
    "# you can use Nesterov momentum in optim.SGD\n",
    "optimizer = optim.SGD(model.parameters(), lr=learning_rate,\n",
    "                     momentum=0.9, nesterov=True)\n",
    "\n",
    "train_part34(model, optimizer)"
   ]
  },
  {
   "cell_type": "markdown",
   "metadata": {
    "colab_type": "text",
    "id": "YIKFEtmbAZ3B"
   },
   "source": [
    "### Sequential API: Three-Layer ConvNet\n",
    "Here you should use `nn.Sequential` to define and train a three-layer ConvNet with the same architecture we used in Part III:\n",
    "\n",
    "1. Convolutional layer (with bias) with 32 5x5 filters, with zero-padding of 2\n",
    "2. ReLU\n",
    "3. Convolutional layer (with bias) with 16 3x3 filters, with zero-padding of 1\n",
    "4. ReLU\n",
    "5. Fully-connected layer (with bias) to compute scores for 10 classes\n",
    "\n",
    "You should initialize your weight matrices using the `random_weight` function defined above, and you should initialize your bias vectors using the `zero_weight` function above.\n",
    "\n",
    "You should optimize your model using stochastic gradient descent with Nesterov momentum 0.9.\n",
    "\n",
    "Again, you don't need to tune any hyperparameters but you should see accuracy above 55% after one epoch of training."
   ]
  },
  {
   "cell_type": "code",
   "execution_count": 17,
   "metadata": {
    "colab": {
     "autoexec": {
      "startup": false,
      "wait_interval": 0
     },
     "base_uri": "https://localhost:8080/",
     "height": 561
    },
    "colab_type": "code",
    "executionInfo": {
     "elapsed": 18838,
     "status": "ok",
     "timestamp": 1529231325060,
     "user": {
      "displayName": "radream",
      "photoUrl": "//lh3.googleusercontent.com/-y8V6pdyk_ro/AAAAAAAAAAI/AAAAAAAAA6Y/SINQvfcEI-s/s50-c-k-no/photo.jpg",
      "userId": "118358371009498594123"
     },
     "user_tz": -480
    },
    "id": "l51rdwgwSeVM",
    "outputId": "f9b22607-8fb3-4775-9673-667d35174479"
   },
   "outputs": [
    {
     "name": "stdout",
     "output_type": "stream",
     "text": [
      "Iteration 0, loss = 2.3566\n",
      "Checking accuracy on validation set\n",
      "Got 131 / 1000 correct (13.10)\n",
      "\n",
      "Iteration 100, loss = 1.7860\n",
      "Checking accuracy on validation set\n",
      "Got 405 / 1000 correct (40.50)\n",
      "\n",
      "Iteration 200, loss = 1.6124\n",
      "Checking accuracy on validation set\n",
      "Got 494 / 1000 correct (49.40)\n",
      "\n",
      "Iteration 300, loss = 1.3742\n",
      "Checking accuracy on validation set\n",
      "Got 485 / 1000 correct (48.50)\n",
      "\n",
      "Iteration 400, loss = 1.2784\n",
      "Checking accuracy on validation set\n",
      "Got 521 / 1000 correct (52.10)\n",
      "\n",
      "Iteration 500, loss = 1.5822\n",
      "Checking accuracy on validation set\n",
      "Got 546 / 1000 correct (54.60)\n",
      "\n",
      "Iteration 600, loss = 1.5055\n",
      "Checking accuracy on validation set\n",
      "Got 543 / 1000 correct (54.30)\n",
      "\n",
      "Iteration 700, loss = 1.2333\n",
      "Checking accuracy on validation set\n",
      "Got 572 / 1000 correct (57.20)\n",
      "\n"
     ]
    }
   ],
   "source": [
    "from torch.nn.parameter import Parameter\n",
    "\n",
    "def init_weights(m):\n",
    "    if isinstance(m, nn.Conv2d):\n",
    "        n = m.kernel_size[0] * m.kernel_size[1] * m.out_channels\n",
    "        m.weight.data.normal_(0, np.sqrt(2. / n))\n",
    "        m.bias.data.zero_()\n",
    "    if isinstance(m, nn.Linear):\n",
    "        n = m.in_features\n",
    "        m.weight.data.normal_(0, np.sqrt(2. / n))\n",
    "        m.bias.data.zero_()\n",
    "\n",
    "channel_1 = 32\n",
    "channel_2 = 16\n",
    "learning_rate = 1e-2\n",
    "\n",
    "################################################################################\n",
    "# TODO: Rewrite the 2-layer ConvNet with bias from Part III with the           #\n",
    "# Sequential API.                                                              #\n",
    "################################################################################        \n",
    "model = nn.Sequential(\n",
    "    nn.Conv2d(3, channel_1, 5, padding=2),\n",
    "    nn.ReLU(),\n",
    "    nn.Conv2d(channel_1, channel_2, 3, padding=1),\n",
    "    nn.ReLU(),\n",
    "    Flatten(),\n",
    "    nn.Linear(channel_2 * 32 * 32, 10),\n",
    ")\n",
    "model.apply(init_weights)\n",
    "\n",
    "# you can use Nesterov momentum in optim.SGD\n",
    "optimizer = optim.SGD(model.parameters(), lr=learning_rate,\n",
    "                     momentum=0.9, nesterov=True)\n",
    "################################################################################\n",
    "#                                 END OF YOUR CODE                             \n",
    "################################################################################\n",
    "\n",
    "train_part34(model, optimizer)"
   ]
  },
  {
   "cell_type": "markdown",
   "metadata": {
    "colab_type": "text",
    "id": "-PKXtN8UAZ3H"
   },
   "source": [
    "# Part V. CIFAR-10 open-ended challenge\n",
    "\n",
    "In this section, you can experiment with whatever ConvNet architecture you'd like on CIFAR-10. \n",
    "\n",
    "Now it's your job to experiment with architectures, hyperparameters, loss functions, and optimizers to train a model that achieves **at least 70%** accuracy on the CIFAR-10 **validation** set within 10 epochs. You can use the check_accuracy and train functions from above. You can use either `nn.Module` or `nn.Sequential` API. \n",
    "\n",
    "Describe what you did at the end of this notebook.\n",
    "\n",
    "Here are the official API documentation for each component. One note: what we call in the class \"spatial batch norm\" is called \"BatchNorm2D\" in PyTorch.\n",
    "\n",
    "* Layers in torch.nn package: http://pytorch.org/docs/stable/nn.html\n",
    "* Activations: http://pytorch.org/docs/stable/nn.html#non-linear-activations\n",
    "* Loss functions: http://pytorch.org/docs/stable/nn.html#loss-functions\n",
    "* Optimizers: http://pytorch.org/docs/stable/optim.html\n",
    "\n",
    "\n",
    "### Things you might try:\n",
    "- **Filter size**: Above we used 5x5; would smaller filters be more efficient?\n",
    "- **Number of filters**: Above we used 32 filters. Do more or fewer do better?\n",
    "- **Pooling vs Strided Convolution**: Do you use max pooling or just stride convolutions?\n",
    "- **Batch normalization**: Try adding spatial batch normalization after convolution layers and vanilla batch normalization after affine layers. Do your networks train faster?\n",
    "- **Network architecture**: The network above has two layers of trainable parameters. Can you do better with a deep network? Good architectures to try include:\n",
    "    - [conv-relu-pool]xN -> [affine]xM -> [softmax or SVM]\n",
    "    - [conv-relu-conv-relu-pool]xN -> [affine]xM -> [softmax or SVM]\n",
    "    - [batchnorm-relu-conv]xN -> [affine]xM -> [softmax or SVM]\n",
    "- **Global Average Pooling**: Instead of flattening and then having multiple affine layers, perform convolutions until your image gets small (7x7 or so) and then perform an average pooling operation to get to a 1x1 image picture (1, 1 , Filter#), which is then reshaped into a (Filter#) vector. This is used in [Google's Inception Network](https://arxiv.org/abs/1512.00567) (See Table 1 for their architecture).\n",
    "- **Regularization**: Add l2 weight regularization, or perhaps use Dropout.\n",
    "\n",
    "### Tips for training\n",
    "For each network architecture that you try, you should tune the learning rate and other hyperparameters. When doing this there are a couple important things to keep in mind:\n",
    "\n",
    "- If the parameters are working well, you should see improvement within a few hundred iterations\n",
    "- Remember the coarse-to-fine approach for hyperparameter tuning: start by testing a large range of hyperparameters for just a few training iterations to find the combinations of parameters that are working at all.\n",
    "- Once you have found some sets of parameters that seem to work, search more finely around these parameters. You may need to train for more epochs.\n",
    "- You should use the validation set for hyperparameter search, and save your test set for evaluating your architecture on the best parameters as selected by the validation set.\n",
    "\n",
    "### Going above and beyond\n",
    "If you are feeling adventurous there are many other features you can implement to try and improve your performance. You are **not required** to implement any of these, but don't miss the fun if you have time!\n",
    "\n",
    "- Alternative optimizers: you can try Adam, Adagrad, RMSprop, etc.\n",
    "- Alternative activation functions such as leaky ReLU, parametric ReLU, ELU, or MaxOut.\n",
    "- Model ensembles\n",
    "- Data augmentation\n",
    "- New Architectures\n",
    "  - [ResNets](https://arxiv.org/abs/1512.03385) where the input from the previous layer is added to the output.\n",
    "  - [DenseNets](https://arxiv.org/abs/1608.06993) where inputs into previous layers are concatenated together.\n",
    "  - [This blog has an in-depth overview](https://chatbotslife.com/resnets-highwaynets-and-densenets-oh-my-9bb15918ee32)\n",
    "\n",
    "### Have fun and happy training! "
   ]
  },
  {
   "cell_type": "code",
   "execution_count": 21,
   "metadata": {
    "colab": {
     "autoexec": {
      "startup": false,
      "wait_interval": 0
     },
     "base_uri": "https://localhost:8080/",
     "height": 34
    },
    "colab_type": "code",
    "executionInfo": {
     "elapsed": 2502,
     "status": "ok",
     "timestamp": 1529231608793,
     "user": {
      "displayName": "radream",
      "photoUrl": "//lh3.googleusercontent.com/-y8V6pdyk_ro/AAAAAAAAAAI/AAAAAAAAA6Y/SINQvfcEI-s/s50-c-k-no/photo.jpg",
      "userId": "118358371009498594123"
     },
     "user_tz": -480
    },
    "id": "QxLoO_ofTNVd",
    "outputId": "7ec853f3-0c16-4d61-8885-018b0b801433"
   },
   "outputs": [
    {
     "name": "stdout",
     "output_type": "stream",
     "text": [
      "Files already downloaded and verified\n"
     ]
    }
   ],
   "source": [
    "# Transform the images for augmentation\n",
    "NUM_TRAIN = 49000\n",
    "\n",
    "# The torchvision.transforms package provides tools for preprocessing data\n",
    "# and for performing data augmentation; here we set up a transform to\n",
    "# preprocess the data by subtracting the mean RGB value and dividing by the\n",
    "# standard deviation of each RGB value; we've hardcoded the mean and std.\n",
    "transform = T.Compose([\n",
    "                T.ColorJitter(brightness=0.15, contrast=0.15, saturation=0.15, hue=0.05),\n",
    "                T.RandomResizedCrop(32, scale=(0.8, 1.0)),\n",
    "                T.RandomHorizontalFlip(),\n",
    "                T.ToTensor(),\n",
    "                T.Normalize((0.4914, 0.4822, 0.4465), (0.2023, 0.1994, 0.2010))\n",
    "            ])\n",
    "\n",
    "# We set up a Dataset object for each split (train / val / test); Datasets load\n",
    "# training examples one at a time, so we wrap each Dataset in a DataLoader which\n",
    "# iterates through the Dataset and forms minibatches. We divide the CIFAR-10\n",
    "# training set into train and val sets by passing a Sampler object to the\n",
    "# DataLoader telling how it should sample from the underlying Dataset.\n",
    "cifar10_train = dset.CIFAR10('./cs231n/datasets', train=True, download=True,\n",
    "                             transform=transform)\n",
    "loader_train = DataLoader(cifar10_train, batch_size=8, \n",
    "                          sampler=sampler.SubsetRandomSampler(range(NUM_TRAIN)))"
   ]
  },
  {
   "cell_type": "code",
   "execution_count": 24,
   "metadata": {
    "colab": {
     "autoexec": {
      "startup": false,
      "wait_interval": 0
     },
     "base_uri": "https://localhost:8080/",
     "height": 99
    },
    "colab_type": "code",
    "executionInfo": {
     "elapsed": 754,
     "status": "ok",
     "timestamp": 1529231642096,
     "user": {
      "displayName": "radream",
      "photoUrl": "//lh3.googleusercontent.com/-y8V6pdyk_ro/AAAAAAAAAAI/AAAAAAAAA6Y/SINQvfcEI-s/s50-c-k-no/photo.jpg",
      "userId": "118358371009498594123"
     },
     "user_tz": -480
    },
    "id": "YZ2DZE2WTp5j",
    "outputId": "f733bc71-2258-46e5-d289-dbc14e0fbd53"
   },
   "outputs": [
    {
     "data": {
      "image/png": "[encoded data removed]",
      "text/plain": [
       "<matplotlib.figure.Figure at 0x7fbd60f019e8>"
      ]
     },
     "metadata": {
      "tags": []
     },
     "output_type": "display_data"
    }
   ],
   "source": [
    "# To see the transformed images,\n",
    "# remember to set batch_size above as 8\n",
    "classes = ['plane', 'car', 'bird', 'cat', 'deer', 'dog', 'frog', 'horse', 'ship', 'truck']\n",
    "def imshow(inps, clss, title=None):\n",
    "    \"\"\"Imshow for Tensor.\"\"\"\n",
    "    inps = inps.numpy().transpose((0,2,3,1))\n",
    "    clss = clss.numpy()\n",
    "    mean = np.array([0.4914, 0.4822, 0.4465])[None,None,None,:]\n",
    "    std = np.array([0.2023, 0.1994, 0.2010])[None,None,None,:]\n",
    "    inps = std * inps + mean\n",
    "    inps = np.clip(inps, 0, 1)\n",
    "    for i in range(8):\n",
    "      plt.subplot(1,8,i+1)\n",
    "      plt.imshow(inps[i])\n",
    "      plt.axis('off')\n",
    "      plt.title(classes[clss[i]])\n",
    "\n",
    "\n",
    "# Get a batch of training data\n",
    "inps, clss = next(iter(loader_train))\n",
    "\n",
    "imshow(inps, clss)"
   ]
  },
  {
   "cell_type": "markdown",
   "metadata": {
    "colab_type": "text",
    "id": "jahW1SPBUFHc"
   },
   "source": [
    "Prepare data loader"
   ]
  },
  {
   "cell_type": "code",
   "execution_count": 5,
   "metadata": {
    "colab": {
     "autoexec": {
      "startup": false,
      "wait_interval": 0
     },
     "base_uri": "https://localhost:8080/",
     "height": 68
    },
    "colab_type": "code",
    "executionInfo": {
     "elapsed": 60113,
     "status": "ok",
     "timestamp": 1529377329741,
     "user": {
      "displayName": "radream",
      "photoUrl": "//lh3.googleusercontent.com/-y8V6pdyk_ro/AAAAAAAAAAI/AAAAAAAAA6Y/SINQvfcEI-s/s50-c-k-no/photo.jpg",
      "userId": "118358371009498594123"
     },
     "user_tz": -480
    },
    "id": "KYKu2OC3ZvWC",
    "outputId": "eee0bb01-2b48-47bf-e7f5-33d165540d03"
   },
   "outputs": [
    {
     "name": "stdout",
     "output_type": "stream",
     "text": [
      "Downloading https://www.cs.toronto.edu/~kriz/cifar-10-python.tar.gz to ./cs231n/datasets/cifar-10-python.tar.gz\n",
      "Files already downloaded and verified\n",
      "Files already downloaded and verified\n"
     ]
    }
   ],
   "source": [
    "NUM_TRAIN = 49000\n",
    "\n",
    "# The torchvision.transforms package provides tools for preprocessing data\n",
    "# and for performing data augmentation; here we set up a transform to\n",
    "# preprocess the data by subtracting the mean RGB value and dividing by the\n",
    "# standard deviation of each RGB value; we've hardcoded the mean and std.\n",
    "transform_train = T.Compose([\n",
    "                T.ColorJitter(brightness=0.15, contrast=0.15, saturation=0.15, hue=0.05),\n",
    "                T.RandomResizedCrop(32, scale=(0.8, 1.0)),\n",
    "                T.RandomHorizontalFlip(),\n",
    "                T.ToTensor(),\n",
    "                T.Normalize((0.4914, 0.4822, 0.4465), (0.2023, 0.1994, 0.2010))\n",
    "            ])\n",
    "transform = T.Compose([\n",
    "                T.ToTensor(),\n",
    "                T.Normalize((0.4914, 0.4822, 0.4465), (0.2023, 0.1994, 0.2010))\n",
    "            ])\n",
    "\n",
    "# We set up a Dataset object for each split (train / val / test); Datasets load\n",
    "# training examples one at a time, so we wrap each Dataset in a DataLoader which\n",
    "# iterates through the Dataset and forms minibatches. We divide the CIFAR-10\n",
    "# training set into train and val sets by passing a Sampler object to the\n",
    "# DataLoader telling how it should sample from the underlying Dataset.\n",
    "cifar10_train = dset.CIFAR10('./cs231n/datasets', train=True, download=True,\n",
    "                             transform=transform_train)\n",
    "loader_train = DataLoader(cifar10_train, batch_size=32, \n",
    "                          sampler=sampler.SubsetRandomSampler(range(NUM_TRAIN)))\n",
    "\n",
    "cifar10_val = dset.CIFAR10('./cs231n/datasets', train=True, download=True,\n",
    "                           transform=transform)\n",
    "loader_val = DataLoader(cifar10_val, batch_size=64, \n",
    "                        sampler=sampler.SubsetRandomSampler(range(NUM_TRAIN, 50000)))\n",
    "\n",
    "cifar10_test = dset.CIFAR10('./cs231n/datasets', train=False, download=True, \n",
    "                            transform=transform)\n",
    "loader_test = DataLoader(cifar10_test, batch_size=64)"
   ]
  },
  {
   "cell_type": "markdown",
   "metadata": {
    "colab_type": "text",
    "id": "YgfROhWcUNu7"
   },
   "source": [
    "Prepare function for training"
   ]
  },
  {
   "cell_type": "code",
   "execution_count": 0,
   "metadata": {
    "colab": {
     "autoexec": {
      "startup": false,
      "wait_interval": 0
     }
    },
    "colab_type": "code",
    "id": "B3L-v2WbPbds"
   },
   "outputs": [],
   "source": [
    "class Flatten(nn.Module):\n",
    "    def forward(self, x):\n",
    "        return flatten(x)\n",
    "\n",
    "\n",
    "def foward_pass(x, y, model):\n",
    "    model.eval()  # set model to evaluation mode\n",
    "    x = x.to(device=device, dtype=dtype)\n",
    "    y = y.to(device=device, dtype=torch.long)\n",
    "    scores = model(x)\n",
    "    l = F.cross_entropy(scores, y)\n",
    "    _, preds = scores.max(1)\n",
    "    num_correct = (preds == y).sum()\n",
    "    num_samples = preds.size(0)\n",
    "    loss = l.item()\n",
    "    return num_correct, num_samples, loss\n",
    "\n",
    "\n",
    "def check_accuracy(loader, model):\n",
    "    if loader.dataset.train:\n",
    "        print('Checking accuracy on validation set')\n",
    "    else:\n",
    "        print('Checking accuracy on test set')\n",
    "    num_correct, num_samples, losses = 0, 0, []\n",
    "    with torch.no_grad():\n",
    "        for x, y in loader:\n",
    "            n_corr, n_samples, l = foward_pass(x, y, model)\n",
    "            num_correct += n_corr\n",
    "            num_samples += n_samples\n",
    "            losses.append(l)\n",
    "    acc = float(num_correct) / num_samples\n",
    "    loss = np.mean(losses)\n",
    "    print('Got val loss %.4f, %d / %d correct (%.2f)' % (loss, num_correct, num_samples, 100 * acc))\n",
    "    return acc, loss\n",
    "\n",
    "\n",
    "def train_net(model, optimizer, epochs=1):\n",
    "    \"\"\"\n",
    "    Train a model on CIFAR-10 using the PyTorch Module API.\n",
    "    \n",
    "    Inputs:\n",
    "    - model: A PyTorch Module giving the model to train.\n",
    "    - optimizer: An Optimizer object we will use to train the model\n",
    "    - epochs: (Optional) A Python integer giving the number of epochs to train for\n",
    "    \n",
    "    Returns: Nothing, but prints model accuracies during training.\n",
    "    \"\"\"\n",
    "    model = model.to(device=device)  # move the model parameters to CPU/GPU\n",
    "    \n",
    "    # Log the initial performance\n",
    "    x, y = next(iter(loader_train))\n",
    "    n_correct, n_samples, bch_loss = foward_pass(x, y, model)\n",
    "    val_acc, val_loss = check_accuracy(loader_val, model)\n",
    "    loss_history, val_loss_history = [bch_loss], [val_loss]\n",
    "    train_acc_history, val_acc_history = [float(n_correct) / n_samples], [val_acc]\n",
    "    best_val_acc = val_acc\n",
    "    \n",
    "    # Start training for epochs\n",
    "    for e in range(epochs):\n",
    "        print('\\nEpoch %d / %d:' % (e + 1, epochs))\n",
    "        for t, (x, y) in enumerate(loader_train):\n",
    "            model.train()  # put model to training mode\n",
    "            x = x.to(device=device, dtype=dtype)  # move to device, e.g. GPU\n",
    "            y = y.to(device=device, dtype=torch.long)\n",
    "\n",
    "            scores = model(x)\n",
    "            loss = F.cross_entropy(scores, y)\n",
    "\n",
    "            # Zero out all of the gradients for the variables which the optimizer\n",
    "            # will update.\n",
    "            optimizer.zero_grad()\n",
    "\n",
    "            # This is the backwards pass: compute the gradient of the loss with\n",
    "            # respect to each  parameter of the model.\n",
    "            loss.backward()\n",
    "\n",
    "            # Actually update the parameters of the model using the gradients\n",
    "            # computed by the backwards pass.\n",
    "            optimizer.step()\n",
    "\n",
    "            if t % print_every == 0:\n",
    "                print('Iteration %d, loss = %.4f' % (t, loss.item()))\n",
    "        \n",
    "        # Checkpoint and record/print metrics at epoch end\n",
    "        _, preds = scores.max(1)\n",
    "        bch_acc = float((preds == y).sum()) / preds.size(0)\n",
    "        bch_loss = loss.item()\n",
    "        print('Batch loss %.4f, acc %.2f' % (bch_loss, 100 * bch_acc))\n",
    "        val_acc, val_loss = check_accuracy(loader_val, model)\n",
    "        loss_history.append(bch_loss)\n",
    "        val_loss_history.append(val_loss)\n",
    "        train_acc_history.append(bch_acc)\n",
    "        val_acc_history.append(val_acc)\n",
    "        \n",
    "        if val_acc > best_val_acc:\n",
    "            print('Saving model...')\n",
    "            best_val_acc = val_acc\n",
    "            torch.save(model.state_dict(), './best_model.pth.tar')\n",
    "        print()\n",
    "    \n",
    "    return [train_acc_history, val_acc_history, loss_history, val_loss_history]\n",
    "\n",
    "\n",
    "def reload_best(model):\n",
    "    model.load_state_dict(torch.load('./best_model.pth.tar'))\n",
    "\n",
    "\n",
    "# Visualize training log\n",
    "def plot_history(history):\n",
    "    # plot history of loss and acc\n",
    "    accs, val_accs, losses, val_losses = history\n",
    "    epochs = range(len(accs))\n",
    "    plt.style.use('ggplot')\n",
    "    fig = plt.figure(figsize=(14,5))\n",
    "    ax1 = fig.add_subplot(1,2,1)\n",
    "    ax1.plot(epochs, accs, '-o')\n",
    "    ax1.plot(epochs, val_accs, '-o')\n",
    "    ax1.set_ylim(0, 1.05)\n",
    "    ax1.set_xlabel('epoch')\n",
    "    ax1.set_ylabel('accuracy')\n",
    "    ax1.legend(['train', 'val'], loc='lower right')\n",
    "    ax2 = fig.add_subplot(1,2,2)\n",
    "    ax2.plot(epochs, losses, '-o')\n",
    "    ax2.plot(epochs, val_losses, '-o')\n",
    "    ax2.set_ylim(bottom=-0.1)\n",
    "    ax2.set_xlabel('epoch')\n",
    "    ax2.set_ylabel('loss')\n",
    "    ax2.legend(['train', 'val'], loc='upper right')"
   ]
  },
  {
   "cell_type": "markdown",
   "metadata": {
    "colab_type": "text",
    "id": "Dr27LLFNYERK"
   },
   "source": [
    "**VGG-style**"
   ]
  },
  {
   "cell_type": "code",
   "execution_count": 15,
   "metadata": {
    "colab": {
     "autoexec": {
      "startup": false,
      "wait_interval": 0
     },
     "base_uri": "https://localhost:8080/",
     "height": 6218
    },
    "colab_type": "code",
    "executionInfo": {
     "elapsed": 1093514,
     "status": "ok",
     "timestamp": 1529380554005,
     "user": {
      "displayName": "radream",
      "photoUrl": "//lh3.googleusercontent.com/-y8V6pdyk_ro/AAAAAAAAAAI/AAAAAAAAA6Y/SINQvfcEI-s/s50-c-k-no/photo.jpg",
      "userId": "118358371009498594123"
     },
     "user_tz": -480
    },
    "id": "Fv6n3cRCzql1",
    "outputId": "979f2c8b-258c-4d23-fe48-679d23c9a8ef"
   },
   "outputs": [
    {
     "name": "stdout",
     "output_type": "stream",
     "text": [
      "Checking accuracy on validation set\n",
      "Got val loss 2.3045, 78 / 1000 correct (7.80)\n",
      "\n",
      "Epoch 1 / 15:\n",
      "Iteration 0, loss = 2.4744\n",
      "Iteration 100, loss = 1.7488\n",
      "Iteration 200, loss = 1.5416\n",
      "Iteration 300, loss = 1.6090\n",
      "Iteration 400, loss = 1.2861\n",
      "Iteration 500, loss = 1.3451\n",
      "Iteration 600, loss = 1.4451\n",
      "Iteration 700, loss = 1.4654\n",
      "Iteration 800, loss = 1.2679\n",
      "Iteration 900, loss = 1.3374\n",
      "Iteration 1000, loss = 1.2242\n",
      "Iteration 1100, loss = 1.3561\n",
      "Iteration 1200, loss = 1.0290\n",
      "Iteration 1300, loss = 0.8744\n",
      "Iteration 1400, loss = 1.4514\n",
      "Iteration 1500, loss = 1.1309\n",
      "Batch loss 0.5546, acc 87.50\n",
      "Checking accuracy on validation set\n",
      "Got val loss 0.8415, 691 / 1000 correct (69.10)\n",
      "Saving model...\n",
      "\n",
      "\n",
      "Epoch 2 / 15:\n",
      "Iteration 0, loss = 1.5662\n",
      "Iteration 100, loss = 0.9918\n",
      "Iteration 200, loss = 1.3600\n",
      "Iteration 300, loss = 0.9466\n",
      "Iteration 400, loss = 1.0223\n",
      "Iteration 500, loss = 0.8235\n",
      "Iteration 600, loss = 0.9011\n",
      "Iteration 700, loss = 1.5398\n",
      "Iteration 800, loss = 0.9479\n",
      "Iteration 900, loss = 1.4080\n",
      "Iteration 1000, loss = 1.0778\n",
      "Iteration 1100, loss = 0.9664\n",
      "Iteration 1200, loss = 0.9544\n",
      "Iteration 1300, loss = 0.5680\n",
      "Iteration 1400, loss = 0.7345\n",
      "Iteration 1500, loss = 0.7990\n",
      "Batch loss 1.0261, acc 75.00\n",
      "Checking accuracy on validation set\n",
      "Got val loss 0.7711, 720 / 1000 correct (72.00)\n",
      "Saving model...\n",
      "\n",
      "\n",
      "Epoch 3 / 15:\n",
      "Iteration 0, loss = 0.9948\n",
      "Iteration 100, loss = 0.6767\n",
      "Iteration 200, loss = 0.9964\n",
      "Iteration 300, loss = 0.7668\n",
      "Iteration 400, loss = 0.5364\n",
      "Iteration 500, loss = 0.6807\n",
      "Iteration 600, loss = 0.7937\n",
      "Iteration 700, loss = 0.8215\n",
      "Iteration 800, loss = 0.4698\n",
      "Iteration 900, loss = 0.8785\n",
      "Iteration 1000, loss = 0.6181\n",
      "Iteration 1100, loss = 0.7539\n",
      "Iteration 1200, loss = 0.4376\n",
      "Iteration 1300, loss = 0.5450\n",
      "Iteration 1400, loss = 0.7731\n",
      "Iteration 1500, loss = 0.9926\n",
      "Batch loss 1.4378, acc 50.00\n",
      "Checking accuracy on validation set\n",
      "Got val loss 0.6073, 801 / 1000 correct (80.10)\n",
      "Saving model...\n",
      "\n",
      "\n",
      "Epoch 4 / 15:\n",
      "Iteration 0, loss = 0.8117\n",
      "Iteration 100, loss = 0.4701\n",
      "Iteration 200, loss = 0.8022\n",
      "Iteration 300, loss = 0.6136\n",
      "Iteration 400, loss = 0.8295\n",
      "Iteration 500, loss = 0.5366\n",
      "Iteration 600, loss = 0.2834\n",
      "Iteration 700, loss = 0.4708\n",
      "Iteration 800, loss = 0.4883\n",
      "Iteration 900, loss = 0.7288\n",
      "Iteration 1000, loss = 0.7925\n",
      "Iteration 1100, loss = 0.4853\n",
      "Iteration 1200, loss = 0.6977\n",
      "Iteration 1300, loss = 0.7720\n",
      "Iteration 1400, loss = 0.5645\n",
      "Iteration 1500, loss = 0.3286\n",
      "Batch loss 0.7490, acc 75.00\n",
      "Checking accuracy on validation set\n",
      "Got val loss 0.5172, 822 / 1000 correct (82.20)\n",
      "Saving model...\n",
      "\n",
      "\n",
      "Epoch 5 / 15:\n",
      "Iteration 0, loss = 0.5462\n",
      "Iteration 100, loss = 0.6213\n",
      "Iteration 200, loss = 0.6829\n",
      "Iteration 300, loss = 0.7571\n",
      "Iteration 400, loss = 0.6699\n",
      "Iteration 500, loss = 0.7322\n",
      "Iteration 600, loss = 0.5240\n",
      "Iteration 700, loss = 0.4271\n",
      "Iteration 800, loss = 0.7889\n",
      "Iteration 900, loss = 0.9247\n",
      "Iteration 1000, loss = 0.6932\n",
      "Iteration 1100, loss = 0.6214\n",
      "Iteration 1200, loss = 0.7318\n",
      "Iteration 1300, loss = 0.4569\n",
      "Iteration 1400, loss = 0.5968\n",
      "Iteration 1500, loss = 0.7212\n",
      "Batch loss 0.6368, acc 75.00\n",
      "Checking accuracy on validation set\n",
      "Got val loss 0.4853, 831 / 1000 correct (83.10)\n",
      "Saving model...\n",
      "\n",
      "\n",
      "Epoch 6 / 15:\n",
      "Iteration 0, loss = 0.2616\n",
      "Iteration 100, loss = 1.0620\n",
      "Iteration 200, loss = 0.4312\n",
      "Iteration 300, loss = 0.4333\n",
      "Iteration 400, loss = 0.5778\n",
      "Iteration 500, loss = 0.2898\n",
      "Iteration 600, loss = 0.6776\n",
      "Iteration 700, loss = 0.5362\n",
      "Iteration 800, loss = 0.3589\n",
      "Iteration 900, loss = 0.8218\n",
      "Iteration 1000, loss = 0.5789\n",
      "Iteration 1100, loss = 0.7023\n",
      "Iteration 1200, loss = 0.4854\n",
      "Iteration 1300, loss = 0.5179\n",
      "Iteration 1400, loss = 0.7604\n",
      "Iteration 1500, loss = 0.7959\n",
      "Batch loss 0.3344, acc 75.00\n",
      "Checking accuracy on validation set\n",
      "Got val loss 0.4429, 846 / 1000 correct (84.60)\n",
      "Saving model...\n",
      "\n",
      "\n",
      "Epoch 7 / 15:\n",
      "Iteration 0, loss = 0.6292\n",
      "Iteration 100, loss = 0.4184\n",
      "Iteration 200, loss = 0.6998\n",
      "Iteration 300, loss = 0.4703\n",
      "Iteration 400, loss = 0.4362\n",
      "Iteration 500, loss = 0.4682\n",
      "Iteration 600, loss = 0.7822\n",
      "Iteration 700, loss = 0.2399\n",
      "Iteration 800, loss = 0.4139\n",
      "Iteration 900, loss = 0.2388\n",
      "Iteration 1000, loss = 0.5713\n",
      "Iteration 1100, loss = 0.7638\n",
      "Iteration 1200, loss = 0.5338\n",
      "Iteration 1300, loss = 0.6362\n",
      "Iteration 1400, loss = 0.3050\n",
      "Iteration 1500, loss = 0.4142\n",
      "Batch loss 0.1426, acc 100.00\n",
      "Checking accuracy on validation set\n",
      "Got val loss 0.5265, 852 / 1000 correct (85.20)\n",
      "Saving model...\n",
      "\n",
      "\n",
      "Epoch 8 / 15:\n",
      "Iteration 0, loss = 0.4902\n",
      "Iteration 100, loss = 0.6354\n",
      "Iteration 200, loss = 0.2582\n",
      "Iteration 300, loss = 0.3381\n",
      "Iteration 400, loss = 0.6947\n",
      "Iteration 500, loss = 0.4330\n",
      "Iteration 600, loss = 0.4724\n",
      "Iteration 700, loss = 0.3985\n",
      "Iteration 800, loss = 0.3164\n",
      "Iteration 900, loss = 0.4612\n",
      "Iteration 1000, loss = 0.4633\n",
      "Iteration 1100, loss = 0.5942\n",
      "Iteration 1200, loss = 0.1658\n",
      "Iteration 1300, loss = 0.3407\n",
      "Iteration 1400, loss = 0.3104\n",
      "Iteration 1500, loss = 0.4679\n",
      "Batch loss 0.9118, acc 75.00\n",
      "Checking accuracy on validation set\n",
      "Got val loss 0.4246, 861 / 1000 correct (86.10)\n",
      "Saving model...\n",
      "\n",
      "\n",
      "Epoch 9 / 15:\n",
      "Iteration 0, loss = 0.7563\n",
      "Iteration 100, loss = 0.1986\n",
      "Iteration 200, loss = 0.2494\n",
      "Iteration 300, loss = 0.3653\n",
      "Iteration 400, loss = 0.2280\n",
      "Iteration 500, loss = 0.1853\n",
      "Iteration 600, loss = 0.4811\n",
      "Iteration 700, loss = 0.5169\n",
      "Iteration 800, loss = 0.3306\n",
      "Iteration 900, loss = 0.4669\n",
      "Iteration 1000, loss = 0.6568\n",
      "Iteration 1100, loss = 0.5216\n",
      "Iteration 1200, loss = 0.4793\n",
      "Iteration 1300, loss = 0.8809\n",
      "Iteration 1400, loss = 0.6440\n",
      "Iteration 1500, loss = 0.1679\n",
      "Batch loss 0.5691, acc 87.50\n",
      "Checking accuracy on validation set\n",
      "Got val loss 0.3942, 871 / 1000 correct (87.10)\n",
      "Saving model...\n",
      "\n",
      "\n",
      "Epoch 10 / 15:\n",
      "Iteration 0, loss = 0.5786\n",
      "Iteration 100, loss = 0.4179\n",
      "Iteration 200, loss = 0.6258\n",
      "Iteration 300, loss = 0.5117\n",
      "Iteration 400, loss = 0.2880\n",
      "Iteration 500, loss = 0.4468\n",
      "Iteration 600, loss = 0.2379\n",
      "Iteration 700, loss = 0.1989\n",
      "Iteration 800, loss = 0.3728\n",
      "Iteration 900, loss = 0.2056\n",
      "Iteration 1000, loss = 0.3275\n",
      "Iteration 1100, loss = 0.6091\n",
      "Iteration 1200, loss = 0.3042\n",
      "Iteration 1300, loss = 0.3895\n",
      "Iteration 1400, loss = 0.3269\n",
      "Iteration 1500, loss = 0.3222\n",
      "Batch loss 0.1117, acc 100.00\n",
      "Checking accuracy on validation set\n",
      "Got val loss 0.4081, 874 / 1000 correct (87.40)\n",
      "Saving model...\n",
      "\n",
      "\n",
      "Epoch 11 / 15:\n",
      "Iteration 0, loss = 0.2770\n",
      "Iteration 100, loss = 0.3090\n",
      "Iteration 200, loss = 0.6316\n",
      "Iteration 300, loss = 0.6010\n",
      "Iteration 400, loss = 0.5907\n",
      "Iteration 500, loss = 0.3434\n",
      "Iteration 600, loss = 0.4791\n",
      "Iteration 700, loss = 0.4153\n",
      "Iteration 800, loss = 0.4378\n",
      "Iteration 900, loss = 0.3334\n",
      "Iteration 1000, loss = 0.4875\n",
      "Iteration 1100, loss = 0.4304\n",
      "Iteration 1200, loss = 0.5342\n",
      "Iteration 1300, loss = 0.2373\n",
      "Iteration 1400, loss = 0.3023\n",
      "Iteration 1500, loss = 0.2691\n",
      "Batch loss 1.3288, acc 75.00\n",
      "Checking accuracy on validation set\n",
      "Got val loss 0.3911, 864 / 1000 correct (86.40)\n",
      "\n",
      "\n",
      "Epoch 12 / 15:\n",
      "Iteration 0, loss = 0.3640\n",
      "Iteration 100, loss = 0.2838\n",
      "Iteration 200, loss = 0.2316\n",
      "Iteration 300, loss = 0.3609\n",
      "Iteration 400, loss = 0.3423\n",
      "Iteration 500, loss = 0.5163\n",
      "Iteration 600, loss = 0.7019\n",
      "Iteration 700, loss = 0.4061\n",
      "Iteration 800, loss = 0.2575\n",
      "Iteration 900, loss = 0.3904\n",
      "Iteration 1000, loss = 0.1398\n",
      "Iteration 1100, loss = 0.4518\n",
      "Iteration 1200, loss = 0.4951\n",
      "Iteration 1300, loss = 0.3503\n",
      "Iteration 1400, loss = 0.5290\n",
      "Iteration 1500, loss = 0.5362\n",
      "Batch loss 0.3948, acc 87.50\n",
      "Checking accuracy on validation set\n",
      "Got val loss 0.3752, 875 / 1000 correct (87.50)\n",
      "Saving model...\n",
      "\n",
      "\n",
      "Epoch 13 / 15:\n",
      "Iteration 0, loss = 0.2131\n",
      "Iteration 100, loss = 0.3292\n",
      "Iteration 200, loss = 0.4666\n",
      "Iteration 300, loss = 0.1196\n",
      "Iteration 400, loss = 0.2520\n",
      "Iteration 500, loss = 0.4258\n",
      "Iteration 600, loss = 0.4440\n",
      "Iteration 700, loss = 0.0988\n",
      "Iteration 800, loss = 0.2460\n",
      "Iteration 900, loss = 0.4399\n",
      "Iteration 1000, loss = 0.0852\n",
      "Iteration 1100, loss = 0.2194\n",
      "Iteration 1200, loss = 0.3945\n",
      "Iteration 1300, loss = 0.3191\n",
      "Iteration 1400, loss = 0.1942\n",
      "Iteration 1500, loss = 0.3137\n",
      "Batch loss 0.2181, acc 87.50\n",
      "Checking accuracy on validation set\n",
      "Got val loss 0.3633, 878 / 1000 correct (87.80)\n",
      "Saving model...\n",
      "\n",
      "\n",
      "Epoch 14 / 15:\n",
      "Iteration 0, loss = 0.1862\n",
      "Iteration 100, loss = 0.0800\n",
      "Iteration 200, loss = 0.2040\n",
      "Iteration 300, loss = 0.2346\n",
      "Iteration 400, loss = 0.1865\n",
      "Iteration 500, loss = 0.2953\n",
      "Iteration 600, loss = 0.4122\n",
      "Iteration 700, loss = 0.2361\n",
      "Iteration 800, loss = 0.2216\n",
      "Iteration 900, loss = 0.3694\n",
      "Iteration 1000, loss = 0.2306\n",
      "Iteration 1100, loss = 0.1893\n",
      "Iteration 1200, loss = 0.5902\n",
      "Iteration 1300, loss = 0.3223\n",
      "Iteration 1400, loss = 0.2896\n",
      "Iteration 1500, loss = 0.2255\n",
      "Batch loss 0.0952, acc 100.00\n",
      "Checking accuracy on validation set\n",
      "Got val loss 0.3660, 877 / 1000 correct (87.70)\n",
      "\n",
      "\n",
      "Epoch 15 / 15:\n",
      "Iteration 0, loss = 0.1352\n",
      "Iteration 100, loss = 0.5291\n",
      "Iteration 200, loss = 0.2258\n",
      "Iteration 300, loss = 0.2018\n",
      "Iteration 400, loss = 0.1783\n",
      "Iteration 500, loss = 0.2898\n",
      "Iteration 600, loss = 0.0788\n",
      "Iteration 700, loss = 0.3649\n",
      "Iteration 800, loss = 0.1672\n",
      "Iteration 900, loss = 0.3749\n",
      "Iteration 1000, loss = 0.3892\n",
      "Iteration 1100, loss = 0.0340\n",
      "Iteration 1200, loss = 0.3101\n",
      "Iteration 1300, loss = 0.2051\n",
      "Iteration 1400, loss = 0.5698\n",
      "Iteration 1500, loss = 0.3704\n",
      "Batch loss 0.1246, acc 100.00\n",
      "Checking accuracy on validation set\n",
      "Got val loss 0.3740, 879 / 1000 correct (87.90)\n",
      "Saving model...\n",
      "\n",
      "Training goes with 1092.24 seconds.\n"
     ]
    },
    {
     "data": {
      "image/png": "[encoded data removed]",
      "text/plain": [
       "<matplotlib.figure.Figure at 0x7f80f83bff28>"
      ]
     },
     "metadata": {
      "tags": []
     },
     "output_type": "display_data"
    }
   ],
   "source": [
    "learning_rate = 1e-3\n",
    "\n",
    "model = nn.Sequential(\n",
    "    nn.Conv2d(3, 64, 3, padding=1),\n",
    "    nn.ReLU(),\n",
    "    nn.BatchNorm2d(64),\n",
    "    nn.Conv2d(64, 64, 3, padding=1),\n",
    "    nn.ReLU(),\n",
    "    nn.BatchNorm2d(64),\n",
    "    nn.MaxPool2d(2, stride=2),\n",
    "    nn.Conv2d(64, 128, 3, padding=1),\n",
    "    nn.ReLU(),\n",
    "    nn.BatchNorm2d(128),\n",
    "    nn.Conv2d(128, 128, 3, padding=1),\n",
    "    nn.ReLU(),\n",
    "    nn.BatchNorm2d(128),\n",
    "    nn.MaxPool2d(2, stride=2),\n",
    "    nn.Conv2d(128, 256, 3, padding=1),\n",
    "    nn.ReLU(),\n",
    "    nn.BatchNorm2d(256),\n",
    "    nn.Conv2d(256, 256, 3, padding=1),\n",
    "    nn.ReLU(),\n",
    "    nn.BatchNorm2d(256),\n",
    "    nn.MaxPool2d(2, stride=2),\n",
    "    Flatten(),\n",
    "    nn.Linear(256 * 4 * 4, 512),\n",
    "    nn.ReLU(),\n",
    "    nn.BatchNorm1d(512),\n",
    "    nn.Dropout(p=0.5),\n",
    "    nn.Linear(512, 10),\n",
    ")\n",
    "\n",
    "optimizer = optim.Adam(model.parameters(), lr=learning_rate)\n",
    "\n",
    "t0 = time()\n",
    "history = train_net(model, optimizer, epochs=15)\n",
    "plot_history(history)\n",
    "print('Training goes with %.2f seconds.' %(time()-t0))"
   ]
  },
  {
   "cell_type": "markdown",
   "metadata": {
    "colab_type": "text",
    "id": "s1IM9ay7VPff"
   },
   "source": [
    "**Inception Net**"
   ]
  },
  {
   "cell_type": "code",
   "execution_count": 0,
   "metadata": {
    "colab": {
     "autoexec": {
      "startup": false,
      "wait_interval": 0
     }
    },
    "colab_type": "code",
    "id": "uyOMRFnUX8Ga"
   },
   "outputs": [],
   "source": [
    "class BasicConv2d(nn.Module):\n",
    "\n",
    "    def __init__(self, in_channels, out_channels, **kwargs):\n",
    "        super(BasicConv2d, self).__init__()\n",
    "        self.conv = nn.Conv2d(in_channels, out_channels, bias=False, **kwargs)\n",
    "        self.bn = nn.BatchNorm2d(out_channels, eps=0.001)\n",
    "\n",
    "    def forward(self, x):\n",
    "        x = self.conv(x)\n",
    "        x = self.bn(x)\n",
    "        return F.relu(x, inplace=True)\n",
    "\n",
    "\n",
    "class Inception3(nn.Module):\n",
    "\n",
    "    def __init__(self, num_classes=10):\n",
    "        super(Inception3, self).__init__()\n",
    "        self.Conv2d_1a_3x3 = BasicConv2d(3, 32, kernel_size=3, padding=1)\n",
    "        self.Conv2d_2a_3x3 = BasicConv2d(32, 32, kernel_size=3, padding=1)\n",
    "        self.Conv2d_2b_3x3 = BasicConv2d(32, 64, kernel_size=3, padding=1)\n",
    "        self.Conv2d_3b_1x1 = BasicConv2d(64, 80, kernel_size=1)\n",
    "        self.Conv2d_4a_3x3 = BasicConv2d(80, 192, kernel_size=3, padding=1)\n",
    "        self.Mixed_5b = InceptionA(192, pool_features=32)\n",
    "        self.Mixed_5c = InceptionA(256, pool_features=64)\n",
    "        self.Mixed_5d = InceptionA(288, pool_features=64)\n",
    "        \n",
    "        self.avgpool = nn.AvgPool2d(8, stride=1)\n",
    "        self.fc = nn.Linear(288, num_classes)\n",
    "\n",
    "        for m in self.modules():\n",
    "            if isinstance(m, nn.Conv2d) or isinstance(m, nn.Linear):\n",
    "                import scipy.stats as stats\n",
    "                stddev = m.stddev if hasattr(m, 'stddev') else 0.1\n",
    "                X = stats.truncnorm(-2, 2, scale=stddev)\n",
    "                values = torch.Tensor(X.rvs(m.weight.data.numel()))\n",
    "                values = values.view(m.weight.data.size())\n",
    "                m.weight.data.copy_(values)\n",
    "            elif isinstance(m, nn.BatchNorm2d):\n",
    "                m.weight.data.fill_(1)\n",
    "                m.bias.data.zero_()\n",
    "\n",
    "    def forward(self, x):\n",
    "        # 32 x 32 x 3\n",
    "        x = self.Conv2d_1a_3x3(x)\n",
    "        # 32 x 32 x 32\n",
    "        x = self.Conv2d_2a_3x3(x)\n",
    "        # 32 x 32 x 32\n",
    "        x = self.Conv2d_2b_3x3(x)\n",
    "        # 32 x 32 x 64\n",
    "        x = F.max_pool2d(x, kernel_size=3, stride=2, padding=1)\n",
    "        # 16 x 16 x 64\n",
    "        x = self.Conv2d_3b_1x1(x)\n",
    "        # 16 x 16 x 80\n",
    "        x = self.Conv2d_4a_3x3(x)\n",
    "        # 16 x 16 x 192\n",
    "        x = F.max_pool2d(x, kernel_size=3, stride=2, padding=1)\n",
    "        # 8 x 8 x 192\n",
    "        x = self.Mixed_5b(x)\n",
    "        # 8 x 8 x 256\n",
    "        x = self.Mixed_5c(x)\n",
    "        # 8 x 8 x 288\n",
    "        x = self.Mixed_5d(x)\n",
    "        # 8 x 8 x 288\n",
    "        x = self.avgpool(x)\n",
    "        # 1 x 1 x 288\n",
    "        #x = F.dropout(x, training=self.training)\n",
    "        # 1 x 1 x 288\n",
    "        x = x.view(x.size(0), -1)\n",
    "        # 288\n",
    "        x = self.fc(x)\n",
    "        # 10 (num_classes)\n",
    "        return x\n",
    "\n",
    "\n",
    "class InceptionA(nn.Module):\n",
    "\n",
    "    def __init__(self, in_channels, pool_features):\n",
    "        super(InceptionA, self).__init__()\n",
    "        self.branch1x1 = BasicConv2d(in_channels, 64, kernel_size=1)\n",
    "\n",
    "        self.branch5x5_1 = BasicConv2d(in_channels, 48, kernel_size=1)\n",
    "        self.branch5x5_2 = BasicConv2d(48, 64, kernel_size=5, padding=2)\n",
    "\n",
    "        self.branch3x3dbl_1 = BasicConv2d(in_channels, 64, kernel_size=1)\n",
    "        self.branch3x3dbl_2 = BasicConv2d(64, 96, kernel_size=3, padding=1)\n",
    "        self.branch3x3dbl_3 = BasicConv2d(96, 96, kernel_size=3, padding=1)\n",
    "\n",
    "        self.branch_pool = BasicConv2d(in_channels, pool_features, kernel_size=1)\n",
    "\n",
    "    def forward(self, x):\n",
    "        branch1x1 = self.branch1x1(x)\n",
    "\n",
    "        branch5x5 = self.branch5x5_1(x)\n",
    "        branch5x5 = self.branch5x5_2(branch5x5)\n",
    "\n",
    "        branch3x3dbl = self.branch3x3dbl_1(x)\n",
    "        branch3x3dbl = self.branch3x3dbl_2(branch3x3dbl)\n",
    "        branch3x3dbl = self.branch3x3dbl_3(branch3x3dbl)\n",
    "\n",
    "        branch_pool = F.avg_pool2d(x, kernel_size=3, stride=1, padding=1)\n",
    "        branch_pool = self.branch_pool(branch_pool)\n",
    "\n",
    "        outputs = [branch1x1, branch5x5, branch3x3dbl, branch_pool]\n",
    "        return torch.cat(outputs, 1)"
   ]
  },
  {
   "cell_type": "code",
   "execution_count": 8,
   "metadata": {
    "colab": {
     "autoexec": {
      "startup": false,
      "wait_interval": 0
     },
     "base_uri": "https://localhost:8080/",
     "height": 6099
    },
    "colab_type": "code",
    "executionInfo": {
     "elapsed": 1625080,
     "status": "ok",
     "timestamp": 1529378974362,
     "user": {
      "displayName": "radream",
      "photoUrl": "//lh3.googleusercontent.com/-y8V6pdyk_ro/AAAAAAAAAAI/AAAAAAAAA6Y/SINQvfcEI-s/s50-c-k-no/photo.jpg",
      "userId": "118358371009498594123"
     },
     "user_tz": -480
    },
    "id": "CiGv3xmF_lgw",
    "outputId": "b66090a5-5419-4c89-aabb-584eb0067a7e"
   },
   "outputs": [
    {
     "name": "stdout",
     "output_type": "stream",
     "text": [
      "Checking accuracy on validation set\n",
      "Got val loss 8.7272, 105 / 1000 correct (10.50)\n",
      "\n",
      "Epoch 1 / 15:\n",
      "Iteration 0, loss = 2.3534\n",
      "Iteration 100, loss = 1.6169\n",
      "Iteration 200, loss = 1.7261\n",
      "Iteration 300, loss = 1.3609\n",
      "Iteration 400, loss = 1.1877\n",
      "Iteration 500, loss = 1.4090\n",
      "Iteration 600, loss = 1.4208\n",
      "Iteration 700, loss = 1.1520\n",
      "Iteration 800, loss = 1.7118\n",
      "Iteration 900, loss = 1.2128\n",
      "Iteration 1000, loss = 1.0912\n",
      "Iteration 1100, loss = 0.7995\n",
      "Iteration 1200, loss = 0.9695\n",
      "Iteration 1300, loss = 1.0382\n",
      "Iteration 1400, loss = 0.9252\n",
      "Iteration 1500, loss = 0.7668\n",
      "Batch loss 1.3682, acc 37.50\n",
      "Checking accuracy on validation set\n",
      "Got val loss 0.8383, 716 / 1000 correct (71.60)\n",
      "Saving model...\n",
      "\n",
      "\n",
      "Epoch 2 / 15:\n",
      "Iteration 0, loss = 0.9252\n",
      "Iteration 100, loss = 0.7043\n",
      "Iteration 200, loss = 0.5251\n",
      "Iteration 300, loss = 1.0039\n",
      "Iteration 400, loss = 0.5610\n",
      "Iteration 500, loss = 0.9726\n",
      "Iteration 600, loss = 0.6723\n",
      "Iteration 700, loss = 0.8838\n",
      "Iteration 800, loss = 0.9158\n",
      "Iteration 900, loss = 0.7257\n",
      "Iteration 1000, loss = 0.7440\n",
      "Iteration 1100, loss = 0.7957\n",
      "Iteration 1200, loss = 0.8973\n",
      "Iteration 1300, loss = 0.5329\n",
      "Iteration 1400, loss = 0.5231\n",
      "Iteration 1500, loss = 0.6205\n",
      "Batch loss 0.7137, acc 75.00\n",
      "Checking accuracy on validation set\n",
      "Got val loss 0.6971, 748 / 1000 correct (74.80)\n",
      "Saving model...\n",
      "\n",
      "\n",
      "Epoch 3 / 15:\n",
      "Iteration 0, loss = 0.5241\n",
      "Iteration 100, loss = 0.7511\n",
      "Iteration 200, loss = 0.5896\n",
      "Iteration 300, loss = 0.7207\n",
      "Iteration 400, loss = 0.6730\n",
      "Iteration 500, loss = 0.9263\n",
      "Iteration 600, loss = 0.5129\n",
      "Iteration 700, loss = 0.4831\n",
      "Iteration 800, loss = 0.4361\n",
      "Iteration 900, loss = 0.8422\n",
      "Iteration 1000, loss = 0.5763\n",
      "Iteration 1100, loss = 1.3530\n",
      "Iteration 1200, loss = 0.2915\n",
      "Iteration 1300, loss = 0.6492\n",
      "Iteration 1400, loss = 0.7665\n",
      "Iteration 1500, loss = 0.3739\n",
      "Batch loss 0.6859, acc 87.50\n",
      "Checking accuracy on validation set\n",
      "Got val loss 0.5193, 827 / 1000 correct (82.70)\n",
      "Saving model...\n",
      "\n",
      "\n",
      "Epoch 4 / 15:\n",
      "Iteration 0, loss = 0.5583\n",
      "Iteration 100, loss = 0.5690\n",
      "Iteration 200, loss = 0.6474\n",
      "Iteration 300, loss = 0.6137\n",
      "Iteration 400, loss = 0.2602\n",
      "Iteration 500, loss = 0.8823\n",
      "Iteration 600, loss = 0.8303\n",
      "Iteration 700, loss = 0.7507\n",
      "Iteration 800, loss = 0.6475\n",
      "Iteration 900, loss = 0.4974\n",
      "Iteration 1000, loss = 0.6166\n",
      "Iteration 1100, loss = 0.5129\n",
      "Iteration 1200, loss = 0.4232\n",
      "Iteration 1300, loss = 0.4391\n",
      "Iteration 1400, loss = 1.1648\n",
      "Iteration 1500, loss = 0.7213\n",
      "Batch loss 0.4946, acc 75.00\n",
      "Checking accuracy on validation set\n",
      "Got val loss 0.5155, 817 / 1000 correct (81.70)\n",
      "\n",
      "\n",
      "Epoch 5 / 15:\n",
      "Iteration 0, loss = 0.6834\n",
      "Iteration 100, loss = 0.7067\n",
      "Iteration 200, loss = 0.3496\n",
      "Iteration 300, loss = 0.4685\n",
      "Iteration 400, loss = 0.3758\n",
      "Iteration 500, loss = 0.7837\n",
      "Iteration 600, loss = 0.2155\n",
      "Iteration 700, loss = 0.4750\n",
      "Iteration 800, loss = 0.5616\n",
      "Iteration 900, loss = 0.4824\n",
      "Iteration 1000, loss = 0.4158\n",
      "Iteration 1100, loss = 0.4615\n",
      "Iteration 1200, loss = 0.6848\n",
      "Iteration 1300, loss = 0.6846\n",
      "Iteration 1400, loss = 0.6232\n",
      "Iteration 1500, loss = 0.5169\n",
      "Batch loss 1.9203, acc 62.50\n",
      "Checking accuracy on validation set\n",
      "Got val loss 0.6026, 784 / 1000 correct (78.40)\n",
      "\n",
      "\n",
      "Epoch 6 / 15:\n",
      "Iteration 0, loss = 0.4460\n",
      "Iteration 100, loss = 0.3294\n",
      "Iteration 200, loss = 0.6521\n",
      "Iteration 300, loss = 0.4741\n",
      "Iteration 400, loss = 0.4742\n",
      "Iteration 500, loss = 0.3713\n",
      "Iteration 600, loss = 0.2947\n",
      "Iteration 700, loss = 0.4277\n",
      "Iteration 800, loss = 0.5487\n",
      "Iteration 900, loss = 0.7053\n",
      "Iteration 1000, loss = 0.4157\n",
      "Iteration 1100, loss = 0.6046\n",
      "Iteration 1200, loss = 0.2698\n",
      "Iteration 1300, loss = 0.3628\n",
      "Iteration 1400, loss = 0.4139\n",
      "Iteration 1500, loss = 0.1838\n",
      "Batch loss 0.5574, acc 87.50\n",
      "Checking accuracy on validation set\n",
      "Got val loss 0.4676, 826 / 1000 correct (82.60)\n",
      "\n",
      "\n",
      "Epoch 7 / 15:\n",
      "Iteration 0, loss = 0.4223\n",
      "Iteration 100, loss = 0.3384\n",
      "Iteration 200, loss = 0.8758\n",
      "Iteration 300, loss = 0.2499\n",
      "Iteration 400, loss = 0.4099\n",
      "Iteration 500, loss = 0.4762\n",
      "Iteration 600, loss = 0.3772\n",
      "Iteration 700, loss = 0.5286\n",
      "Iteration 800, loss = 0.6400\n",
      "Iteration 900, loss = 0.6324\n",
      "Iteration 1000, loss = 0.5110\n",
      "Iteration 1100, loss = 0.6701\n",
      "Iteration 1200, loss = 0.5713\n",
      "Iteration 1300, loss = 0.7432\n",
      "Iteration 1400, loss = 0.5594\n",
      "Iteration 1500, loss = 0.4624\n",
      "Batch loss 0.2407, acc 87.50\n",
      "Checking accuracy on validation set\n",
      "Got val loss 0.3714, 880 / 1000 correct (88.00)\n",
      "Saving model...\n",
      "\n",
      "\n",
      "Epoch 8 / 15:\n",
      "Iteration 0, loss = 0.2684\n",
      "Iteration 100, loss = 0.3185\n",
      "Iteration 200, loss = 0.4863\n",
      "Iteration 300, loss = 0.4013\n",
      "Iteration 400, loss = 0.3619\n",
      "Iteration 500, loss = 0.6162\n",
      "Iteration 600, loss = 0.4692\n",
      "Iteration 700, loss = 0.3180\n",
      "Iteration 800, loss = 0.5540\n",
      "Iteration 900, loss = 0.4003\n",
      "Iteration 1000, loss = 0.3089\n",
      "Iteration 1100, loss = 0.2742\n",
      "Iteration 1200, loss = 0.5911\n",
      "Iteration 1300, loss = 0.2410\n",
      "Iteration 1400, loss = 0.3493\n",
      "Iteration 1500, loss = 0.3309\n",
      "Batch loss 0.7892, acc 87.50\n",
      "Checking accuracy on validation set\n",
      "Got val loss 0.3770, 873 / 1000 correct (87.30)\n",
      "\n",
      "\n",
      "Epoch 9 / 15:\n",
      "Iteration 0, loss = 0.4110\n",
      "Iteration 100, loss = 0.1536\n",
      "Iteration 200, loss = 0.4210\n",
      "Iteration 300, loss = 0.2296\n",
      "Iteration 400, loss = 0.2946\n",
      "Iteration 500, loss = 0.4017\n",
      "Iteration 600, loss = 0.5952\n",
      "Iteration 700, loss = 0.3902\n",
      "Iteration 800, loss = 0.4476\n",
      "Iteration 900, loss = 0.5126\n",
      "Iteration 1000, loss = 0.5668\n",
      "Iteration 1100, loss = 0.5328\n",
      "Iteration 1200, loss = 0.3869\n",
      "Iteration 1300, loss = 0.3467\n",
      "Iteration 1400, loss = 0.2153\n",
      "Iteration 1500, loss = 0.1865\n",
      "Batch loss 0.5490, acc 87.50\n",
      "Checking accuracy on validation set\n",
      "Got val loss 0.3668, 878 / 1000 correct (87.80)\n",
      "\n",
      "\n",
      "Epoch 10 / 15:\n",
      "Iteration 0, loss = 0.3029\n",
      "Iteration 100, loss = 0.1993\n",
      "Iteration 200, loss = 0.3800\n",
      "Iteration 300, loss = 0.4811\n",
      "Iteration 400, loss = 0.3823\n",
      "Iteration 500, loss = 0.5952\n",
      "Iteration 600, loss = 0.1083\n",
      "Iteration 700, loss = 0.1804\n",
      "Iteration 800, loss = 0.5172\n",
      "Iteration 900, loss = 0.3659\n",
      "Iteration 1000, loss = 0.3473\n",
      "Iteration 1100, loss = 0.2077\n",
      "Iteration 1200, loss = 0.2257\n",
      "Iteration 1300, loss = 0.2146\n",
      "Iteration 1400, loss = 0.2022\n",
      "Iteration 1500, loss = 0.4088\n",
      "Batch loss 0.3009, acc 87.50\n",
      "Checking accuracy on validation set\n",
      "Got val loss 0.3712, 872 / 1000 correct (87.20)\n",
      "\n",
      "\n",
      "Epoch 11 / 15:\n",
      "Iteration 0, loss = 0.2165\n",
      "Iteration 100, loss = 0.4790\n",
      "Iteration 200, loss = 0.1468\n",
      "Iteration 300, loss = 0.2454\n",
      "Iteration 400, loss = 0.1855\n",
      "Iteration 500, loss = 0.3451\n",
      "Iteration 600, loss = 0.4551\n",
      "Iteration 700, loss = 0.1515\n",
      "Iteration 800, loss = 0.0989\n",
      "Iteration 900, loss = 0.2564\n",
      "Iteration 1000, loss = 0.2259\n",
      "Iteration 1100, loss = 0.3967\n",
      "Iteration 1200, loss = 0.2563\n",
      "Iteration 1300, loss = 0.5896\n",
      "Iteration 1400, loss = 0.7059\n",
      "Iteration 1500, loss = 0.6426\n",
      "Batch loss 0.2550, acc 87.50\n",
      "Checking accuracy on validation set\n",
      "Got val loss 0.3610, 885 / 1000 correct (88.50)\n",
      "Saving model...\n",
      "\n",
      "\n",
      "Epoch 12 / 15:\n",
      "Iteration 0, loss = 0.1880\n",
      "Iteration 100, loss = 0.2636\n",
      "Iteration 200, loss = 0.1605\n",
      "Iteration 300, loss = 0.1116\n",
      "Iteration 400, loss = 0.2078\n",
      "Iteration 500, loss = 0.1928\n",
      "Iteration 600, loss = 0.1883\n",
      "Iteration 700, loss = 0.0912\n",
      "Iteration 800, loss = 0.1469\n",
      "Iteration 900, loss = 0.5309\n",
      "Iteration 1000, loss = 0.1572\n",
      "Iteration 1100, loss = 0.1582\n",
      "Iteration 1200, loss = 0.2293\n",
      "Iteration 1300, loss = 0.1059\n",
      "Iteration 1400, loss = 0.5154\n",
      "Iteration 1500, loss = 0.3411\n",
      "Batch loss 0.1872, acc 87.50\n",
      "Checking accuracy on validation set\n",
      "Got val loss 0.3646, 883 / 1000 correct (88.30)\n",
      "\n",
      "\n",
      "Epoch 13 / 15:\n",
      "Iteration 0, loss = 0.3324\n",
      "Iteration 100, loss = 0.3753\n",
      "Iteration 200, loss = 0.3943\n",
      "Iteration 300, loss = 0.2822\n",
      "Iteration 400, loss = 0.2612\n",
      "Iteration 500, loss = 0.2807\n",
      "Iteration 600, loss = 0.1055\n",
      "Iteration 700, loss = 0.2381\n",
      "Iteration 800, loss = 0.2870\n",
      "Iteration 900, loss = 0.2129\n",
      "Iteration 1000, loss = 0.1260\n",
      "Iteration 1100, loss = 0.2279\n",
      "Iteration 1200, loss = 0.6036\n",
      "Iteration 1300, loss = 0.3478\n",
      "Iteration 1400, loss = 0.2189\n",
      "Iteration 1500, loss = 0.1759\n",
      "Batch loss 0.3909, acc 87.50\n",
      "Checking accuracy on validation set\n",
      "Got val loss 0.3282, 890 / 1000 correct (89.00)\n",
      "Saving model...\n",
      "\n",
      "\n",
      "Epoch 14 / 15:\n",
      "Iteration 0, loss = 0.0819\n",
      "Iteration 100, loss = 0.1492\n",
      "Iteration 200, loss = 0.3814\n",
      "Iteration 300, loss = 0.4744\n",
      "Iteration 400, loss = 0.2126\n",
      "Iteration 500, loss = 0.2039\n",
      "Iteration 600, loss = 0.1720\n",
      "Iteration 700, loss = 0.1791\n",
      "Iteration 800, loss = 0.1334\n",
      "Iteration 900, loss = 0.2844\n",
      "Iteration 1000, loss = 0.1639\n",
      "Iteration 1100, loss = 0.2199\n",
      "Iteration 1200, loss = 0.1903\n",
      "Iteration 1300, loss = 0.0983\n",
      "Iteration 1400, loss = 0.2675\n",
      "Iteration 1500, loss = 0.3974\n",
      "Batch loss 0.9246, acc 62.50\n",
      "Checking accuracy on validation set\n",
      "Got val loss 0.3630, 876 / 1000 correct (87.60)\n",
      "\n",
      "\n",
      "Epoch 15 / 15:\n",
      "Iteration 0, loss = 0.2655\n",
      "Iteration 100, loss = 0.3265\n",
      "Iteration 200, loss = 0.1640\n",
      "Iteration 300, loss = 0.3011\n",
      "Iteration 400, loss = 0.3362\n",
      "Iteration 500, loss = 0.2238\n",
      "Iteration 600, loss = 0.2960\n",
      "Iteration 700, loss = 0.1219\n",
      "Iteration 800, loss = 0.3746\n",
      "Iteration 900, loss = 0.0989\n",
      "Iteration 1000, loss = 0.1471\n",
      "Iteration 1100, loss = 0.2094\n",
      "Iteration 1200, loss = 0.1087\n",
      "Iteration 1300, loss = 0.5242\n",
      "Iteration 1400, loss = 0.3031\n",
      "Iteration 1500, loss = 0.1245\n",
      "Batch loss 0.3748, acc 87.50\n",
      "Checking accuracy on validation set\n",
      "Got val loss 0.3460, 884 / 1000 correct (88.40)\n",
      "\n",
      "Training goes with 1626.45 seconds.\n"
     ]
    },
    {
     "data": {
      "image/png": "[encoded data removed]",
      "text/plain": [
       "<matplotlib.figure.Figure at 0x7f816205ce48>"
      ]
     },
     "metadata": {
      "tags": []
     },
     "output_type": "display_data"
    }
   ],
   "source": [
    "learning_rate = 1e-3\n",
    "\n",
    "model = Inception3()\n",
    "optimizer = optim.Adam(model.parameters(), lr=learning_rate)\n",
    "\n",
    "t0 = time()\n",
    "history = train_net(model, optimizer, epochs=15)\n",
    "plot_history(history)\n",
    "print('Training goes with %.2f seconds.' %(time()-t0))"
   ]
  },
  {
   "cell_type": "markdown",
   "metadata": {
    "colab_type": "text",
    "id": "Lw_8WFtaX5Iy"
   },
   "source": [
    "**ResNet**"
   ]
  },
  {
   "cell_type": "code",
   "execution_count": 0,
   "metadata": {
    "colab": {
     "autoexec": {
      "startup": false,
      "wait_interval": 0
     }
    },
    "colab_type": "code",
    "id": "w9aAUw4_68SS"
   },
   "outputs": [],
   "source": [
    "def conv3x3(in_planes, out_planes, stride=1):\n",
    "    \"\"\"3x3 convolution with padding\"\"\"\n",
    "    return nn.Conv2d(in_planes, out_planes, kernel_size=3, stride=stride,\n",
    "                     padding=1, bias=False)\n",
    "\n",
    "\n",
    "class BasicBlock(nn.Module):\n",
    "    expansion = 1\n",
    "\n",
    "    def __init__(self, inplanes, planes, stride=1, downsample=None):\n",
    "        super(BasicBlock, self).__init__()\n",
    "        self.conv1 = conv3x3(inplanes, planes, stride)\n",
    "        self.bn1 = nn.BatchNorm2d(planes)\n",
    "        self.relu = nn.ReLU(inplace=True)\n",
    "        self.conv2 = conv3x3(planes, planes)\n",
    "        self.bn2 = nn.BatchNorm2d(planes)\n",
    "        self.downsample = downsample\n",
    "        self.stride = stride\n",
    "\n",
    "    def forward(self, x):\n",
    "        residual = x\n",
    "\n",
    "        out = self.conv1(x)\n",
    "        out = self.bn1(out)\n",
    "        out = self.relu(out)\n",
    "\n",
    "        out = self.conv2(out)\n",
    "        out = self.bn2(out)\n",
    "\n",
    "        if self.downsample is not None:\n",
    "            residual = self.downsample(x)\n",
    "\n",
    "        out += residual\n",
    "        out = self.relu(out)\n",
    "\n",
    "        return out\n",
    "\n",
    "\n",
    "class Bottleneck(nn.Module):\n",
    "    expansion = 4\n",
    "\n",
    "    def __init__(self, inplanes, planes, stride=1, downsample=None):\n",
    "        super(Bottleneck, self).__init__()\n",
    "        self.conv1 = nn.Conv2d(inplanes, planes, kernel_size=1, bias=False)\n",
    "        self.bn1 = nn.BatchNorm2d(planes)\n",
    "        self.conv2 = nn.Conv2d(planes, planes, kernel_size=3, stride=stride,\n",
    "                               padding=1, bias=False)\n",
    "        self.bn2 = nn.BatchNorm2d(planes)\n",
    "        self.conv3 = nn.Conv2d(planes, planes * 4, kernel_size=1, bias=False)\n",
    "        self.bn3 = nn.BatchNorm2d(planes * 4)\n",
    "        self.relu = nn.ReLU(inplace=True)\n",
    "        self.downsample = downsample\n",
    "        self.stride = stride\n",
    "\n",
    "    def forward(self, x):\n",
    "        residual = x\n",
    "\n",
    "        out = self.conv1(x)\n",
    "        out = self.bn1(out)\n",
    "        out = self.relu(out)\n",
    "\n",
    "        out = self.conv2(out)\n",
    "        out = self.bn2(out)\n",
    "        out = self.relu(out)\n",
    "\n",
    "        out = self.conv3(out)\n",
    "        out = self.bn3(out)\n",
    "\n",
    "        if self.downsample is not None:\n",
    "            residual = self.downsample(x)\n",
    "\n",
    "        out += residual\n",
    "        out = self.relu(out)\n",
    "\n",
    "        return out\n",
    "\n",
    "\n",
    "class ResNet(nn.Module):\n",
    "\n",
    "    def __init__(self, block, layers, num_classes=10):\n",
    "        self.inplanes = 64\n",
    "        super(ResNet, self).__init__()\n",
    "        self.conv1 = nn.Conv2d(3, self.inplanes, kernel_size=5, stride=1, padding=2,\n",
    "                               bias=False)\n",
    "        self.bn1 = nn.BatchNorm2d(self.inplanes)\n",
    "        self.relu = nn.ReLU(inplace=True)\n",
    "        self.maxpool = nn.MaxPool2d(kernel_size=3, stride=2, padding=1)\n",
    "        self.layer1 = self._make_layer(block, 64, layers[0])\n",
    "        self.layer2 = self._make_layer(block, 128, layers[1], stride=2)\n",
    "        self.layer3 = self._make_layer(block, 256, layers[2], stride=2)\n",
    "        self.layer4 = self._make_layer(block, 256, layers[3], stride=2)\n",
    "        self.avgpool = nn.AvgPool2d(2, stride=1)\n",
    "        self.fc = nn.Linear(256 * block.expansion, num_classes)\n",
    "\n",
    "        for m in self.modules():\n",
    "            if isinstance(m, nn.Conv2d):\n",
    "                n = m.kernel_size[0] * m.kernel_size[1] * m.out_channels\n",
    "                m.weight.data.normal_(0, np.sqrt(2. / n))\n",
    "            elif isinstance(m, nn.BatchNorm2d):\n",
    "                m.weight.data.fill_(1)\n",
    "                m.bias.data.zero_()\n",
    "\n",
    "    def _make_layer(self, block, planes, blocks, stride=1):\n",
    "        downsample = None\n",
    "        if stride != 1 or self.inplanes != planes * block.expansion:\n",
    "            downsample = nn.Sequential(\n",
    "                nn.Conv2d(self.inplanes, planes * block.expansion,\n",
    "                          kernel_size=1, stride=stride, bias=False),\n",
    "                nn.BatchNorm2d(planes * block.expansion),\n",
    "            )\n",
    "\n",
    "        layers = []\n",
    "        layers.append(block(self.inplanes, planes, stride, downsample))\n",
    "        self.inplanes = planes * block.expansion\n",
    "        for i in range(1, blocks):\n",
    "            layers.append(block(self.inplanes, planes))\n",
    "\n",
    "        return nn.Sequential(*layers)\n",
    "\n",
    "    def forward(self, x):\n",
    "        x = self.conv1(x)\n",
    "        x = self.bn1(x)\n",
    "        x = self.relu(x)\n",
    "        x = self.maxpool(x)\n",
    "\n",
    "        x = self.layer1(x)\n",
    "        x = self.layer2(x)\n",
    "        x = self.layer3(x)\n",
    "        x = self.layer4(x)\n",
    "\n",
    "        x = self.avgpool(x)\n",
    "        x = x.view(x.size(0), -1)\n",
    "        x = self.fc(x)\n",
    "\n",
    "        return x"
   ]
  },
  {
   "cell_type": "code",
   "execution_count": 14,
   "metadata": {
    "colab": {
     "autoexec": {
      "startup": false,
      "wait_interval": 0
     },
     "base_uri": "https://localhost:8080/",
     "height": 6150
    },
    "colab_type": "code",
    "executionInfo": {
     "elapsed": 2271648,
     "status": "ok",
     "timestamp": 1529338413593,
     "user": {
      "displayName": "radream",
      "photoUrl": "//lh3.googleusercontent.com/-y8V6pdyk_ro/AAAAAAAAAAI/AAAAAAAAA6Y/SINQvfcEI-s/s50-c-k-no/photo.jpg",
      "userId": "118358371009498594123"
     },
     "user_tz": -480
    },
    "id": "NgO0qJfbiMN4",
    "outputId": "3b224137-abfa-439c-d5e3-ec8aad160e40"
   },
   "outputs": [
    {
     "name": "stdout",
     "output_type": "stream",
     "text": [
      "Checking accuracy on validation set\n",
      "Got val loss 3.6033, 105 / 1000 correct (10.50)\n",
      "\n",
      "Epoch 1 / 15:\n",
      "Iteration 0, loss = 2.3781\n",
      "Iteration 100, loss = 1.8955\n",
      "Iteration 200, loss = 1.7034\n",
      "Iteration 300, loss = 1.7413\n",
      "Iteration 400, loss = 1.7785\n",
      "Iteration 500, loss = 1.6483\n",
      "Iteration 600, loss = 1.3379\n",
      "Iteration 700, loss = 1.4807\n",
      "Iteration 800, loss = 2.0411\n",
      "Iteration 900, loss = 1.3866\n",
      "Iteration 1000, loss = 1.4974\n",
      "Iteration 1100, loss = 1.0960\n",
      "Iteration 1200, loss = 1.2848\n",
      "Iteration 1300, loss = 1.1905\n",
      "Iteration 1400, loss = 1.0408\n",
      "Iteration 1500, loss = 1.3946\n",
      "Batch loss 0.7228, acc 62.50\n",
      "Checking accuracy on validation set\n",
      "Got val loss 1.0639, 642 / 1000 correct (64.20)\n",
      "Saving model...\n",
      "\n",
      "\n",
      "Epoch 2 / 15:\n",
      "Iteration 0, loss = 1.2151\n",
      "Iteration 100, loss = 1.3666\n",
      "Iteration 200, loss = 0.9541\n",
      "Iteration 300, loss = 1.3264\n",
      "Iteration 400, loss = 1.1710\n",
      "Iteration 500, loss = 0.8301\n",
      "Iteration 600, loss = 0.9763\n",
      "Iteration 700, loss = 0.8738\n",
      "Iteration 800, loss = 0.7446\n",
      "Iteration 900, loss = 0.7924\n",
      "Iteration 1000, loss = 1.4085\n",
      "Iteration 1100, loss = 0.6818\n",
      "Iteration 1200, loss = 1.0279\n",
      "Iteration 1300, loss = 0.6823\n",
      "Iteration 1400, loss = 1.0619\n",
      "Iteration 1500, loss = 0.9237\n",
      "Batch loss 1.2355, acc 50.00\n",
      "Checking accuracy on validation set\n",
      "Got val loss 0.8540, 706 / 1000 correct (70.60)\n",
      "Saving model...\n",
      "\n",
      "\n",
      "Epoch 3 / 15:\n",
      "Iteration 0, loss = 0.8919\n",
      "Iteration 100, loss = 0.7553\n",
      "Iteration 200, loss = 0.8012\n",
      "Iteration 300, loss = 1.0036\n",
      "Iteration 400, loss = 0.8616\n",
      "Iteration 500, loss = 1.0950\n",
      "Iteration 600, loss = 1.2588\n",
      "Iteration 700, loss = 0.5665\n",
      "Iteration 800, loss = 0.8935\n",
      "Iteration 900, loss = 0.8078\n",
      "Iteration 1000, loss = 0.6310\n",
      "Iteration 1100, loss = 0.6652\n",
      "Iteration 1200, loss = 0.9088\n",
      "Iteration 1300, loss = 0.7505\n",
      "Iteration 1400, loss = 0.7856\n",
      "Iteration 1500, loss = 0.9542\n",
      "Batch loss 0.4180, acc 87.50\n",
      "Checking accuracy on validation set\n",
      "Got val loss 0.6843, 762 / 1000 correct (76.20)\n",
      "Saving model...\n",
      "\n",
      "\n",
      "Epoch 4 / 15:\n",
      "Iteration 0, loss = 0.8055\n",
      "Iteration 100, loss = 0.7825\n",
      "Iteration 200, loss = 0.5849\n",
      "Iteration 300, loss = 0.7520\n",
      "Iteration 400, loss = 0.6500\n",
      "Iteration 500, loss = 0.6693\n",
      "Iteration 600, loss = 0.5389\n",
      "Iteration 700, loss = 0.9412\n",
      "Iteration 800, loss = 0.7039\n",
      "Iteration 900, loss = 0.7583\n",
      "Iteration 1000, loss = 0.3815\n",
      "Iteration 1100, loss = 0.5854\n",
      "Iteration 1200, loss = 0.6325\n",
      "Iteration 1300, loss = 0.9042\n",
      "Iteration 1400, loss = 0.8647\n",
      "Iteration 1500, loss = 0.7731\n",
      "Batch loss 0.6177, acc 75.00\n",
      "Checking accuracy on validation set\n",
      "Got val loss 0.6514, 781 / 1000 correct (78.10)\n",
      "Saving model...\n",
      "\n",
      "\n",
      "Epoch 5 / 15:\n",
      "Iteration 0, loss = 0.7448\n",
      "Iteration 100, loss = 0.6107\n",
      "Iteration 200, loss = 0.5477\n",
      "Iteration 300, loss = 0.6947\n",
      "Iteration 400, loss = 0.4117\n",
      "Iteration 500, loss = 0.5718\n",
      "Iteration 600, loss = 0.6301\n",
      "Iteration 700, loss = 0.8611\n",
      "Iteration 800, loss = 0.4918\n",
      "Iteration 900, loss = 0.8620\n",
      "Iteration 1000, loss = 0.6601\n",
      "Iteration 1100, loss = 0.7212\n",
      "Iteration 1200, loss = 0.6397\n",
      "Iteration 1300, loss = 0.5077\n",
      "Iteration 1400, loss = 1.0363\n",
      "Iteration 1500, loss = 0.2921\n",
      "Batch loss 0.2169, acc 100.00\n",
      "Checking accuracy on validation set\n",
      "Got val loss 0.5574, 814 / 1000 correct (81.40)\n",
      "Saving model...\n",
      "\n",
      "\n",
      "Epoch 6 / 15:\n",
      "Iteration 0, loss = 0.4620\n",
      "Iteration 100, loss = 0.6338\n",
      "Iteration 200, loss = 0.4255\n",
      "Iteration 300, loss = 0.4319\n",
      "Iteration 400, loss = 0.4252\n",
      "Iteration 500, loss = 0.4778\n",
      "Iteration 600, loss = 0.5372\n",
      "Iteration 700, loss = 0.5420\n",
      "Iteration 800, loss = 0.3248\n",
      "Iteration 900, loss = 0.5072\n",
      "Iteration 1000, loss = 0.2459\n",
      "Iteration 1100, loss = 0.4500\n",
      "Iteration 1200, loss = 0.3895\n",
      "Iteration 1300, loss = 0.2753\n",
      "Iteration 1400, loss = 0.3258\n",
      "Iteration 1500, loss = 0.3169\n",
      "Batch loss 0.2887, acc 100.00\n",
      "Checking accuracy on validation set\n",
      "Got val loss 0.5462, 825 / 1000 correct (82.50)\n",
      "Saving model...\n",
      "\n",
      "\n",
      "Epoch 7 / 15:\n",
      "Iteration 0, loss = 0.2812\n",
      "Iteration 100, loss = 0.4982\n",
      "Iteration 200, loss = 0.3981\n",
      "Iteration 300, loss = 0.7515\n",
      "Iteration 400, loss = 0.4834\n",
      "Iteration 500, loss = 0.6406\n",
      "Iteration 600, loss = 0.6336\n",
      "Iteration 700, loss = 0.4281\n",
      "Iteration 800, loss = 0.5220\n",
      "Iteration 900, loss = 0.7164\n",
      "Iteration 1000, loss = 0.4263\n",
      "Iteration 1100, loss = 0.4872\n",
      "Iteration 1200, loss = 0.4350\n",
      "Iteration 1300, loss = 0.4603\n",
      "Iteration 1400, loss = 0.5819\n",
      "Iteration 1500, loss = 0.3308\n",
      "Batch loss 0.4205, acc 87.50\n",
      "Checking accuracy on validation set\n",
      "Got val loss 0.5302, 823 / 1000 correct (82.30)\n",
      "\n",
      "\n",
      "Epoch 8 / 15:\n",
      "Iteration 0, loss = 0.2544\n",
      "Iteration 100, loss = 0.3908\n",
      "Iteration 200, loss = 0.3470\n",
      "Iteration 300, loss = 0.3859\n",
      "Iteration 400, loss = 0.5524\n",
      "Iteration 500, loss = 0.3331\n",
      "Iteration 600, loss = 0.5519\n",
      "Iteration 700, loss = 0.3834\n",
      "Iteration 800, loss = 0.7134\n",
      "Iteration 900, loss = 0.5261\n",
      "Iteration 1000, loss = 0.1980\n",
      "Iteration 1100, loss = 0.3063\n",
      "Iteration 1200, loss = 0.5139\n",
      "Iteration 1300, loss = 0.2585\n",
      "Iteration 1400, loss = 0.3693\n",
      "Iteration 1500, loss = 0.3439\n",
      "Batch loss 0.1922, acc 100.00\n",
      "Checking accuracy on validation set\n",
      "Got val loss 0.4447, 853 / 1000 correct (85.30)\n",
      "Saving model...\n",
      "\n",
      "\n",
      "Epoch 9 / 15:\n",
      "Iteration 0, loss = 0.2421\n",
      "Iteration 100, loss = 0.4164\n",
      "Iteration 200, loss = 0.1483\n",
      "Iteration 300, loss = 0.4391\n",
      "Iteration 400, loss = 0.5106\n",
      "Iteration 500, loss = 0.3152\n",
      "Iteration 600, loss = 0.1944\n",
      "Iteration 700, loss = 0.4327\n",
      "Iteration 800, loss = 0.1209\n",
      "Iteration 900, loss = 0.5278\n",
      "Iteration 1000, loss = 0.4075\n",
      "Iteration 1100, loss = 0.6857\n",
      "Iteration 1200, loss = 0.3022\n",
      "Iteration 1300, loss = 0.4452\n",
      "Iteration 1400, loss = 0.2049\n",
      "Iteration 1500, loss = 0.5824\n",
      "Batch loss 0.2035, acc 87.50\n",
      "Checking accuracy on validation set\n",
      "Got val loss 0.4536, 840 / 1000 correct (84.00)\n",
      "\n",
      "\n",
      "Epoch 10 / 15:\n",
      "Iteration 0, loss = 0.2203\n",
      "Iteration 100, loss = 0.4344\n",
      "Iteration 200, loss = 0.3616\n",
      "Iteration 300, loss = 0.4560\n",
      "Iteration 400, loss = 0.5218\n",
      "Iteration 500, loss = 0.6518\n",
      "Iteration 600, loss = 0.5515\n",
      "Iteration 700, loss = 0.7175\n",
      "Iteration 800, loss = 0.3945\n",
      "Iteration 900, loss = 0.6605\n",
      "Iteration 1000, loss = 0.2438\n",
      "Iteration 1100, loss = 0.3379\n",
      "Iteration 1200, loss = 0.3860\n",
      "Iteration 1300, loss = 0.2928\n",
      "Iteration 1400, loss = 0.2399\n",
      "Iteration 1500, loss = 0.1801\n",
      "Batch loss 0.3781, acc 87.50\n",
      "Checking accuracy on validation set\n",
      "Got val loss 0.4852, 841 / 1000 correct (84.10)\n",
      "\n",
      "\n",
      "Epoch 11 / 15:\n",
      "Iteration 0, loss = 0.2094\n",
      "Iteration 100, loss = 0.2115\n",
      "Iteration 200, loss = 0.2652\n",
      "Iteration 300, loss = 0.5379\n",
      "Iteration 400, loss = 0.4383\n",
      "Iteration 500, loss = 0.1272\n",
      "Iteration 600, loss = 0.3636\n",
      "Iteration 700, loss = 0.5886\n",
      "Iteration 800, loss = 0.3467\n",
      "Iteration 900, loss = 0.3122\n",
      "Iteration 1000, loss = 0.5704\n",
      "Iteration 1100, loss = 0.2937\n",
      "Iteration 1200, loss = 0.2319\n",
      "Iteration 1300, loss = 0.4983\n",
      "Iteration 1400, loss = 0.2135\n",
      "Iteration 1500, loss = 0.4646\n",
      "Batch loss 0.6935, acc 75.00\n",
      "Checking accuracy on validation set\n",
      "Got val loss 0.4422, 864 / 1000 correct (86.40)\n",
      "Saving model...\n",
      "\n",
      "\n",
      "Epoch 12 / 15:\n",
      "Iteration 0, loss = 0.2543\n",
      "Iteration 100, loss = 0.4026\n",
      "Iteration 200, loss = 0.4114\n",
      "Iteration 300, loss = 0.6239\n",
      "Iteration 400, loss = 0.2016\n",
      "Iteration 500, loss = 0.4945\n",
      "Iteration 600, loss = 0.2626\n",
      "Iteration 700, loss = 0.2633\n",
      "Iteration 800, loss = 0.3207\n",
      "Iteration 900, loss = 0.4710\n",
      "Iteration 1000, loss = 0.1191\n",
      "Iteration 1100, loss = 0.5659\n",
      "Iteration 1200, loss = 0.3071\n",
      "Iteration 1300, loss = 0.3888\n",
      "Iteration 1400, loss = 0.6627\n",
      "Iteration 1500, loss = 0.1152\n",
      "Batch loss 0.6820, acc 75.00\n",
      "Checking accuracy on validation set\n",
      "Got val loss 0.4282, 863 / 1000 correct (86.30)\n",
      "\n",
      "\n",
      "Epoch 13 / 15:\n",
      "Iteration 0, loss = 0.3072\n",
      "Iteration 100, loss = 0.7414\n",
      "Iteration 200, loss = 0.3294\n",
      "Iteration 300, loss = 0.1010\n",
      "Iteration 400, loss = 0.1265\n",
      "Iteration 500, loss = 0.3185\n",
      "Iteration 600, loss = 0.3578\n",
      "Iteration 700, loss = 0.1497\n",
      "Iteration 800, loss = 0.0704\n",
      "Iteration 900, loss = 0.2599\n",
      "Iteration 1000, loss = 0.4219\n",
      "Iteration 1100, loss = 0.0941\n",
      "Iteration 1200, loss = 0.1749\n",
      "Iteration 1300, loss = 0.4194\n",
      "Iteration 1400, loss = 0.2851\n",
      "Iteration 1500, loss = 0.3390\n",
      "Batch loss 0.2508, acc 87.50\n",
      "Checking accuracy on validation set\n",
      "Got val loss 0.4306, 861 / 1000 correct (86.10)\n",
      "\n",
      "\n",
      "Epoch 14 / 15:\n",
      "Iteration 0, loss = 0.1046\n",
      "Iteration 100, loss = 0.3933\n",
      "Iteration 200, loss = 0.1920\n",
      "Iteration 300, loss = 0.3211\n",
      "Iteration 400, loss = 0.1169\n",
      "Iteration 500, loss = 0.0695\n",
      "Iteration 600, loss = 0.2594\n",
      "Iteration 700, loss = 0.5732\n",
      "Iteration 800, loss = 0.3535\n",
      "Iteration 900, loss = 0.2736\n",
      "Iteration 1000, loss = 0.2382\n",
      "Iteration 1100, loss = 0.3930\n",
      "Iteration 1200, loss = 0.2705\n",
      "Iteration 1300, loss = 0.3327\n",
      "Iteration 1400, loss = 0.3256\n",
      "Iteration 1500, loss = 0.2897\n",
      "Batch loss 0.0235, acc 100.00\n",
      "Checking accuracy on validation set\n",
      "Got val loss 0.3842, 876 / 1000 correct (87.60)\n",
      "Saving model...\n",
      "\n",
      "\n",
      "Epoch 15 / 15:\n",
      "Iteration 0, loss = 0.2845\n",
      "Iteration 100, loss = 0.1910\n",
      "Iteration 200, loss = 0.3050\n",
      "Iteration 300, loss = 0.2845\n",
      "Iteration 400, loss = 0.5618\n",
      "Iteration 500, loss = 0.2782\n",
      "Iteration 600, loss = 0.2695\n",
      "Iteration 700, loss = 0.1636\n",
      "Iteration 800, loss = 0.1125\n",
      "Iteration 900, loss = 0.2293\n",
      "Iteration 1000, loss = 0.1642\n",
      "Iteration 1100, loss = 0.2698\n",
      "Iteration 1200, loss = 0.1256\n",
      "Iteration 1300, loss = 0.2751\n",
      "Iteration 1400, loss = 0.5443\n",
      "Iteration 1500, loss = 0.1210\n",
      "Batch loss 0.0136, acc 100.00\n",
      "Checking accuracy on validation set\n",
      "Got val loss 0.4797, 853 / 1000 correct (85.30)\n",
      "\n",
      "Training goes with 2270.50 seconds.\n"
     ]
    },
    {
     "data": {
      "image/png": "[encoded data removed]",
      "text/plain": [
       "<matplotlib.figure.Figure at 0x7f5660c8cd30>"
      ]
     },
     "metadata": {
      "tags": []
     },
     "output_type": "display_data"
    }
   ],
   "source": [
    "learning_rate = 1e-3\n",
    "\n",
    "# kernel=5, stride=1, 4 stages\n",
    "model = ResNet(BasicBlock, [2, 3, 5, 2])\n",
    "optimizer = optim.Adam(model.parameters(), lr=learning_rate)\n",
    "\n",
    "t0 = time()\n",
    "history = train_net(model, optimizer, epochs=15)\n",
    "plot_history(history)\n",
    "print('Training goes with %.2f seconds.' %(time()-t0))"
   ]
  },
  {
   "cell_type": "markdown",
   "metadata": {
    "colab_type": "text",
    "id": "z6D9ksivUVIr"
   },
   "source": [
    "**DenseNet**"
   ]
  },
  {
   "cell_type": "code",
   "execution_count": 0,
   "metadata": {
    "colab": {
     "autoexec": {
      "startup": false,
      "wait_interval": 0
     }
    },
    "colab_type": "code",
    "id": "MKq2Dyk1ELL2"
   },
   "outputs": [],
   "source": [
    "from collections import OrderedDict\n",
    "\n",
    "class _DenseLayer(nn.Sequential):\n",
    "    def __init__(self, num_input_features, growth_rate, bn_size, drop_rate):\n",
    "        super(_DenseLayer, self).__init__()\n",
    "        self.add_module('norm1', nn.BatchNorm2d(num_input_features)),\n",
    "        self.add_module('relu1', nn.ReLU(inplace=True)),\n",
    "        self.add_module('conv1', nn.Conv2d(num_input_features, bn_size *\n",
    "                        growth_rate, kernel_size=1, stride=1, bias=False)),\n",
    "        self.add_module('norm2', nn.BatchNorm2d(bn_size * growth_rate)),\n",
    "        self.add_module('relu2', nn.ReLU(inplace=True)),\n",
    "        self.add_module('conv2', nn.Conv2d(bn_size * growth_rate, growth_rate,\n",
    "                        kernel_size=3, stride=1, padding=1, bias=False)),\n",
    "        self.drop_rate = drop_rate\n",
    "\n",
    "    def forward(self, x):\n",
    "        new_features = super(_DenseLayer, self).forward(x)\n",
    "        if self.drop_rate > 0:\n",
    "            new_features = F.dropout(new_features, p=self.drop_rate, training=self.training)\n",
    "        return torch.cat([x, new_features], 1)\n",
    "\n",
    "\n",
    "class _DenseBlock(nn.Sequential):\n",
    "    def __init__(self, num_layers, num_input_features, bn_size, growth_rate, drop_rate):\n",
    "        super(_DenseBlock, self).__init__()\n",
    "        for i in range(num_layers):\n",
    "            layer = _DenseLayer(num_input_features + i * growth_rate, growth_rate, bn_size, drop_rate)\n",
    "            self.add_module('denselayer%d' % (i + 1), layer)\n",
    "\n",
    "\n",
    "class _Transition(nn.Sequential):\n",
    "    def __init__(self, num_input_features, num_output_features):\n",
    "        super(_Transition, self).__init__()\n",
    "        self.add_module('norm', nn.BatchNorm2d(num_input_features))\n",
    "        self.add_module('relu', nn.ReLU(inplace=True))\n",
    "        self.add_module('conv', nn.Conv2d(num_input_features, num_output_features,\n",
    "                                          kernel_size=1, stride=1, bias=False))\n",
    "        self.add_module('pool', nn.AvgPool2d(kernel_size=2, stride=2))\n",
    "\n",
    "\n",
    "class DenseNet(nn.Module):\n",
    "    r\"\"\"Densenet-BC model class, based on\n",
    "    `\"Densely Connected Convolutional Networks\" <https://arxiv.org/pdf/1608.06993.pdf>`_\n",
    "\n",
    "    Args:\n",
    "        growth_rate (int) - how many filters to add each layer (`k` in paper)\n",
    "        block_config (list of 4 ints) - how many layers in each pooling block\n",
    "        num_init_features (int) - the number of filters to learn in the first convolution layer\n",
    "        bn_size (int) - multiplicative factor for number of bottle neck layers\n",
    "          (i.e. bn_size * k features in the bottleneck layer)\n",
    "        drop_rate (float) - dropout rate after each dense layer\n",
    "        num_classes (int) - number of classification classes\n",
    "    \"\"\"\n",
    "    def __init__(self, growth_rate=32, block_config=(6, 12, 24),\n",
    "                 num_init_features=64, bn_size=4, drop_rate=0, num_classes=10):\n",
    "\n",
    "        super(DenseNet, self).__init__()\n",
    "\n",
    "        # First convolution\n",
    "        self.features = nn.Sequential(OrderedDict([\n",
    "            ('conv0', nn.Conv2d(3, num_init_features, kernel_size=5, stride=1, padding=2, bias=False)),\n",
    "            ('norm0', nn.BatchNorm2d(num_init_features)),\n",
    "            ('relu0', nn.ReLU(inplace=True)),\n",
    "            ('pool0', nn.MaxPool2d(kernel_size=3, stride=2, padding=1)),\n",
    "        ]))\n",
    "\n",
    "        # Each denseblock\n",
    "        num_features = num_init_features\n",
    "        for i, num_layers in enumerate(block_config):\n",
    "            block = _DenseBlock(num_layers=num_layers, num_input_features=num_features,\n",
    "                                bn_size=bn_size, growth_rate=growth_rate, drop_rate=drop_rate)\n",
    "            self.features.add_module('denseblock%d' % (i + 1), block)\n",
    "            num_features = num_features + num_layers * growth_rate\n",
    "            if i != len(block_config) - 1:\n",
    "                trans = _Transition(num_input_features=num_features, num_output_features=num_features // 2)\n",
    "                self.features.add_module('transition%d' % (i + 1), trans)\n",
    "                num_features = num_features // 2\n",
    "\n",
    "        # Final batch norm\n",
    "        self.features.add_module('norm5', nn.BatchNorm2d(num_features))\n",
    "\n",
    "        # Linear layer\n",
    "        self.classifier = nn.Linear(num_features, num_classes)\n",
    "\n",
    "        # Official init from torch repo.\n",
    "        for m in self.modules():\n",
    "            if isinstance(m, nn.Conv2d):\n",
    "                nn.init.kaiming_normal_(m.weight.data)\n",
    "            elif isinstance(m, nn.BatchNorm2d):\n",
    "                m.weight.data.fill_(1)\n",
    "                m.bias.data.zero_()\n",
    "            elif isinstance(m, nn.Linear):\n",
    "                m.bias.data.zero_()\n",
    "\n",
    "    def forward(self, x):\n",
    "        features = self.features(x)\n",
    "        out = F.relu(features, inplace=True)\n",
    "        out = F.avg_pool2d(out, kernel_size=4, stride=1).view(features.size(0), -1)\n",
    "        out = self.classifier(out)\n",
    "        return out"
   ]
  },
  {
   "cell_type": "code",
   "execution_count": 8,
   "metadata": {
    "colab": {
     "autoexec": {
      "startup": false,
      "wait_interval": 0
     },
     "base_uri": "https://localhost:8080/",
     "height": 6167
    },
    "colab_type": "code",
    "executionInfo": {
     "elapsed": 4208430,
     "status": "ok",
     "timestamp": 1529335352148,
     "user": {
      "displayName": "radream",
      "photoUrl": "//lh3.googleusercontent.com/-y8V6pdyk_ro/AAAAAAAAAAI/AAAAAAAAA6Y/SINQvfcEI-s/s50-c-k-no/photo.jpg",
      "userId": "118358371009498594123"
     },
     "user_tz": -480
    },
    "id": "fdrrRKP5LCUk",
    "outputId": "368640d7-a8f7-42f5-d89e-392fe84dd5c0"
   },
   "outputs": [
    {
     "name": "stdout",
     "output_type": "stream",
     "text": [
      "Checking accuracy on validation set\n",
      "Got val loss 2.5171, 107 / 1000 correct (10.70)\n",
      "\n",
      "Epoch 1 / 15:\n",
      "Iteration 0, loss = 2.3201\n",
      "Iteration 100, loss = 1.8585\n",
      "Iteration 200, loss = 1.8266\n",
      "Iteration 300, loss = 1.4975\n",
      "Iteration 400, loss = 1.3483\n",
      "Iteration 500, loss = 1.4079\n",
      "Iteration 600, loss = 0.9488\n",
      "Iteration 700, loss = 1.2475\n",
      "Iteration 800, loss = 1.1679\n",
      "Iteration 900, loss = 1.2452\n",
      "Iteration 1000, loss = 1.1293\n",
      "Iteration 1100, loss = 0.9556\n",
      "Iteration 1200, loss = 1.1819\n",
      "Iteration 1300, loss = 0.8984\n",
      "Iteration 1400, loss = 1.0251\n",
      "Iteration 1500, loss = 0.8102\n",
      "Batch loss 1.2083, acc 50.00\n",
      "Checking accuracy on validation set\n",
      "Got val loss 0.9620, 679 / 1000 correct (67.90)\n",
      "Saving model...\n",
      "\n",
      "\n",
      "Epoch 2 / 15:\n",
      "Iteration 0, loss = 1.0589\n",
      "Iteration 100, loss = 1.1884\n",
      "Iteration 200, loss = 0.7062\n",
      "Iteration 300, loss = 0.8435\n",
      "Iteration 400, loss = 1.1350\n",
      "Iteration 500, loss = 1.3208\n",
      "Iteration 600, loss = 0.8780\n",
      "Iteration 700, loss = 1.2750\n",
      "Iteration 800, loss = 1.1952\n",
      "Iteration 900, loss = 0.9905\n",
      "Iteration 1000, loss = 1.1114\n",
      "Iteration 1100, loss = 1.1453\n",
      "Iteration 1200, loss = 0.8069\n",
      "Iteration 1300, loss = 0.6637\n",
      "Iteration 1400, loss = 0.5560\n",
      "Iteration 1500, loss = 0.8059\n",
      "Batch loss 1.4537, acc 50.00\n",
      "Checking accuracy on validation set\n",
      "Got val loss 0.7279, 746 / 1000 correct (74.60)\n",
      "Saving model...\n",
      "\n",
      "\n",
      "Epoch 3 / 15:\n",
      "Iteration 0, loss = 0.6607\n",
      "Iteration 100, loss = 0.8371\n",
      "Iteration 200, loss = 0.8533\n",
      "Iteration 300, loss = 0.9770\n",
      "Iteration 400, loss = 0.6516\n",
      "Iteration 500, loss = 0.7561\n",
      "Iteration 600, loss = 1.0335\n",
      "Iteration 700, loss = 0.9987\n",
      "Iteration 800, loss = 0.7618\n",
      "Iteration 900, loss = 0.7306\n",
      "Iteration 1000, loss = 0.9681\n",
      "Iteration 1100, loss = 0.6214\n",
      "Iteration 1200, loss = 0.8014\n",
      "Iteration 1300, loss = 0.7111\n",
      "Iteration 1400, loss = 0.3045\n",
      "Iteration 1500, loss = 0.6658\n",
      "Batch loss 0.3887, acc 75.00\n",
      "Checking accuracy on validation set\n",
      "Got val loss 0.6123, 795 / 1000 correct (79.50)\n",
      "Saving model...\n",
      "\n",
      "\n",
      "Epoch 4 / 15:\n",
      "Iteration 0, loss = 0.4310\n",
      "Iteration 100, loss = 0.8093\n",
      "Iteration 200, loss = 0.7311\n",
      "Iteration 300, loss = 0.5897\n",
      "Iteration 400, loss = 0.4136\n",
      "Iteration 500, loss = 0.5855\n",
      "Iteration 600, loss = 0.6318\n",
      "Iteration 700, loss = 0.6001\n",
      "Iteration 800, loss = 0.7668\n",
      "Iteration 900, loss = 0.4975\n",
      "Iteration 1000, loss = 0.3569\n",
      "Iteration 1100, loss = 0.5511\n",
      "Iteration 1200, loss = 0.8318\n",
      "Iteration 1300, loss = 0.6037\n",
      "Iteration 1400, loss = 0.5121\n",
      "Iteration 1500, loss = 0.5369\n",
      "Batch loss 0.0786, acc 100.00\n",
      "Checking accuracy on validation set\n",
      "Got val loss 0.5488, 817 / 1000 correct (81.70)\n",
      "Saving model...\n",
      "\n",
      "\n",
      "Epoch 5 / 15:\n",
      "Iteration 0, loss = 0.5055\n",
      "Iteration 100, loss = 0.5583\n",
      "Iteration 200, loss = 0.3354\n",
      "Iteration 300, loss = 0.1728\n",
      "Iteration 400, loss = 0.5063\n",
      "Iteration 500, loss = 0.7291\n",
      "Iteration 600, loss = 0.8182\n",
      "Iteration 700, loss = 0.4216\n",
      "Iteration 800, loss = 0.7593\n",
      "Iteration 900, loss = 0.3772\n",
      "Iteration 1000, loss = 0.5206\n",
      "Iteration 1100, loss = 0.7281\n",
      "Iteration 1200, loss = 0.7191\n",
      "Iteration 1300, loss = 0.7304\n",
      "Iteration 1400, loss = 0.7771\n",
      "Iteration 1500, loss = 0.5457\n",
      "Batch loss 0.5146, acc 75.00\n",
      "Checking accuracy on validation set\n",
      "Got val loss 0.4952, 821 / 1000 correct (82.10)\n",
      "Saving model...\n",
      "\n",
      "\n",
      "Epoch 6 / 15:\n",
      "Iteration 0, loss = 0.5363\n",
      "Iteration 100, loss = 0.5187\n",
      "Iteration 200, loss = 0.7220\n",
      "Iteration 300, loss = 0.2982\n",
      "Iteration 400, loss = 0.8466\n",
      "Iteration 500, loss = 0.5314\n",
      "Iteration 600, loss = 0.6657\n",
      "Iteration 700, loss = 0.4464\n",
      "Iteration 800, loss = 0.5079\n",
      "Iteration 900, loss = 0.4997\n",
      "Iteration 1000, loss = 0.6182\n",
      "Iteration 1100, loss = 0.3230\n",
      "Iteration 1200, loss = 0.5734\n",
      "Iteration 1300, loss = 0.5906\n",
      "Iteration 1400, loss = 0.3801\n",
      "Iteration 1500, loss = 0.3221\n",
      "Batch loss 0.7996, acc 87.50\n",
      "Checking accuracy on validation set\n",
      "Got val loss 0.5113, 832 / 1000 correct (83.20)\n",
      "Saving model...\n",
      "\n",
      "\n",
      "Epoch 7 / 15:\n",
      "Iteration 0, loss = 0.7300\n",
      "Iteration 100, loss = 0.7458\n",
      "Iteration 200, loss = 0.4308\n",
      "Iteration 300, loss = 0.5966\n",
      "Iteration 400, loss = 0.4424\n",
      "Iteration 500, loss = 0.3589\n",
      "Iteration 600, loss = 0.4547\n",
      "Iteration 700, loss = 0.2161\n",
      "Iteration 800, loss = 0.4515\n",
      "Iteration 900, loss = 0.4179\n",
      "Iteration 1000, loss = 0.4662\n",
      "Iteration 1100, loss = 0.4308\n",
      "Iteration 1200, loss = 0.4338\n",
      "Iteration 1300, loss = 0.3413\n",
      "Iteration 1400, loss = 0.8596\n",
      "Iteration 1500, loss = 0.5061\n",
      "Batch loss 0.1630, acc 100.00\n",
      "Checking accuracy on validation set\n",
      "Got val loss 0.5216, 825 / 1000 correct (82.50)\n",
      "\n",
      "\n",
      "Epoch 8 / 15:\n",
      "Iteration 0, loss = 0.4128\n",
      "Iteration 100, loss = 0.1621\n",
      "Iteration 200, loss = 0.3642\n",
      "Iteration 300, loss = 0.3062\n",
      "Iteration 400, loss = 0.8401\n",
      "Iteration 500, loss = 0.5498\n",
      "Iteration 600, loss = 0.5162\n",
      "Iteration 700, loss = 0.3513\n",
      "Iteration 800, loss = 0.7000\n",
      "Iteration 900, loss = 0.2768\n",
      "Iteration 1000, loss = 0.4721\n",
      "Iteration 1100, loss = 0.3845\n",
      "Iteration 1200, loss = 0.3559\n",
      "Iteration 1300, loss = 0.2401\n",
      "Iteration 1400, loss = 0.4273\n",
      "Iteration 1500, loss = 0.3799\n",
      "Batch loss 1.0753, acc 62.50\n",
      "Checking accuracy on validation set\n",
      "Got val loss 0.3974, 863 / 1000 correct (86.30)\n",
      "Saving model...\n",
      "\n",
      "\n",
      "Epoch 9 / 15:\n",
      "Iteration 0, loss = 0.2018\n",
      "Iteration 100, loss = 0.1636\n",
      "Iteration 200, loss = 0.6098\n",
      "Iteration 300, loss = 0.2694\n",
      "Iteration 400, loss = 0.2974\n",
      "Iteration 500, loss = 0.4886\n",
      "Iteration 600, loss = 0.5476\n",
      "Iteration 700, loss = 0.2296\n",
      "Iteration 800, loss = 0.1931\n",
      "Iteration 900, loss = 0.2641\n",
      "Iteration 1000, loss = 0.3404\n",
      "Iteration 1100, loss = 0.7829\n",
      "Iteration 1200, loss = 0.3048\n",
      "Iteration 1300, loss = 0.2271\n",
      "Iteration 1400, loss = 0.3563\n",
      "Iteration 1500, loss = 0.3187\n",
      "Batch loss 1.1499, acc 62.50\n",
      "Checking accuracy on validation set\n",
      "Got val loss 0.3819, 876 / 1000 correct (87.60)\n",
      "Saving model...\n",
      "\n",
      "\n",
      "Epoch 10 / 15:\n",
      "Iteration 0, loss = 0.4674\n",
      "Iteration 100, loss = 0.2965\n",
      "Iteration 200, loss = 0.4860\n",
      "Iteration 300, loss = 0.4691\n",
      "Iteration 400, loss = 0.3086\n",
      "Iteration 500, loss = 0.2989\n",
      "Iteration 600, loss = 0.1961\n",
      "Iteration 700, loss = 0.4575\n",
      "Iteration 800, loss = 0.3626\n",
      "Iteration 900, loss = 0.3244\n",
      "Iteration 1000, loss = 0.3113\n",
      "Iteration 1100, loss = 0.2401\n",
      "Iteration 1200, loss = 0.3343\n",
      "Iteration 1300, loss = 0.3255\n",
      "Iteration 1400, loss = 0.4551\n",
      "Iteration 1500, loss = 0.5319\n",
      "Batch loss 0.3117, acc 87.50\n",
      "Checking accuracy on validation set\n",
      "Got val loss 0.3837, 880 / 1000 correct (88.00)\n",
      "Saving model...\n",
      "\n",
      "\n",
      "Epoch 11 / 15:\n",
      "Iteration 0, loss = 0.5653\n",
      "Iteration 100, loss = 0.2381\n",
      "Iteration 200, loss = 0.4049\n",
      "Iteration 300, loss = 0.2515\n",
      "Iteration 400, loss = 0.2961\n",
      "Iteration 500, loss = 0.3117\n",
      "Iteration 600, loss = 0.5852\n",
      "Iteration 700, loss = 0.3626\n",
      "Iteration 800, loss = 0.3573\n",
      "Iteration 900, loss = 0.1698\n",
      "Iteration 1000, loss = 0.3561\n",
      "Iteration 1100, loss = 0.2147\n",
      "Iteration 1200, loss = 0.3536\n",
      "Iteration 1300, loss = 0.1507\n",
      "Iteration 1400, loss = 0.2123\n",
      "Iteration 1500, loss = 0.2421\n",
      "Batch loss 0.6067, acc 87.50\n",
      "Checking accuracy on validation set\n",
      "Got val loss 0.3979, 870 / 1000 correct (87.00)\n",
      "\n",
      "\n",
      "Epoch 12 / 15:\n",
      "Iteration 0, loss = 0.1141\n",
      "Iteration 100, loss = 0.4680\n",
      "Iteration 200, loss = 0.3866\n",
      "Iteration 300, loss = 0.2402\n",
      "Iteration 400, loss = 0.4358\n",
      "Iteration 500, loss = 0.1193\n",
      "Iteration 600, loss = 0.3463\n",
      "Iteration 700, loss = 0.4138\n",
      "Iteration 800, loss = 0.0531\n",
      "Iteration 900, loss = 0.1438\n",
      "Iteration 1000, loss = 0.3476\n",
      "Iteration 1100, loss = 0.3380\n",
      "Iteration 1200, loss = 0.3139\n",
      "Iteration 1300, loss = 0.2896\n",
      "Iteration 1400, loss = 0.5288\n",
      "Iteration 1500, loss = 0.3706\n",
      "Batch loss 1.3567, acc 62.50\n",
      "Checking accuracy on validation set\n",
      "Got val loss 0.3906, 873 / 1000 correct (87.30)\n",
      "\n",
      "\n",
      "Epoch 13 / 15:\n",
      "Iteration 0, loss = 0.2504\n",
      "Iteration 100, loss = 0.5455\n",
      "Iteration 200, loss = 0.2864\n",
      "Iteration 300, loss = 0.3339\n",
      "Iteration 400, loss = 0.2085\n",
      "Iteration 500, loss = 0.3152\n",
      "Iteration 600, loss = 0.3368\n",
      "Iteration 700, loss = 0.3144\n",
      "Iteration 800, loss = 0.1502\n",
      "Iteration 900, loss = 0.1524\n",
      "Iteration 1000, loss = 0.0678\n",
      "Iteration 1100, loss = 0.2283\n",
      "Iteration 1200, loss = 0.2133\n",
      "Iteration 1300, loss = 0.1454\n",
      "Iteration 1400, loss = 0.0784\n",
      "Iteration 1500, loss = 0.1717\n",
      "Batch loss 0.2899, acc 87.50\n",
      "Checking accuracy on validation set\n",
      "Got val loss 0.3273, 887 / 1000 correct (88.70)\n",
      "Saving model...\n",
      "\n",
      "\n",
      "Epoch 14 / 15:\n",
      "Iteration 0, loss = 0.1374\n",
      "Iteration 100, loss = 0.3082\n",
      "Iteration 200, loss = 0.2370\n",
      "Iteration 300, loss = 0.3903\n",
      "Iteration 400, loss = 0.1328\n",
      "Iteration 500, loss = 0.2376\n",
      "Iteration 600, loss = 0.3833\n",
      "Iteration 700, loss = 0.3776\n",
      "Iteration 800, loss = 0.2396\n",
      "Iteration 900, loss = 0.1681\n",
      "Iteration 1000, loss = 0.0996\n",
      "Iteration 1100, loss = 0.1914\n",
      "Iteration 1200, loss = 0.6682\n",
      "Iteration 1300, loss = 0.0970\n",
      "Iteration 1400, loss = 0.5105\n",
      "Iteration 1500, loss = 0.3501\n",
      "Batch loss 0.0721, acc 100.00\n",
      "Checking accuracy on validation set\n",
      "Got val loss 0.4075, 880 / 1000 correct (88.00)\n",
      "\n",
      "\n",
      "Epoch 15 / 15:\n",
      "Iteration 0, loss = 0.1418\n",
      "Iteration 100, loss = 0.3013\n",
      "Iteration 200, loss = 0.1517\n",
      "Iteration 300, loss = 0.3492\n",
      "Iteration 400, loss = 0.5417\n",
      "Iteration 500, loss = 0.2750\n",
      "Iteration 600, loss = 0.1295\n",
      "Iteration 700, loss = 0.3177\n",
      "Iteration 800, loss = 0.4388\n",
      "Iteration 900, loss = 0.2540\n",
      "Iteration 1000, loss = 0.3358\n",
      "Iteration 1100, loss = 0.2863\n",
      "Iteration 1200, loss = 0.4445\n",
      "Iteration 1300, loss = 0.3358\n",
      "Iteration 1400, loss = 0.3968\n",
      "Iteration 1500, loss = 0.0894\n",
      "Batch loss 0.2257, acc 87.50\n",
      "Checking accuracy on validation set\n",
      "Got val loss 0.3539, 885 / 1000 correct (88.50)\n",
      "\n",
      "Training goes with 4207.12 seconds.\n"
     ]
    },
    {
     "data": {
      "image/png": "[encoded data removed]",
      "text/plain": [
       "<matplotlib.figure.Figure at 0x7f56186e3f28>"
      ]
     },
     "metadata": {
      "tags": []
     },
     "output_type": "display_data"
    }
   ],
   "source": [
    "# blocks [6, 12, 24], growth rate 32\n",
    "learning_rate = 1e-3\n",
    "\n",
    "model = DenseNet()\n",
    "optimizer = optim.Adam(model.parameters(), lr=learning_rate)\n",
    "\n",
    "t0 = time()\n",
    "history = train_net(model, optimizer, epochs=15)\n",
    "plot_history(history)\n",
    "print('Training goes with %.2f seconds.' %(time()-t0))"
   ]
  },
  {
   "cell_type": "markdown",
   "metadata": {
    "colab_type": "text",
    "id": "LxqszizqAZ3P"
   },
   "source": [
    "## Describe what you did \n",
    "\n",
    "In the cell below you should write an explanation of what you did, any additional features that you implemented, and/or any graphs that you made in the process of training and evaluating your network."
   ]
  },
  {
   "cell_type": "markdown",
   "metadata": {
    "colab_type": "text",
    "id": "TRjaetn5AZ3R"
   },
   "source": [
    "TODO: Describe what you did"
   ]
  },
  {
   "cell_type": "markdown",
   "metadata": {
    "colab_type": "text",
    "id": "SF86pS9fAZ3S"
   },
   "source": [
    "## Test set -- run this only once\n",
    "\n",
    "Now that we've gotten a result we're happy with, we test our final model on the test set (which you should store in best_model). Think about how this compares to your validation set accuracy."
   ]
  },
  {
   "cell_type": "markdown",
   "metadata": {
    "colab_type": "text",
    "id": "q4TNypkRMC6s"
   },
   "source": [
    "**VGG-style**"
   ]
  },
  {
   "cell_type": "code",
   "execution_count": 19,
   "metadata": {
    "colab": {
     "autoexec": {
      "startup": false,
      "wait_interval": 0
     },
     "base_uri": "https://localhost:8080/",
     "height": 68
    },
    "colab_type": "code",
    "executionInfo": {
     "elapsed": 4141,
     "status": "ok",
     "timestamp": 1529380677945,
     "user": {
      "displayName": "radream",
      "photoUrl": "//lh3.googleusercontent.com/-y8V6pdyk_ro/AAAAAAAAAAI/AAAAAAAAA6Y/SINQvfcEI-s/s50-c-k-no/photo.jpg",
      "userId": "118358371009498594123"
     },
     "user_tz": -480
    },
    "id": "f2Cu6BQjMH-r",
    "outputId": "af7862cb-49f4-40db-9662-b2e6034d1eca"
   },
   "outputs": [
    {
     "name": "stdout",
     "output_type": "stream",
     "text": [
      "Checking accuracy on validation set\n",
      "Got val loss 0.3784, 879 / 1000 correct (87.90)\n"
     ]
    },
    {
     "data": {
      "text/plain": [
       "(0.879, 0.3784138672053814)"
      ]
     },
     "execution_count": 19,
     "metadata": {
      "tags": []
     },
     "output_type": "execute_result"
    }
   ],
   "source": [
    "model.load_state_dict(torch.load('./vgg.pth.tar'))\n",
    "best_model = model.to(device=device)  # move the model parameters to CPU/GPU\n",
    "check_accuracy(loader_val, best_model)"
   ]
  },
  {
   "cell_type": "code",
   "execution_count": 20,
   "metadata": {
    "colab": {
     "autoexec": {
      "startup": false,
      "wait_interval": 0
     },
     "base_uri": "https://localhost:8080/",
     "height": 68
    },
    "colab_type": "code",
    "executionInfo": {
     "elapsed": 6757,
     "status": "ok",
     "timestamp": 1529380685399,
     "user": {
      "displayName": "radream",
      "photoUrl": "//lh3.googleusercontent.com/-y8V6pdyk_ro/AAAAAAAAAAI/AAAAAAAAA6Y/SINQvfcEI-s/s50-c-k-no/photo.jpg",
      "userId": "118358371009498594123"
     },
     "user_tz": -480
    },
    "id": "9vCNkyPsMRGz",
    "outputId": "e88d3703-ea7c-4286-9804-2cc6144b043b"
   },
   "outputs": [
    {
     "name": "stdout",
     "output_type": "stream",
     "text": [
      "Checking accuracy on test set\n",
      "Got val loss 0.3808, 8770 / 10000 correct (87.70)\n"
     ]
    },
    {
     "data": {
      "text/plain": [
       "(0.877, 0.3808383654067471)"
      ]
     },
     "execution_count": 20,
     "metadata": {
      "tags": []
     },
     "output_type": "execute_result"
    }
   ],
   "source": [
    "check_accuracy(loader_test, best_model)"
   ]
  },
  {
   "cell_type": "markdown",
   "metadata": {
    "colab_type": "text",
    "id": "8_TN1TpGGt4b"
   },
   "source": [
    "**Inception Net**"
   ]
  },
  {
   "cell_type": "code",
   "execution_count": 12,
   "metadata": {
    "colab": {
     "autoexec": {
      "startup": false,
      "wait_interval": 0
     },
     "base_uri": "https://localhost:8080/",
     "height": 68
    },
    "colab_type": "code",
    "executionInfo": {
     "elapsed": 4148,
     "status": "ok",
     "timestamp": 1529379145500,
     "user": {
      "displayName": "radream",
      "photoUrl": "//lh3.googleusercontent.com/-y8V6pdyk_ro/AAAAAAAAAAI/AAAAAAAAA6Y/SINQvfcEI-s/s50-c-k-no/photo.jpg",
      "userId": "118358371009498594123"
     },
     "user_tz": -480
    },
    "id": "YGalBt9EGSvn",
    "outputId": "006a5131-ecd1-4bb8-9f92-b0497f387970"
   },
   "outputs": [
    {
     "name": "stdout",
     "output_type": "stream",
     "text": [
      "Checking accuracy on validation set\n",
      "Got val loss 0.3313, 890 / 1000 correct (89.00)\n"
     ]
    },
    {
     "data": {
      "text/plain": [
       "(0.89, 0.33133223559707403)"
      ]
     },
     "execution_count": 12,
     "metadata": {
      "tags": []
     },
     "output_type": "execute_result"
    }
   ],
   "source": [
    "model = Inception3()\n",
    "model.load_state_dict(torch.load('./inception.pth.tar'))\n",
    "best_model = model.to(device=device)  # move the model parameters to CPU/GPU\n",
    "check_accuracy(loader_val, best_model)"
   ]
  },
  {
   "cell_type": "code",
   "execution_count": 13,
   "metadata": {
    "colab": {
     "autoexec": {
      "startup": false,
      "wait_interval": 0
     },
     "base_uri": "https://localhost:8080/",
     "height": 68
    },
    "colab_type": "code",
    "executionInfo": {
     "elapsed": 9594,
     "status": "ok",
     "timestamp": 1529379156463,
     "user": {
      "displayName": "radream",
      "photoUrl": "//lh3.googleusercontent.com/-y8V6pdyk_ro/AAAAAAAAAAI/AAAAAAAAA6Y/SINQvfcEI-s/s50-c-k-no/photo.jpg",
      "userId": "118358371009498594123"
     },
     "user_tz": -480
    },
    "id": "rXzqzrZUGa5s",
    "outputId": "1dda15dc-0e89-4d47-d66f-585e3ded57d5"
   },
   "outputs": [
    {
     "name": "stdout",
     "output_type": "stream",
     "text": [
      "Checking accuracy on test set\n",
      "Got val loss 0.3618, 8793 / 10000 correct (87.93)\n"
     ]
    },
    {
     "data": {
      "text/plain": [
       "(0.8793, 0.36183775510567767)"
      ]
     },
     "execution_count": 13,
     "metadata": {
      "tags": []
     },
     "output_type": "execute_result"
    }
   ],
   "source": [
    "check_accuracy(loader_test, best_model)"
   ]
  },
  {
   "cell_type": "markdown",
   "metadata": {
    "colab_type": "text",
    "id": "U_wFoho-Gqvi"
   },
   "source": [
    "**ResNet**"
   ]
  },
  {
   "cell_type": "code",
   "execution_count": 24,
   "metadata": {
    "colab": {
     "autoexec": {
      "startup": false,
      "wait_interval": 0
     },
     "base_uri": "https://localhost:8080/",
     "height": 68
    },
    "colab_type": "code",
    "executionInfo": {
     "elapsed": 1885,
     "status": "ok",
     "timestamp": 1529339556457,
     "user": {
      "displayName": "radream",
      "photoUrl": "//lh3.googleusercontent.com/-y8V6pdyk_ro/AAAAAAAAAAI/AAAAAAAAA6Y/SINQvfcEI-s/s50-c-k-no/photo.jpg",
      "userId": "118358371009498594123"
     },
     "user_tz": -480
    },
    "id": "ne9kdBqYAZ3T",
    "outputId": "7a4d240c-7b4e-4838-c2e9-757295b1a701"
   },
   "outputs": [
    {
     "name": "stdout",
     "output_type": "stream",
     "text": [
      "Checking accuracy on validation set\n",
      "Got val loss 0.3217, 887 / 1000 correct (88.70)\n"
     ]
    },
    {
     "data": {
      "text/plain": [
       "(0.887, 0.321684742346406)"
      ]
     },
     "execution_count": 24,
     "metadata": {
      "tags": []
     },
     "output_type": "execute_result"
    }
   ],
   "source": [
    "model = DenseNet()\n",
    "model.load_state_dict(torch.load('./denseNet.pth.tar'))\n",
    "best_model = model.to(device=device)  # move the model parameters to CPU/GPU\n",
    "check_accuracy(loader_val, best_model)"
   ]
  },
  {
   "cell_type": "code",
   "execution_count": 25,
   "metadata": {
    "colab": {
     "autoexec": {
      "startup": false,
      "wait_interval": 0
     },
     "base_uri": "https://localhost:8080/",
     "height": 68
    },
    "colab_type": "code",
    "executionInfo": {
     "elapsed": 11781,
     "status": "ok",
     "timestamp": 1529339575461,
     "user": {
      "displayName": "radream",
      "photoUrl": "//lh3.googleusercontent.com/-y8V6pdyk_ro/AAAAAAAAAAI/AAAAAAAAA6Y/SINQvfcEI-s/s50-c-k-no/photo.jpg",
      "userId": "118358371009498594123"
     },
     "user_tz": -480
    },
    "id": "cNZSxfrzuTRy",
    "outputId": "fe1fc79c-24c3-4c0c-f264-7c7c5dce6241"
   },
   "outputs": [
    {
     "name": "stdout",
     "output_type": "stream",
     "text": [
      "Checking accuracy on test set\n",
      "Got val loss 0.3844, 8732 / 10000 correct (87.32)\n"
     ]
    },
    {
     "data": {
      "text/plain": [
       "(0.8732, 0.3844305277819846)"
      ]
     },
     "execution_count": 25,
     "metadata": {
      "tags": []
     },
     "output_type": "execute_result"
    }
   ],
   "source": [
    "check_accuracy(loader_test, best_model)"
   ]
  },
  {
   "cell_type": "markdown",
   "metadata": {
    "colab_type": "text",
    "id": "9uH61cUxGmwh"
   },
   "source": [
    "**DenseNet**"
   ]
  },
  {
   "cell_type": "code",
   "execution_count": 26,
   "metadata": {
    "colab": {
     "autoexec": {
      "startup": false,
      "wait_interval": 0
     },
     "base_uri": "https://localhost:8080/",
     "height": 68
    },
    "colab_type": "code",
    "executionInfo": {
     "elapsed": 2432,
     "status": "ok",
     "timestamp": 1529339630970,
     "user": {
      "displayName": "radream",
      "photoUrl": "//lh3.googleusercontent.com/-y8V6pdyk_ro/AAAAAAAAAAI/AAAAAAAAA6Y/SINQvfcEI-s/s50-c-k-no/photo.jpg",
      "userId": "118358371009498594123"
     },
     "user_tz": -480
    },
    "id": "qxXNej3Mt99v",
    "outputId": "0303305f-8367-4b5d-a243-e271863c54a0"
   },
   "outputs": [
    {
     "name": "stdout",
     "output_type": "stream",
     "text": [
      "Checking accuracy on validation set\n",
      "Got val loss 0.3922, 876 / 1000 correct (87.60)\n"
     ]
    },
    {
     "data": {
      "text/plain": [
       "(0.876, 0.3921981491148472)"
      ]
     },
     "execution_count": 26,
     "metadata": {
      "tags": []
     },
     "output_type": "execute_result"
    }
   ],
   "source": [
    "model = ResNet(BasicBlock, [2, 3, 5, 2])\n",
    "model.load_state_dict(torch.load('./resNet.pth.tar'))\n",
    "best_model = model.to(device=device)  # move the model parameters to CPU/GPU\n",
    "check_accuracy(loader_val, best_model)"
   ]
  },
  {
   "cell_type": "code",
   "execution_count": 27,
   "metadata": {
    "colab": {
     "autoexec": {
      "startup": false,
      "wait_interval": 0
     },
     "base_uri": "https://localhost:8080/",
     "height": 68
    },
    "colab_type": "code",
    "executionInfo": {
     "elapsed": 6840,
     "status": "ok",
     "timestamp": 1529339639226,
     "user": {
      "displayName": "radream",
      "photoUrl": "//lh3.googleusercontent.com/-y8V6pdyk_ro/AAAAAAAAAAI/AAAAAAAAA6Y/SINQvfcEI-s/s50-c-k-no/photo.jpg",
      "userId": "118358371009498594123"
     },
     "user_tz": -480
    },
    "id": "dupUrCvMt2FB",
    "outputId": "e8535f49-2840-461e-fde0-9eddaedfc76e"
   },
   "outputs": [
    {
     "name": "stdout",
     "output_type": "stream",
     "text": [
      "Checking accuracy on test set\n",
      "Got val loss 0.4677, 8517 / 10000 correct (85.17)\n"
     ]
    },
    {
     "data": {
      "text/plain": [
       "(0.8517, 0.4677149132368671)"
      ]
     },
     "execution_count": 27,
     "metadata": {
      "tags": []
     },
     "output_type": "execute_result"
    }
   ],
   "source": [
    "check_accuracy(loader_test, best_model)"
   ]
  }
 ],
 "metadata": {
  "accelerator": "GPU",
  "colab": {
   "collapsed_sections": [],
   "default_view": {},
   "name": "PyTorch_2018.ipynb",
   "provenance": [],
   "version": "0.3.2",
   "views": {}
  },
  "kernelspec": {
   "display_name": "Python 3",
   "language": "python",
   "name": "python3"
  },
  "language_info": {
   "codemirror_mode": {
    "name": "ipython",
    "version": 2
   },
   "file_extension": ".py",
   "mimetype": "text/x-python",
   "name": "python",
   "nbconvert_exporter": "python",
   "pygments_lexer": "ipython2",
   "version": "2.7.13"
  }
 },
 "nbformat": 4,
 "nbformat_minor": 1
}
