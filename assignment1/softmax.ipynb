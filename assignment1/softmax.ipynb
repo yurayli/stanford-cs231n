{
 "cells": [
  {
   "cell_type": "markdown",
   "metadata": {},
   "source": [
    "# Softmax exercise\n",
    "\n",
    "*Complete and hand in this completed worksheet (including its outputs and any supporting code outside of the worksheet) with your assignment submission. For more details see the [assignments page](http://vision.stanford.edu/teaching/cs231n/assignments.html) on the course website.*\n",
    "\n",
    "This exercise is analogous to the SVM exercise. You will:\n",
    "\n",
    "- implement a fully-vectorized **loss function** for the Softmax classifier\n",
    "- implement the fully-vectorized expression for its **analytic gradient**\n",
    "- **check your implementation** with numerical gradient\n",
    "- use a validation set to **tune the learning rate and regularization** strength\n",
    "- **optimize** the loss function with **SGD**\n",
    "- **visualize** the final learned weights\n"
   ]
  },
  {
   "cell_type": "code",
   "execution_count": 1,
   "metadata": {},
   "outputs": [],
   "source": [
    "import random\n",
    "import numpy as np\n",
    "from cs231n.data_utils import load_CIFAR10\n",
    "import matplotlib.pyplot as plt\n",
    "\n",
    "from __future__ import print_function\n",
    "\n",
    "%matplotlib inline\n",
    "plt.rcParams['figure.figsize'] = (10.0, 8.0) # set default size of plots\n",
    "plt.rcParams['image.interpolation'] = 'nearest'\n",
    "plt.rcParams['image.cmap'] = 'gray'\n",
    "\n",
    "# for auto-reloading extenrnal modules\n",
    "# see http://stackoverflow.com/questions/1907993/autoreload-of-modules-in-ipython\n",
    "%load_ext autoreload\n",
    "%autoreload 2"
   ]
  },
  {
   "cell_type": "code",
   "execution_count": 2,
   "metadata": {},
   "outputs": [
    {
     "name": "stdout",
     "output_type": "stream",
     "text": [
      "Train data shape:  (49000, 3073)\n",
      "Train labels shape:  (49000,)\n",
      "Validation data shape:  (1000, 3073)\n",
      "Validation labels shape:  (1000,)\n",
      "Test data shape:  (1000, 3073)\n",
      "Test labels shape:  (1000,)\n",
      "dev data shape:  (500, 3073)\n",
      "dev labels shape:  (500,)\n"
     ]
    }
   ],
   "source": [
    "def get_CIFAR10_data(num_training=49000, num_validation=1000, num_test=1000, num_dev=500):\n",
    "    \"\"\"\n",
    "    Load the CIFAR-10 dataset from disk and perform preprocessing to prepare\n",
    "    it for the linear classifier. These are the same steps as we used for the\n",
    "    SVM, but condensed to a single function.  \n",
    "    \"\"\"\n",
    "    # Load the raw CIFAR-10 data\n",
    "    cifar10_dir = 'cs231n/datasets/cifar-10-batches-py'\n",
    "    X_train, y_train, X_test, y_test = load_CIFAR10(cifar10_dir)\n",
    "    \n",
    "    # subsample the data\n",
    "    mask = list(range(num_training, num_training + num_validation))\n",
    "    X_val = X_train[mask]\n",
    "    y_val = y_train[mask]\n",
    "    mask = list(range(num_training))\n",
    "    X_train = X_train[mask]\n",
    "    y_train = y_train[mask]\n",
    "    mask = list(range(num_test))\n",
    "    X_test = X_test[mask]\n",
    "    y_test = y_test[mask]\n",
    "    mask = np.random.choice(num_training, num_dev, replace=False)\n",
    "    X_dev = X_train[mask]\n",
    "    y_dev = y_train[mask]\n",
    "    \n",
    "    # Preprocessing: reshape the image data into rows\n",
    "    X_train = np.reshape(X_train, (X_train.shape[0], -1))\n",
    "    X_val = np.reshape(X_val, (X_val.shape[0], -1))\n",
    "    X_test = np.reshape(X_test, (X_test.shape[0], -1))\n",
    "    X_dev = np.reshape(X_dev, (X_dev.shape[0], -1))\n",
    "    \n",
    "    # Normalize the data: subtract the mean image\n",
    "    mean_image = np.mean(X_train, axis = 0)\n",
    "    X_train -= mean_image\n",
    "    X_val -= mean_image\n",
    "    X_test -= mean_image\n",
    "    X_dev -= mean_image\n",
    "    \n",
    "    # add bias dimension and transform into columns\n",
    "    X_train = np.hstack([X_train, np.ones((X_train.shape[0], 1))])\n",
    "    X_val = np.hstack([X_val, np.ones((X_val.shape[0], 1))])\n",
    "    X_test = np.hstack([X_test, np.ones((X_test.shape[0], 1))])\n",
    "    X_dev = np.hstack([X_dev, np.ones((X_dev.shape[0], 1))])\n",
    "    \n",
    "    return X_train, y_train, X_val, y_val, X_test, y_test, X_dev, y_dev\n",
    "\n",
    "\n",
    "# Invoke the above function to get our data.\n",
    "X_train, y_train, X_val, y_val, X_test, y_test, X_dev, y_dev = get_CIFAR10_data()\n",
    "print('Train data shape: ', X_train.shape)\n",
    "print('Train labels shape: ', y_train.shape)\n",
    "print('Validation data shape: ', X_val.shape)\n",
    "print('Validation labels shape: ', y_val.shape)\n",
    "print('Test data shape: ', X_test.shape)\n",
    "print('Test labels shape: ', y_test.shape)\n",
    "print('dev data shape: ', X_dev.shape)\n",
    "print('dev labels shape: ', y_dev.shape)"
   ]
  },
  {
   "cell_type": "markdown",
   "metadata": {},
   "source": [
    "## Softmax Classifier\n",
    "\n",
    "Your code for this section will all be written inside **cs231n/classifiers/softmax.py**. \n"
   ]
  },
  {
   "cell_type": "code",
   "execution_count": 3,
   "metadata": {},
   "outputs": [
    {
     "name": "stdout",
     "output_type": "stream",
     "text": [
      "loss: 2.369016\n",
      "sanity check: 2.302585\n"
     ]
    }
   ],
   "source": [
    "# First implement the naive softmax loss function with nested loops.\n",
    "# Open the file cs231n/classifiers/softmax.py and implement the\n",
    "# softmax_loss_naive function.\n",
    "\n",
    "from cs231n.classifiers.softmax import softmax_loss_naive\n",
    "import time\n",
    "\n",
    "# Generate a random softmax weight matrix and use it to compute the loss.\n",
    "W = np.random.randn(3073, 10) * 0.0001\n",
    "loss, grad = softmax_loss_naive(W, X_dev, y_dev, 0.0)\n",
    "\n",
    "# As a rough sanity check, our loss should be something close to -log(0.1).\n",
    "print('loss: %f' % loss)\n",
    "print('sanity check: %f' % (-np.log(0.1)))"
   ]
  },
  {
   "cell_type": "markdown",
   "metadata": {},
   "source": [
    "## Inline Question 1:\n",
    "Why do we expect our loss to be close to -log(0.1)? Explain briefly.**\n",
    "\n",
    "**Your answer:**\n",
    "If we random guess one example out of 10 classes, the probability that we correctly guessed is 0.1."
   ]
  },
  {
   "cell_type": "code",
   "execution_count": 4,
   "metadata": {},
   "outputs": [
    {
     "name": "stdout",
     "output_type": "stream",
     "text": [
      "numerical: 3.612943 analytic: 3.612943, relative error: 9.815975e-10\n",
      "numerical: -5.455645 analytic: -5.455646, relative error: 9.399176e-09\n",
      "numerical: -3.471899 analytic: -3.471899, relative error: 2.834203e-10\n",
      "numerical: 0.439549 analytic: 0.439549, relative error: 1.102187e-07\n",
      "numerical: -0.982528 analytic: -0.982528, relative error: 2.494096e-08\n",
      "numerical: 0.014292 analytic: 0.014292, relative error: 1.417213e-07\n",
      "numerical: 0.826879 analytic: 0.826878, relative error: 1.175843e-07\n",
      "numerical: -0.786657 analytic: -0.786658, relative error: 4.729732e-08\n",
      "numerical: 0.081011 analytic: 0.081011, relative error: 2.938576e-07\n",
      "numerical: -5.847596 analytic: -5.847596, relative error: 3.498543e-09\n",
      "numerical: 1.899642 analytic: 1.899642, relative error: 3.579936e-08\n",
      "numerical: 0.439579 analytic: 0.439579, relative error: 2.155283e-07\n",
      "numerical: -0.861112 analytic: -0.861112, relative error: 4.643966e-08\n",
      "numerical: -0.667171 analytic: -0.667171, relative error: 5.639239e-08\n",
      "numerical: 0.977704 analytic: 0.977704, relative error: 3.837153e-08\n",
      "numerical: 0.823404 analytic: 0.823404, relative error: 3.451894e-08\n",
      "numerical: -5.053515 analytic: -5.053515, relative error: 7.565335e-10\n",
      "numerical: 1.091407 analytic: 1.091407, relative error: 4.047056e-08\n",
      "numerical: 0.244629 analytic: 0.244629, relative error: 3.489639e-08\n",
      "numerical: -1.040072 analytic: -1.040072, relative error: 2.741631e-08\n"
     ]
    }
   ],
   "source": [
    "# Complete the implementation of softmax_loss_naive and implement a (naive)\n",
    "# version of the gradient that uses nested loops.\n",
    "loss, grad = softmax_loss_naive(W, X_dev, y_dev, 0.0)\n",
    "\n",
    "# As we did for the SVM, use numeric gradient checking as a debugging tool.\n",
    "# The numeric gradient should be close to the analytic gradient.\n",
    "from cs231n.gradient_check import grad_check_sparse\n",
    "f = lambda w: softmax_loss_naive(w, X_dev, y_dev, 0.0)[0]\n",
    "grad_numerical = grad_check_sparse(f, W, grad, 10)\n",
    "\n",
    "# similar to SVM case, do another gradient check with regularization\n",
    "loss, grad = softmax_loss_naive(W, X_dev, y_dev, 5e1)\n",
    "f = lambda w: softmax_loss_naive(w, X_dev, y_dev, 5e1)[0]\n",
    "grad_numerical = grad_check_sparse(f, W, grad, 10)"
   ]
  },
  {
   "cell_type": "code",
   "execution_count": 5,
   "metadata": {},
   "outputs": [
    {
     "name": "stdout",
     "output_type": "stream",
     "text": [
      "naive loss: 2.369016e+00 computed in 0.076692s\n",
      "vectorized loss: 2.369016e+00 computed in 0.018601s\n",
      "Loss difference: 0.000000\n",
      "Gradient difference: 0.000000\n"
     ]
    }
   ],
   "source": [
    "# Now that we have a naive implementation of the softmax loss function and its gradient,\n",
    "# implement a vectorized version in softmax_loss_vectorized.\n",
    "# The two versions should compute the same results, but the vectorized version should be\n",
    "# much faster.\n",
    "tic = time.time()\n",
    "loss_naive, grad_naive = softmax_loss_naive(W, X_dev, y_dev, 0.000005)\n",
    "toc = time.time()\n",
    "print('naive loss: %e computed in %fs' % (loss_naive, toc - tic))\n",
    "\n",
    "from cs231n.classifiers.softmax import softmax_loss_vectorized\n",
    "tic = time.time()\n",
    "loss_vectorized, grad_vectorized = softmax_loss_vectorized(W, X_dev, y_dev, 0.000005)\n",
    "toc = time.time()\n",
    "print('vectorized loss: %e computed in %fs' % (loss_vectorized, toc - tic))\n",
    "\n",
    "# As we did for the SVM, we use the Frobenius norm to compare the two versions\n",
    "# of the gradient.\n",
    "grad_difference = np.linalg.norm(grad_naive - grad_vectorized, ord='fro')\n",
    "print('Loss difference: %f' % np.abs(loss_naive - loss_vectorized))\n",
    "print('Gradient difference: %f' % grad_difference)"
   ]
  },
  {
   "cell_type": "code",
   "execution_count": 6,
   "metadata": {
    "scrolled": true
   },
   "outputs": [
    {
     "name": "stdout",
     "output_type": "stream",
     "text": [
      "iteration 0 / 2000: loss 781.097875\n",
      "iteration 100 / 2000: loss 286.870787\n",
      "iteration 200 / 2000: loss 106.195129\n",
      "iteration 300 / 2000: loss 40.174854\n",
      "iteration 400 / 2000: loss 16.008852\n",
      "iteration 500 / 2000: loss 7.146698\n",
      "iteration 600 / 2000: loss 4.012513\n",
      "iteration 700 / 2000: loss 2.748914\n",
      "iteration 800 / 2000: loss 2.337956\n",
      "iteration 900 / 2000: loss 2.207578\n",
      "iteration 1000 / 2000: loss 2.107756\n",
      "iteration 1100 / 2000: loss 2.080019\n",
      "iteration 1200 / 2000: loss 2.086172\n",
      "iteration 1300 / 2000: loss 2.083953\n",
      "iteration 1400 / 2000: loss 2.149077\n",
      "iteration 1500 / 2000: loss 2.125687\n",
      "iteration 1600 / 2000: loss 2.130316\n",
      "iteration 1700 / 2000: loss 2.115970\n",
      "iteration 1800 / 2000: loss 2.069534\n",
      "iteration 1900 / 2000: loss 2.094528\n",
      "iteration 0 / 2000: loss 1545.793694\n",
      "iteration 100 / 2000: loss 208.086251\n",
      "iteration 200 / 2000: loss 29.642381\n",
      "iteration 300 / 2000: loss 5.800021\n",
      "iteration 400 / 2000: loss 2.613717\n",
      "iteration 500 / 2000: loss 2.206271\n",
      "iteration 600 / 2000: loss 2.127776\n",
      "iteration 700 / 2000: loss 2.120861\n",
      "iteration 800 / 2000: loss 2.147310\n",
      "iteration 900 / 2000: loss 2.165399\n",
      "iteration 1000 / 2000: loss 2.156025\n",
      "iteration 1100 / 2000: loss 2.174209\n",
      "iteration 1200 / 2000: loss 2.086463\n",
      "iteration 1300 / 2000: loss 2.125716\n",
      "iteration 1400 / 2000: loss 2.091414\n",
      "iteration 1500 / 2000: loss 2.176356\n",
      "iteration 1600 / 2000: loss 2.126356\n",
      "iteration 1700 / 2000: loss 2.168231\n",
      "iteration 1800 / 2000: loss 2.168202\n",
      "iteration 1900 / 2000: loss 2.195966\n",
      "iteration 0 / 2000: loss 763.631937\n",
      "iteration 100 / 2000: loss 6.812921\n",
      "iteration 200 / 2000: loss 2.208816\n",
      "iteration 300 / 2000: loss 2.090543\n",
      "iteration 400 / 2000: loss 2.110438\n",
      "iteration 500 / 2000: loss 2.065808\n",
      "iteration 600 / 2000: loss 2.076078\n",
      "iteration 700 / 2000: loss 2.121062\n",
      "iteration 800 / 2000: loss 2.116941\n",
      "iteration 900 / 2000: loss 2.083775\n",
      "iteration 1000 / 2000: loss 2.111096\n",
      "iteration 1100 / 2000: loss 2.101034\n",
      "iteration 1200 / 2000: loss 2.060089\n",
      "iteration 1300 / 2000: loss 2.135156\n",
      "iteration 1400 / 2000: loss 2.099758\n",
      "iteration 1500 / 2000: loss 2.116355\n",
      "iteration 1600 / 2000: loss 2.103047\n",
      "iteration 1700 / 2000: loss 2.105788\n",
      "iteration 1800 / 2000: loss 2.100779\n",
      "iteration 1900 / 2000: loss 2.042136\n",
      "iteration 0 / 2000: loss 1542.928632\n",
      "iteration 100 / 2000: loss 2.224513\n",
      "iteration 200 / 2000: loss 2.119099\n",
      "iteration 300 / 2000: loss 2.126589\n",
      "iteration 400 / 2000: loss 2.126369\n",
      "iteration 500 / 2000: loss 2.164075\n",
      "iteration 600 / 2000: loss 2.156579\n",
      "iteration 700 / 2000: loss 2.163234\n",
      "iteration 800 / 2000: loss 2.135504\n",
      "iteration 900 / 2000: loss 2.110534\n",
      "iteration 1000 / 2000: loss 2.132321\n",
      "iteration 1100 / 2000: loss 2.162939\n",
      "iteration 1200 / 2000: loss 2.161134\n",
      "iteration 1300 / 2000: loss 2.110189\n",
      "iteration 1400 / 2000: loss 2.125822\n",
      "iteration 1500 / 2000: loss 2.179033\n",
      "iteration 1600 / 2000: loss 2.170506\n",
      "iteration 1700 / 2000: loss 2.178853\n",
      "iteration 1800 / 2000: loss 2.138266\n",
      "iteration 1900 / 2000: loss 2.144456\n",
      "lr 1.000000e-07 reg 2.500000e+04 train accuracy: 0.327673 val accuracy: 0.349000\n",
      "lr 1.000000e-07 reg 5.000000e+04 train accuracy: 0.305265 val accuracy: 0.319000\n",
      "lr 5.000000e-07 reg 2.500000e+04 train accuracy: 0.335714 val accuracy: 0.356000\n",
      "lr 5.000000e-07 reg 5.000000e+04 train accuracy: 0.298510 val accuracy: 0.318000\n",
      "best validation accuracy achieved during cross-validation: 0.356000\n"
     ]
    }
   ],
   "source": [
    "# Use the validation set to tune hyperparameters (regularization strength and\n",
    "# learning rate). You should experiment with different ranges for the learning\n",
    "# rates and regularization strengths; if you are careful you should be able to\n",
    "# get a classification accuracy of over 0.35 on the validation set.\n",
    "from cs231n.classifiers import Softmax\n",
    "results = {}\n",
    "best_val = -1\n",
    "best_softmax = None\n",
    "learning_rates = [1e-7, 5e-7]\n",
    "regularization_strengths = [2.5e4, 5e4]\n",
    "\n",
    "################################################################################\n",
    "# TODO:                                                                        #\n",
    "# Use the validation set to set the learning rate and regularization strength. #\n",
    "# This should be identical to the validation that you did for the SVM; save    #\n",
    "# the best trained softmax classifer in best_softmax.                          #\n",
    "################################################################################\n",
    "for lr in learning_rates:\n",
    "    for reg in regularization_strengths:\n",
    "        model = Softmax()\n",
    "        loss_hist = model.train(X_train, y_train, learning_rate=lr, reg=reg,\n",
    "                              num_iters=2000, verbose=True)\n",
    "        y_train_pred = model.predict(X_train)\n",
    "        y_val_pred = model.predict(X_val)\n",
    "        trn_acc = np.mean(y_train == y_train_pred)\n",
    "        val_acc = np.mean(y_val == y_val_pred)\n",
    "        results[(lr, reg)] = (trn_acc, val_acc)\n",
    "        if val_acc > best_val:\n",
    "            best_val, best_softmax = val_acc, model\n",
    "################################################################################\n",
    "#                              END OF YOUR CODE                                #\n",
    "################################################################################\n",
    "    \n",
    "# Print out results.\n",
    "for lr, reg in sorted(results):\n",
    "    train_accuracy, val_accuracy = results[(lr, reg)]\n",
    "    print('lr %e reg %e train accuracy: %f val accuracy: %f' % (\n",
    "                lr, reg, train_accuracy, val_accuracy))\n",
    "    \n",
    "print('best validation accuracy achieved during cross-validation: %f' % best_val)"
   ]
  },
  {
   "cell_type": "code",
   "execution_count": 7,
   "metadata": {},
   "outputs": [
    {
     "name": "stdout",
     "output_type": "stream",
     "text": [
      "softmax on raw pixels final test set accuracy: 0.328000\n"
     ]
    }
   ],
   "source": [
    "# evaluate on test set\n",
    "# Evaluate the best softmax on test set\n",
    "y_test_pred = best_softmax.predict(X_test)\n",
    "test_accuracy = np.mean(y_test == y_test_pred)\n",
    "print('softmax on raw pixels final test set accuracy: %f' % (test_accuracy, ))"
   ]
  },
  {
   "cell_type": "code",
   "execution_count": 8,
   "metadata": {},
   "outputs": [
    {
     "data": {
      "image/png": "[encoded data removed]",
      "text/plain": [
       "<matplotlib.figure.Figure at 0x7f796c2046a0>"
      ]
     },
     "metadata": {},
     "output_type": "display_data"
    }
   ],
   "source": [
    "# Visualize the learned weights for each class\n",
    "w = best_softmax.W[:-1,:] # strip out the bias\n",
    "w = w.reshape(32, 32, 3, 10)\n",
    "\n",
    "w_min, w_max = np.min(w), np.max(w)\n",
    "\n",
    "classes = ['plane', 'car', 'bird', 'cat', 'deer', 'dog', 'frog', 'horse', 'ship', 'truck']\n",
    "for i in range(10):\n",
    "    plt.subplot(2, 5, i + 1)\n",
    "    \n",
    "    # Rescale the weights to be between 0 and 255\n",
    "    wimg = 255.0 * (w[:, :, :, i].squeeze() - w_min) / (w_max - w_min)\n",
    "    plt.imshow(wimg.astype('uint8'))\n",
    "    plt.axis('off')\n",
    "    plt.title(classes[i])"
   ]
  }
 ],
 "metadata": {
  "kernelspec": {
   "display_name": "Python 3",
   "language": "python",
   "name": "python3"
  },
  "language_info": {
   "codemirror_mode": {
    "name": "ipython",
    "version": 3
   },
   "file_extension": ".py",
   "mimetype": "text/x-python",
   "name": "python",
   "nbconvert_exporter": "python",
   "pygments_lexer": "ipython3",
   "version": "3.6.4"
  }
 },
 "nbformat": 4,
 "nbformat_minor": 1
}
